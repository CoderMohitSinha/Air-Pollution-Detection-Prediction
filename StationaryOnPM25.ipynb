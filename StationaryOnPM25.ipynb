{
  "nbformat": 4,
  "nbformat_minor": 0,
  "metadata": {
    "colab": {
      "name": "StationaryOnPM25.ipynb",
      "version": "0.3.2",
      "provenance": [],
      "collapsed_sections": [],
      "include_colab_link": true
    },
    "kernelspec": {
      "name": "python3",
      "display_name": "Python 3"
    }
  },
  "cells": [
    {
      "cell_type": "markdown",
      "metadata": {
        "id": "view-in-github",
        "colab_type": "text"
      },
      "source": [
        "<a href=\"https://colab.research.google.com/github/bharti0420/Air-Pollution-Detection-Prediction/blob/master/StationaryOnPM25.ipynb\" target=\"_parent\"><img src=\"https://colab.research.google.com/assets/colab-badge.svg\" alt=\"Open In Colab\"/></a>"
      ]
    },
    {
      "metadata": {
        "id": "8CRkuD1ABC3D",
        "colab_type": "code",
        "colab": {}
      },
      "cell_type": "code",
      "source": [
        "!pip install arch"
      ],
      "execution_count": 0,
      "outputs": []
    },
    {
      "metadata": {
        "id": "KzunG_EtdNHv",
        "colab_type": "code",
        "colab": {}
      },
      "cell_type": "code",
      "source": [
        "from pandas import DataFrame\n",
        "import os\n",
        "import pandas as pd\n",
        "from matplotlib import pyplot as plt\n",
        "import numpy as np\n",
        "from datetime import *\n",
        "import csv\n",
        "from sklearn.metrics import mean_squared_error\n",
        "from math import sqrt\n",
        "from matplotlib.pylab import rcParams\n",
        "%matplotlib inline\n",
        "rcParams['figure.figsize']=10,6"
      ],
      "execution_count": 0,
      "outputs": []
    },
    {
      "metadata": {
        "id": "H830jPRGBEvB",
        "colab_type": "code",
        "colab": {}
      },
      "cell_type": "code",
      "source": [
        "from arch.unitroot import ADF"
      ],
      "execution_count": 0,
      "outputs": []
    },
    {
      "metadata": {
        "id": "QPXDyFWzdOOf",
        "colab_type": "code",
        "colab": {}
      },
      "cell_type": "code",
      "source": [
        "import statsmodels.api as sm\n",
        "import statsmodels.tsa.stattools as ts\n",
        "from statsmodels.tsa.ar_model import AR\n",
        "from statsmodels.tsa.arima_model import ARIMA\n",
        "from statsmodels.tsa.stattools import coint, adfuller, kpss"
      ],
      "execution_count": 0,
      "outputs": []
    },
    {
      "metadata": {
        "id": "ASiNb8PIwVam",
        "colab_type": "code",
        "colab": {}
      },
      "cell_type": "code",
      "source": [
        "import operator"
      ],
      "execution_count": 0,
      "outputs": []
    },
    {
      "metadata": {
        "id": "CE6QmfRVdt-v",
        "colab_type": "code",
        "colab": {}
      },
      "cell_type": "code",
      "source": [
        ""
      ],
      "execution_count": 0,
      "outputs": []
    },
    {
      "metadata": {
        "id": "Hn1wNfcydtvR",
        "colab_type": "code",
        "colab": {}
      },
      "cell_type": "code",
      "source": [
        ""
      ],
      "execution_count": 0,
      "outputs": []
    },
    {
      "metadata": {
        "id": "of9G2gZTBK8v",
        "colab_type": "code",
        "colab": {}
      },
      "cell_type": "code",
      "source": [
        "def testStationaryAdfuller(file_name,year,ts,cutoff=0.05):\n",
        "  s=\"Result of \"+file_name+\" site and year\" + year\n",
        "  print(s)\n",
        "  ts_test=ADF(ts)\n",
        "  print ('Results of ADF Test:')\n",
        "  print(ts_test)\n",
        "  p_value=ts_test.pvalue\n",
        "  p_value=round(p_value,5)\n",
        "  if p_value <= cutoff:\n",
        "    print(\"\\nStrong evidence against the null hypothesis, reject the null hypothesis. Data has no unit root, hence it is stationary\\n\")\n",
        "  else:\n",
        "    print(\"\\nWeak evidence against null hypothesis, time series has a unit root, indicating it is non-stationary\\n\")"
      ],
      "execution_count": 0,
      "outputs": []
    },
    {
      "metadata": {
        "id": "Fs5H42rIdtBf",
        "colab_type": "code",
        "colab": {}
      },
      "cell_type": "code",
      "source": [
        "def dataFilter(file_name, lengthList):\n",
        "  df=pd.read_csv(file_name)\n",
        "  #print(len(df))\n",
        "  lengthList[file_name]=len(df)\n",
        "  df['from date'] = pd.to_datetime(df['from date'])\n",
        "  df['to date'] = pd.to_datetime(df['to date'])\n",
        "  \n",
        "  #set index (from date is index)\n",
        "  df.set_index(['from date'],drop=True, inplace=True)\n",
        "  \n",
        "  df = df[pd.notnull(df['PM2.5'])]\n",
        "  #print(len(df))\n",
        "  lengthList[file_name]=(len(df)/lengthList[file_name])*100\n",
        "  years = [g for n, g in df.set_index('to date').groupby(pd.TimeGrouper('A'))]\n",
        "  print(\"Total Year:\\n\",len(years))\n",
        "  year_list=['2016','2017','2018']\n",
        "  for i in range(0,3):\n",
        "    df=years[i]\n",
        "    testStationaryAdfuller(file_name,year_list[i],df['PM2.5'])\n",
        "  \n",
        "  "
      ],
      "execution_count": 0,
      "outputs": []
    },
    {
      "metadata": {
        "id": "p-LlyRkndWTc",
        "colab_type": "code",
        "colab": {}
      },
      "cell_type": "code",
      "source": [
        "from google.colab import files\n",
        "uploaded = files.upload()"
      ],
      "execution_count": 0,
      "outputs": []
    },
    {
      "metadata": {
        "id": "CjvgLDEpdbPL",
        "colab_type": "code",
        "colab": {}
      },
      "cell_type": "code",
      "source": [
        "lengthList=dict()\n",
        "for fn in uploaded.keys():\n",
        "  dataFilter(fn,lengthList)\n",
        "  print(\"-----------------------------------------------------------------------------------------------------------\\n\\n\")\n",
        "print(\"\\n\\n\")\n",
        "print(lengthList)\n",
        "baseStation=max(lengthList.items(), key=operator.itemgetter(1))[0]\n",
        "print(\"Base Station: \",baseStation)"
      ],
      "execution_count": 0,
      "outputs": []
    },
    {
      "metadata": {
        "id": "C9KkyCvz6PR2",
        "colab_type": "text"
      },
      "cell_type": "markdown",
      "source": [
        "### Granger Causality test"
      ]
    },
    {
      "metadata": {
        "id": "zYKUtnjR6jlY",
        "colab_type": "code",
        "outputId": "034b8416-6e2d-42b9-9eba-2000e536ed66",
        "colab": {
          "resources": {
            "http://localhost:8080/nbextensions/google.colab/files.js": {
              "data": "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",
              "ok": true,
              "headers": [
                [
                  "content-type",
                  "application/javascript"
                ]
              ],
              "status": 200,
              "status_text": ""
            }
          },
          "base_uri": "https://localhost:8080/",
          "height": 108
        }
      },
      "cell_type": "code",
      "source": [
        "#from google.colab import files\n",
        "#uploaded = files.upload()"
      ],
      "execution_count": 0,
      "outputs": [
        {
          "output_type": "display_data",
          "data": {
            "text/html": [
              "\n",
              "     <input type=\"file\" id=\"files-9084ddb5-92f1-419a-8f37-8f351f5c5ea8\" name=\"files[]\" multiple disabled />\n",
              "     <output id=\"result-9084ddb5-92f1-419a-8f37-8f351f5c5ea8\">\n",
              "      Upload widget is only available when the cell has been executed in the\n",
              "      current browser session. Please rerun this cell to enable.\n",
              "      </output>\n",
              "      <script src=\"/nbextensions/google.colab/files.js\"></script> "
            ],
            "text/plain": [
              "<IPython.core.display.HTML object>"
            ]
          },
          "metadata": {
            "tags": []
          }
        },
        {
          "output_type": "stream",
          "text": [
            "Saving complete146.csv to complete146 (1).csv\n",
            "Saving complete147.csv to complete147.csv\n"
          ],
          "name": "stdout"
        }
      ]
    },
    {
      "metadata": {
        "id": "8fzFdlEe-wkc",
        "colab_type": "code",
        "colab": {}
      },
      "cell_type": "code",
      "source": [
        "filename_list=[]\n",
        "for fn in uploaded.keys():\n",
        "  filename_list.append(fn)\n",
        "#print(filename_list)"
      ],
      "execution_count": 0,
      "outputs": []
    },
    {
      "metadata": {
        "id": "bWfasb0Z-xCQ",
        "colab_type": "code",
        "colab": {}
      },
      "cell_type": "code",
      "source": [
        "df_146=pd.read_csv(filename_list[0])\n",
        "df_147=pd.read_csv(filename_list[1])"
      ],
      "execution_count": 0,
      "outputs": []
    },
    {
      "metadata": {
        "id": "NKQ0YCS76kKi",
        "colab_type": "code",
        "outputId": "16f0be97-c85f-44e5-f35d-0267d7316ec1",
        "colab": {
          "base_uri": "https://localhost:8080/",
          "height": 51
        }
      },
      "cell_type": "code",
      "source": [
        "print(len(df_146))\n",
        "print(len(df_147))"
      ],
      "execution_count": 0,
      "outputs": [
        {
          "output_type": "stream",
          "text": [
            "32779\n",
            "105120\n"
          ],
          "name": "stdout"
        }
      ]
    },
    {
      "metadata": {
        "id": "vV-sO7Y9_3sh",
        "colab_type": "code",
        "colab": {}
      },
      "cell_type": "code",
      "source": [
        "df_146['from date']=pd.to_datetime(df_146['from date'])\n",
        "df_146['to date']=pd.to_datetime(df_146['to date'])\n",
        "\n",
        "df_147['from date']=pd.to_datetime(df_147['from date'])\n",
        "df_147['to date']=pd.to_datetime(df_147['to date'])"
      ],
      "execution_count": 0,
      "outputs": []
    },
    {
      "metadata": {
        "id": "xzzUQdhb_SgN",
        "colab_type": "code",
        "colab": {}
      },
      "cell_type": "code",
      "source": [
        "df_146=df_146[pd.notnull(df_146['PM2.5'])]\n",
        "df_147=df_147[pd.notnull(df_147['PM2.5'])]\n"
      ],
      "execution_count": 0,
      "outputs": []
    },
    {
      "metadata": {
        "id": "AYi1kZH4FgAO",
        "colab_type": "code",
        "colab": {}
      },
      "cell_type": "code",
      "source": [
        "df_146.rename(columns={'PM2.5':'PM2.5_146'},inplace=True)\n",
        "df_147.rename(columns={'PM2.5':'PM2.5_147'},inplace=True)\n"
      ],
      "execution_count": 0,
      "outputs": []
    },
    {
      "metadata": {
        "id": "2H_VnmDpCxQp",
        "colab_type": "code",
        "outputId": "e29ae0ac-b9d2-4e61-d6d4-de1d4eba939a",
        "colab": {
          "base_uri": "https://localhost:8080/",
          "height": 34
        }
      },
      "cell_type": "code",
      "source": [
        "df=pd.merge(df_146,df_147,how='inner',on=['from date','to date'])\n",
        "list1=list(df['from date'])\n",
        "list2=list(df['to date'])\n",
        "pm_146=list(df['PM2.5_146'])\n",
        "pm_147=list(df['PM2.5_147'])\n",
        "print(len(list1))\n",
        "col_list=['from date','to date','PM2.5_146','PM2.5_147']\n",
        "df=df[col_list]\n",
        "from statsmodels.tsa.stattools  import   grangercausalitytests\n",
        "print(grangercausalitytests(df[['PM2.5_146', 'PM2.5_147']], maxlag=5, addconst=True, verbose=True))\n",
        "\n",
        "\n"
      ],
      "execution_count": 0,
      "outputs": [
        {
          "output_type": "stream",
          "text": [
            "16216\n"
          ],
          "name": "stdout"
        }
      ]
    },
    {
      "metadata": {
        "id": "uAbEmg4eXPHp",
        "colab_type": "code",
        "colab": {}
      },
      "cell_type": "code",
      "source": [
        "def granger_causality_test(df_delhi_124,df_common,site_name):\n",
        "  df_delhi_124['from date']=pd.to_datetime(df_delhi_124['from date'])\n",
        "  df_delhi_124['to date']=pd.to_datetime(df_delhi_124['to date'])\n",
        "  df_common['from date']=pd.to_datetime(df_common['from date'])\n",
        "  df_common['to date']=pd.to_datetime(df_common['to date'])\n",
        "  \n",
        "  #remove null value of PM2.5\n",
        "  df_common=df_common[pd.notnull(df_common['PM2.5'])]\n",
        "  \n",
        "  #intersection of both dataframe for PM2.5 of same time\n",
        "  df=pd.merge(df_delhi_124,df_common,how='inner',on=['from date','to date'])\n",
        "  col_list=['from date','to date','PM2.5_124','PM2.5']\n",
        "  df=df[col_list]\n",
        "  \n",
        "  print(\"Granger Test between Delhi site 124 and the \"+ site_name+\".\")\n",
        "  \n",
        "  print(grangercausalitytests(df[['PM2.5_124', 'PM2.5']], maxlag=5, addconst=True, verbose=True))\n",
        "  print(\"-------------------------------------------------------------------------------------------------------------\\n\\n\")\n",
        "  "
      ],
      "execution_count": 0,
      "outputs": []
    },
    {
      "metadata": {
        "id": "HhoffD3yhWIT",
        "colab_type": "text"
      },
      "cell_type": "markdown",
      "source": [
        "### For Delhi Site"
      ]
    },
    {
      "metadata": {
        "id": "R12W0ol8Q2R2",
        "colab_type": "code",
        "outputId": "8b86b92f-8417-47b0-a888-b3f26f50e6c6",
        "colab": {
          "resources": {
            "http://localhost:8080/nbextensions/google.colab/files.js": {
              "data": "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",
              "ok": true,
              "headers": [
                [
                  "content-type",
                  "application/javascript"
                ]
              ],
              "status": 200,
              "status_text": ""
            }
          },
          "base_uri": "https://localhost:8080/",
          "height": 74
        }
      },
      "cell_type": "code",
      "source": [
        "from google.colab import files\n",
        "uploaded = files.upload()"
      ],
      "execution_count": 3,
      "outputs": [
        {
          "output_type": "display_data",
          "data": {
            "text/html": [
              "\n",
              "     <input type=\"file\" id=\"files-31e72fb7-6b13-40cc-8dcc-b9cbbef8ef10\" name=\"files[]\" multiple disabled />\n",
              "     <output id=\"result-31e72fb7-6b13-40cc-8dcc-b9cbbef8ef10\">\n",
              "      Upload widget is only available when the cell has been executed in the\n",
              "      current browser session. Please rerun this cell to enable.\n",
              "      </output>\n",
              "      <script src=\"/nbextensions/google.colab/files.js\"></script> "
            ],
            "text/plain": [
              "<IPython.core.display.HTML object>"
            ]
          },
          "metadata": {
            "tags": []
          }
        },
        {
          "output_type": "stream",
          "text": [
            "Saving 124_complete.csv to 124_complete.csv\n"
          ],
          "name": "stdout"
        }
      ]
    },
    {
      "metadata": {
        "id": "MAULgGZKYfp_",
        "colab_type": "code",
        "outputId": "ef9f9068-fc68-4101-93d8-67a9902a5920",
        "colab": {
          "base_uri": "https://localhost:8080/",
          "height": 34
        }
      },
      "cell_type": "code",
      "source": [
        "delhi_site1=\"\"\n",
        "for fn in uploaded.keys():\n",
        "  delhi_site1=fn\n",
        "delhi_site=delhi_site1\n",
        "\n",
        "print(delhi_site)"
      ],
      "execution_count": 4,
      "outputs": [
        {
          "output_type": "stream",
          "text": [
            "124_complete.csv\n"
          ],
          "name": "stdout"
        }
      ]
    },
    {
      "metadata": {
        "id": "3kGGbZASbBap",
        "colab_type": "code",
        "colab": {}
      },
      "cell_type": "code",
      "source": [
        "df_delhi_124=pd.read_csv(delhi_site)\n",
        "df_delhi_124=df_delhi_124[pd.notnull(df_delhi_124['PM2.5'])]\n",
        "df_delhi_124.rename(columns={'PM2.5':'PM2.5_124'},inplace=True)\n"
      ],
      "execution_count": 0,
      "outputs": []
    },
    {
      "metadata": {
        "id": "kD5lGDAIZ6h5",
        "colab_type": "text"
      },
      "cell_type": "markdown",
      "source": [
        "### For Haryana sites"
      ]
    },
    {
      "metadata": {
        "id": "encdrnYYW9Nb",
        "colab_type": "code",
        "outputId": "7a16ba4f-5e65-4669-a360-7b951808ca5c",
        "colab": {
          "resources": {
            "http://localhost:8080/nbextensions/google.colab/files.js": {
              "data": "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",
              "ok": true,
              "headers": [
                [
                  "content-type",
                  "application/javascript"
                ]
              ],
              "status": 200,
              "status_text": ""
            }
          },
          "base_uri": "https://localhost:8080/",
          "height": 176
        }
      },
      "cell_type": "code",
      "source": [
        "from google.colab import files\n",
        "uploaded = files.upload()"
      ],
      "execution_count": 16,
      "outputs": [
        {
          "output_type": "display_data",
          "data": {
            "text/html": [
              "\n",
              "     <input type=\"file\" id=\"files-e5d53bef-85c2-4cc2-bf9b-0d7befe89c2f\" name=\"files[]\" multiple disabled />\n",
              "     <output id=\"result-e5d53bef-85c2-4cc2-bf9b-0d7befe89c2f\">\n",
              "      Upload widget is only available when the cell has been executed in the\n",
              "      current browser session. Please rerun this cell to enable.\n",
              "      </output>\n",
              "      <script src=\"/nbextensions/google.colab/files.js\"></script> "
            ],
            "text/plain": [
              "<IPython.core.display.HTML object>"
            ]
          },
          "metadata": {
            "tags": []
          }
        },
        {
          "output_type": "stream",
          "text": [
            "Saving complete146.csv to complete146.csv\n",
            "Saving complete147.csv to complete147.csv\n",
            "Saving complete161.csv to complete161.csv\n",
            "Saving complete263.csv to complete263.csv\n"
          ],
          "name": "stdout"
        }
      ]
    },
    {
      "metadata": {
        "id": "0jLYkzJaYXBb",
        "colab_type": "code",
        "outputId": "bbd56441-bb52-4b6e-b648-259b4fed884e",
        "colab": {
          "base_uri": "https://localhost:8080/",
          "height": 34
        }
      },
      "cell_type": "code",
      "source": [
        "haryana_list=[]\n",
        "for fn in uploaded.keys():\n",
        "  haryana_list.append(fn)\n",
        "print(haryana_list)\n",
        "\n",
        "  "
      ],
      "execution_count": 17,
      "outputs": [
        {
          "output_type": "stream",
          "text": [
            "['complete146.csv', 'complete147.csv', 'complete161.csv', 'complete263.csv']\n"
          ],
          "name": "stdout"
        }
      ]
    },
    {
      "metadata": {
        "id": "rfrsy6KwfX7x",
        "colab_type": "code",
        "outputId": "351ccef3-8f36-4f9c-a7ee-459be1d89d8d",
        "colab": {
          "base_uri": "https://localhost:8080/",
          "height": 3573
        }
      },
      "cell_type": "code",
      "source": [
        "site_list=['146','147','161','163']\n",
        "for i in range(len(haryana_list)):\n",
        "  df=pd.read_csv(haryana_list[i])\n",
        "  site_name='Haryana site '+site_list[i]\n",
        "  granger_causality_test(df_delhi_124,df,site_name)\n",
        "  print(\"\\n\")\n",
        "#print(\"-------------------------------------------------------------------------------------------------------------\\n\\n\")"
      ],
      "execution_count": 20,
      "outputs": [
        {
          "output_type": "stream",
          "text": [
            "Granger Test between Delhi site 124 and the Haryana site 146.\n",
            "\n",
            "Granger Causality\n",
            "number of lags (no zero) 1\n",
            "ssr based F test:         F=63.1059 , p=0.0000  , df_denom=75773, df_num=1\n",
            "ssr based chi2 test:   chi2=63.1084 , p=0.0000  , df=1\n",
            "likelihood ratio test: chi2=63.0822 , p=0.0000  , df=1\n",
            "parameter F test:         F=63.1059 , p=0.0000  , df_denom=75773, df_num=1\n",
            "\n",
            "Granger Causality\n",
            "number of lags (no zero) 2\n",
            "ssr based F test:         F=34.3645 , p=0.0000  , df_denom=75770, df_num=2\n",
            "ssr based chi2 test:   chi2=68.7335 , p=0.0000  , df=2\n",
            "likelihood ratio test: chi2=68.7023 , p=0.0000  , df=2\n",
            "parameter F test:         F=34.3645 , p=0.0000  , df_denom=75770, df_num=2\n",
            "\n",
            "Granger Causality\n",
            "number of lags (no zero) 3\n",
            "ssr based F test:         F=26.3545 , p=0.0000  , df_denom=75767, df_num=3\n",
            "ssr based chi2 test:   chi2=79.0707 , p=0.0000  , df=3\n",
            "likelihood ratio test: chi2=79.0295 , p=0.0000  , df=3\n",
            "parameter F test:         F=26.3545 , p=0.0000  , df_denom=75767, df_num=3\n",
            "\n",
            "Granger Causality\n",
            "number of lags (no zero) 4\n",
            "ssr based F test:         F=19.6564 , p=0.0000  , df_denom=75764, df_num=4\n",
            "ssr based chi2 test:   chi2=78.6351 , p=0.0000  , df=4\n",
            "likelihood ratio test: chi2=78.5943 , p=0.0000  , df=4\n",
            "parameter F test:         F=19.6564 , p=0.0000  , df_denom=75764, df_num=4\n",
            "\n",
            "Granger Causality\n",
            "number of lags (no zero) 5\n",
            "ssr based F test:         F=17.4507 , p=0.0000  , df_denom=75761, df_num=5\n",
            "ssr based chi2 test:   chi2=87.2664 , p=0.0000  , df=5\n",
            "likelihood ratio test: chi2=87.2162 , p=0.0000  , df=5\n",
            "parameter F test:         F=17.4507 , p=0.0000  , df_denom=75761, df_num=5\n",
            "{1: ({'ssr_ftest': (63.105941002379815, 1.9855370108063792e-15, 75773.0, 1), 'ssr_chi2test': (63.108439488951646, 1.9563408597838194e-15, 1), 'lrtest': (63.082174805924296, 1.9826020894787072e-15, 1), 'params_ftest': (63.10594100239598, 1.9855370107743116e-15, 75773.0, 1)}, [<statsmodels.regression.linear_model.RegressionResultsWrapper object at 0x7f75735a94e0>, <statsmodels.regression.linear_model.RegressionResultsWrapper object at 0x7f75735a9a58>, array([[0., 1., 0.]])]), 2: ({'ssr_ftest': (34.36447673076556, 1.2090994152455667e-15, 75770.0, 2), 'ssr_chi2test': (68.73348882865938, 1.1877158164484092e-15, 2), 'lrtest': (68.70233450620435, 1.2063619067564089e-15, 2), 'params_ftest': (34.364476730763755, 1.2090994152455667e-15, 75770.0, 2)}, [<statsmodels.regression.linear_model.RegressionResultsWrapper object at 0x7f75735a9d30>, <statsmodels.regression.linear_model.RegressionResultsWrapper object at 0x7f75735a9e10>, array([[0., 0., 1., 0., 0.],\n",
            "       [0., 0., 0., 1., 0.]])]), 3: ({'ssr_ftest': (26.354475129829304, 4.973300561652327e-17, 75767.0, 3), 'ssr_chi2test': (79.07072994130766, 4.856786123543895e-17, 3), 'lrtest': (79.02950317307841, 4.95667874280642e-17, 3), 'params_ftest': (26.354475129834587, 4.9733005616136326e-17, 75767.0, 3)}, [<statsmodels.regression.linear_model.RegressionResultsWrapper object at 0x7f75735a9c50>, <statsmodels.regression.linear_model.RegressionResultsWrapper object at 0x7f7572556160>, array([[0., 0., 0., 1., 0., 0., 0.],\n",
            "       [0., 0., 0., 0., 1., 0., 0.],\n",
            "       [0., 0., 0., 0., 0., 1., 0.]])]), 4: ({'ssr_ftest': (19.656431930433797, 3.4713429680525e-16, 75764.0, 4), 'ssr_chi2test': (78.63506766616125, 3.389268484630344e-16, 4), 'lrtest': (78.59429325326346, 3.4573262299079575e-16, 4), 'params_ftest': (19.656431930417163, 3.4713429681801185e-16, 75764.0, 4)}, [<statsmodels.regression.linear_model.RegressionResultsWrapper object at 0x7f75725564a8>, <statsmodels.regression.linear_model.RegressionResultsWrapper object at 0x7f7572556588>, array([[0., 0., 0., 0., 1., 0., 0., 0., 0.],\n",
            "       [0., 0., 0., 0., 0., 1., 0., 0., 0.],\n",
            "       [0., 0., 0., 0., 0., 0., 1., 0., 0.],\n",
            "       [0., 0., 0., 0., 0., 0., 0., 1., 0.]])]), 5: ({'ssr_ftest': (17.450741498934946, 2.594842384715877e-17, 75761.0, 5), 'ssr_chi2test': (87.2663761603793, 2.519294906601935e-17, 5), 'lrtest': (87.21616250404622, 2.581168211590275e-17, 5), 'params_ftest': (17.450741498941113, 2.5948423846857502e-17, 75761.0, 5)}, [<statsmodels.regression.linear_model.RegressionResultsWrapper object at 0x7f75725563c8>, <statsmodels.regression.linear_model.RegressionResultsWrapper object at 0x7f75725569b0>, array([[0., 0., 0., 0., 0., 1., 0., 0., 0., 0., 0.],\n",
            "       [0., 0., 0., 0., 0., 0., 1., 0., 0., 0., 0.],\n",
            "       [0., 0., 0., 0., 0., 0., 0., 1., 0., 0., 0.],\n",
            "       [0., 0., 0., 0., 0., 0., 0., 0., 1., 0., 0.],\n",
            "       [0., 0., 0., 0., 0., 0., 0., 0., 0., 1., 0.]])])}\n",
            "-------------------------------------------------------------------------------------------------------------\n",
            "\n",
            "\n",
            "\n",
            "\n",
            "Granger Test between Delhi site 124 and the Haryana site 147.\n",
            "\n",
            "Granger Causality\n",
            "number of lags (no zero) 1\n",
            "ssr based F test:         F=93.0790 , p=0.0000  , df_denom=51250, df_num=1\n",
            "ssr based chi2 test:   chi2=93.0844 , p=0.0000  , df=1\n",
            "likelihood ratio test: chi2=93.0000 , p=0.0000  , df=1\n",
            "parameter F test:         F=93.0790 , p=0.0000  , df_denom=51250, df_num=1\n",
            "\n",
            "Granger Causality\n",
            "number of lags (no zero) 2\n",
            "ssr based F test:         F=48.0099 , p=0.0000  , df_denom=51247, df_num=2\n",
            "ssr based chi2 test:   chi2=96.0291 , p=0.0000  , df=2\n",
            "likelihood ratio test: chi2=95.9392 , p=0.0000  , df=2\n",
            "parameter F test:         F=48.0099 , p=0.0000  , df_denom=51247, df_num=2\n",
            "\n",
            "Granger Causality\n",
            "number of lags (no zero) 3\n",
            "ssr based F test:         F=34.5622 , p=0.0000  , df_denom=51244, df_num=3\n",
            "ssr based chi2 test:   chi2=103.7008, p=0.0000  , df=3\n",
            "likelihood ratio test: chi2=103.5960, p=0.0000  , df=3\n",
            "parameter F test:         F=34.5622 , p=0.0000  , df_denom=51244, df_num=3\n",
            "\n",
            "Granger Causality\n",
            "number of lags (no zero) 4\n",
            "ssr based F test:         F=26.2722 , p=0.0000  , df_denom=51241, df_num=4\n",
            "ssr based chi2 test:   chi2=105.1072, p=0.0000  , df=4\n",
            "likelihood ratio test: chi2=104.9995, p=0.0000  , df=4\n",
            "parameter F test:         F=26.2722 , p=0.0000  , df_denom=51241, df_num=4\n",
            "\n",
            "Granger Causality\n",
            "number of lags (no zero) 5\n",
            "ssr based F test:         F=22.3822 , p=0.0000  , df_denom=51238, df_num=5\n",
            "ssr based chi2 test:   chi2=111.9351, p=0.0000  , df=5\n",
            "likelihood ratio test: chi2=111.8130, p=0.0000  , df=5\n",
            "parameter F test:         F=22.3822 , p=0.0000  , df_denom=51238, df_num=5\n",
            "{1: ({'ssr_ftest': (93.078951218332, 5.246312237424242e-22, 51250.0, 1), 'ssr_chi2test': (93.08439974230575, 5.011117213452534e-22, 1), 'lrtest': (92.9999731851276, 5.229504855075438e-22, 1), 'params_ftest': (93.0789512183046, 5.246312237498125e-22, 51250.0, 1)}, [<statsmodels.regression.linear_model.RegressionResultsWrapper object at 0x7f75735a99e8>, <statsmodels.regression.linear_model.RegressionResultsWrapper object at 0x7f75735a9e10>, array([[0., 1., 0.]])]), 2: ({'ssr_ftest': (48.009854769493664, 1.476025898865001e-21, 51247.0, 2), 'ssr_chi2test': (96.02907786391746, 1.4045936177557214e-21, 2), 'lrtest': (95.93922691966873, 1.4691345604644632e-21, 2), 'params_ftest': (48.009854769482374, 1.4760258988780793e-21, 51247.0, 2)}, [<statsmodels.regression.linear_model.RegressionResultsWrapper object at 0x7f75735a9b00>, <statsmodels.regression.linear_model.RegressionResultsWrapper object at 0x7f75735a9a58>, array([[0., 0., 1., 0., 0.],\n",
            "       [0., 0., 0., 1., 0.]])]), 3: ({'ssr_ftest': (34.56219736952761, 2.6362626580025813e-22, 51244.0, 3), 'ssr_chi2test': (103.70075583789279, 2.486720682231467e-22, 3), 'lrtest': (103.59598361304961, 2.6191635728177454e-22, 3), 'params_ftest': (34.56219736952496, 2.6362626580094184e-22, 51244.0, 3)}, [<statsmodels.regression.linear_model.RegressionResultsWrapper object at 0x7f75735a95c0>, <statsmodels.regression.linear_model.RegressionResultsWrapper object at 0x7f75735a9668>, array([[0., 0., 0., 1., 0., 0., 0.],\n",
            "       [0., 0., 0., 0., 1., 0., 0.],\n",
            "       [0., 0., 0., 0., 0., 1., 0.]])]), 4: ({'ssr_ftest': (26.272176924412733, 8.54054980483927e-22, 51241.0, 4), 'ssr_chi2test': (105.10716554135576, 8.036325689946814e-22, 4), 'lrtest': (104.99953203159384, 8.47214150161743e-22, 4), 'params_ftest': (26.272176924416065, 8.540549804766692e-22, 51241.0, 4)}, [<statsmodels.regression.linear_model.RegressionResultsWrapper object at 0x7f75735a91d0>, <statsmodels.regression.linear_model.RegressionResultsWrapper object at 0x7f75735a9a90>, array([[0., 0., 0., 0., 1., 0., 0., 0., 0.],\n",
            "       [0., 0., 0., 0., 0., 1., 0., 0., 0.],\n",
            "       [0., 0., 0., 0., 0., 0., 1., 0., 0.],\n",
            "       [0., 0., 0., 0., 0., 0., 0., 1., 0.]])]), 5: ({'ssr_ftest': (22.382211637696624, 1.712576991498044e-22, 51238.0, 5), 'ssr_chi2test': (111.93508374842055, 1.5975715366250572e-22, 5), 'lrtest': (111.81302040355513, 1.6953830978735558e-22, 5), 'params_ftest': (22.382211637712015, 1.712576991431214e-22, 51238.0, 5)}, [<statsmodels.regression.linear_model.RegressionResultsWrapper object at 0x7f7572583400>, <statsmodels.regression.linear_model.RegressionResultsWrapper object at 0x7f75725832e8>, array([[0., 0., 0., 0., 0., 1., 0., 0., 0., 0., 0.],\n",
            "       [0., 0., 0., 0., 0., 0., 1., 0., 0., 0., 0.],\n",
            "       [0., 0., 0., 0., 0., 0., 0., 1., 0., 0., 0.],\n",
            "       [0., 0., 0., 0., 0., 0., 0., 0., 1., 0., 0.],\n",
            "       [0., 0., 0., 0., 0., 0., 0., 0., 0., 1., 0.]])])}\n",
            "-------------------------------------------------------------------------------------------------------------\n",
            "\n",
            "\n",
            "\n",
            "\n",
            "Granger Test between Delhi site 124 and the Haryana site 161.\n",
            "\n",
            "Granger Causality\n",
            "number of lags (no zero) 1\n",
            "ssr based F test:         F=112.3867, p=0.0000  , df_denom=58377, df_num=1\n",
            "ssr based chi2 test:   chi2=112.3925, p=0.0000  , df=1\n",
            "likelihood ratio test: chi2=112.2844, p=0.0000  , df=1\n",
            "parameter F test:         F=112.3867, p=0.0000  , df_denom=58377, df_num=1\n",
            "\n",
            "Granger Causality\n",
            "number of lags (no zero) 2\n",
            "ssr based F test:         F=57.0697 , p=0.0000  , df_denom=58374, df_num=2\n",
            "ssr based chi2 test:   chi2=114.1491, p=0.0000  , df=2\n",
            "likelihood ratio test: chi2=114.0376, p=0.0000  , df=2\n",
            "parameter F test:         F=57.0697 , p=0.0000  , df_denom=58374, df_num=2\n",
            "\n",
            "Granger Causality\n",
            "number of lags (no zero) 3\n",
            "ssr based F test:         F=38.3111 , p=0.0000  , df_denom=58371, df_num=3\n",
            "ssr based chi2 test:   chi2=114.9471, p=0.0000  , df=3\n",
            "likelihood ratio test: chi2=114.8341, p=0.0000  , df=3\n",
            "parameter F test:         F=38.3111 , p=0.0000  , df_denom=58371, df_num=3\n",
            "\n",
            "Granger Causality\n",
            "number of lags (no zero) 4\n",
            "ssr based F test:         F=27.8258 , p=0.0000  , df_denom=58368, df_num=4\n",
            "ssr based chi2 test:   chi2=111.3204, p=0.0000  , df=4\n",
            "likelihood ratio test: chi2=111.2144, p=0.0000  , df=4\n",
            "parameter F test:         F=27.8258 , p=0.0000  , df_denom=58368, df_num=4\n",
            "\n",
            "Granger Causality\n",
            "number of lags (no zero) 5\n",
            "ssr based F test:         F=22.6406 , p=0.0000  , df_denom=58365, df_num=5\n",
            "ssr based chi2 test:   chi2=113.2246, p=0.0000  , df=5\n",
            "likelihood ratio test: chi2=113.1149, p=0.0000  , df=5\n",
            "parameter F test:         F=22.6406 , p=0.0000  , df_denom=58365, df_num=5\n",
            "{1: ({'ssr_ftest': (112.38671678274147, 3.1060798929741463e-26, 58377.0, 1), 'ssr_chi2test': (112.3924923476103, 2.9313664015004597e-26, 1), 'lrtest': (112.28444264747668, 3.0955519322849495e-26, 1), 'params_ftest': (112.38671678260908, 3.106079893178029e-26, 58377.0, 1)}, [<statsmodels.regression.linear_model.RegressionResultsWrapper object at 0x7f7572583048>, <statsmodels.regression.linear_model.RegressionResultsWrapper object at 0x7f7572583208>, array([[0., 1., 0.]])]), 2: ({'ssr_ftest': (57.069657677601526, 1.73445194859519e-25, 58374.0, 2), 'ssr_chi2test': (114.1490919094357, 1.6324490471477874e-25, 2), 'lrtest': (114.0376386907883, 1.7260023936111393e-25, 2), 'params_ftest': (57.06965767759761, 1.7344519486008345e-25, 58374.0, 2)}, [<statsmodels.regression.linear_model.RegressionResultsWrapper object at 0x7f7572583780>, <statsmodels.regression.linear_model.RegressionResultsWrapper object at 0x7f7572583a90>, array([[0., 0., 1., 0., 0.],\n",
            "       [0., 0., 0., 1., 0.]])]), 3: ({'ssr_ftest': (38.31109830466812, 1.0059178857481996e-24, 58371.0, 3), 'ssr_chi2test': (114.94707800945243, 9.451011367111542e-25, 3), 'lrtest': (114.83406015881337, 9.995621834255935e-25, 3), 'params_ftest': (38.31109830465807, 1.0059178857672833e-24, 58371.0, 3)}, [<statsmodels.regression.linear_model.RegressionResultsWrapper object at 0x7f7572583cc0>, <statsmodels.regression.linear_model.RegressionResultsWrapper object at 0x7f7572583e48>, array([[0., 0., 0., 1., 0., 0., 0.],\n",
            "       [0., 0., 0., 0., 1., 0., 0.],\n",
            "       [0., 0., 0., 0., 0., 1., 0.]])]), 4: ({'ssr_ftest': (27.825815695036113, 4.0384841277110946e-23, 58368.0, 4), 'ssr_chi2test': (111.32042508423268, 3.8050032381056054e-23, 4), 'lrtest': (111.21442010358442, 4.0083650911531026e-23, 4), 'params_ftest': (27.82581569503593, 4.0384841277110946e-23, 58368.0, 4)}, [<statsmodels.regression.linear_model.RegressionResultsWrapper object at 0x7f75725611d0>, <statsmodels.regression.linear_model.RegressionResultsWrapper object at 0x7f7572583940>, array([[0., 0., 0., 0., 1., 0., 0., 0., 0.],\n",
            "       [0., 0., 0., 0., 0., 1., 0., 0., 0.],\n",
            "       [0., 0., 0., 0., 0., 0., 1., 0., 0.],\n",
            "       [0., 0., 0., 0., 0., 0., 0., 1., 0.]])]), 5: ({'ssr_ftest': (22.64064401882562, 9.075512050014059e-23, 58365.0, 5), 'ssr_chi2test': (113.2245554050342, 8.526785580359686e-23, 5), 'lrtest': (113.11489349440672, 8.994518690382857e-23, 5), 'params_ftest': (22.6406440188145, 9.075512050244852e-23, 58365.0, 5)}, [<statsmodels.regression.linear_model.RegressionResultsWrapper object at 0x7f7572561588>, <statsmodels.regression.linear_model.RegressionResultsWrapper object at 0x7f7572561668>, array([[0., 0., 0., 0., 0., 1., 0., 0., 0., 0., 0.],\n",
            "       [0., 0., 0., 0., 0., 0., 1., 0., 0., 0., 0.],\n",
            "       [0., 0., 0., 0., 0., 0., 0., 1., 0., 0., 0.],\n",
            "       [0., 0., 0., 0., 0., 0., 0., 0., 1., 0., 0.],\n",
            "       [0., 0., 0., 0., 0., 0., 0., 0., 0., 1., 0.]])])}\n",
            "-------------------------------------------------------------------------------------------------------------\n",
            "\n",
            "\n",
            "\n",
            "\n",
            "Granger Test between Delhi site 124 and the Haryana site 163.\n",
            "\n",
            "Granger Causality\n",
            "number of lags (no zero) 1\n",
            "ssr based F test:         F=91.6901 , p=0.0000  , df_denom=102220, df_num=1\n",
            "ssr based chi2 test:   chi2=91.6928 , p=0.0000  , df=1\n",
            "likelihood ratio test: chi2=91.6517 , p=0.0000  , df=1\n",
            "parameter F test:         F=91.6901 , p=0.0000  , df_denom=102220, df_num=1\n",
            "\n",
            "Granger Causality\n",
            "number of lags (no zero) 2\n",
            "ssr based F test:         F=53.0547 , p=0.0000  , df_denom=102217, df_num=2\n",
            "ssr based chi2 test:   chi2=106.1147, p=0.0000  , df=2\n",
            "likelihood ratio test: chi2=106.0596, p=0.0000  , df=2\n",
            "parameter F test:         F=53.0547 , p=0.0000  , df_denom=102217, df_num=2\n",
            "\n",
            "Granger Causality\n",
            "number of lags (no zero) 3\n",
            "ssr based F test:         F=37.7643 , p=0.0000  , df_denom=102214, df_num=3\n",
            "ssr based chi2 test:   chi2=113.3006, p=0.0000  , df=3\n",
            "likelihood ratio test: chi2=113.2378, p=0.0000  , df=3\n",
            "parameter F test:         F=37.7643 , p=0.0000  , df_denom=102214, df_num=3\n",
            "\n",
            "Granger Causality\n",
            "number of lags (no zero) 4\n",
            "ssr based F test:         F=24.3656 , p=0.0000  , df_denom=102211, df_num=4\n",
            "ssr based chi2 test:   chi2=97.4709 , p=0.0000  , df=4\n",
            "likelihood ratio test: chi2=97.4245 , p=0.0000  , df=4\n",
            "parameter F test:         F=24.3656 , p=0.0000  , df_denom=102211, df_num=4\n",
            "\n",
            "Granger Causality\n",
            "number of lags (no zero) 5\n",
            "ssr based F test:         F=18.1161 , p=0.0000  , df_denom=102208, df_num=5\n",
            "ssr based chi2 test:   chi2=90.5902 , p=0.0000  , df=5\n",
            "likelihood ratio test: chi2=90.5501 , p=0.0000  , df=5\n",
            "parameter F test:         F=18.1161 , p=0.0000  , df_denom=102208, df_num=5\n",
            "{1: ({'ssr_ftest': (91.69014641974427, 1.0351911987004163e-21, 102220.0, 1), 'ssr_chi2test': (91.69283738471452, 1.0123063938160021e-21, 1), 'lrtest': (91.65173825749662, 1.033550920952814e-21, 1), 'params_ftest': (91.69014641961343, 1.0351911987664317e-21, 102220.0, 1)}, [<statsmodels.regression.linear_model.RegressionResultsWrapper object at 0x7f75725615c0>, <statsmodels.regression.linear_model.RegressionResultsWrapper object at 0x7f75725619b0>, array([[0., 1., 0.]])]), 2: ({'ssr_ftest': (53.05474607643089, 9.344749793005589e-24, 102217.0, 2), 'ssr_chi2test': (106.11468255622681, 9.067539548611104e-24, 2), 'lrtest': (106.05964284297079, 9.320542268978482e-24, 2), 'params_ftest': (53.05474607654148, 9.344749791880533e-24, 102217.0, 2)}, [<statsmodels.regression.linear_model.RegressionResultsWrapper object at 0x7f7572561b70>, <statsmodels.regression.linear_model.RegressionResultsWrapper object at 0x7f7572561d30>, array([[0., 0., 1., 0., 0.],\n",
            "       [0., 0., 0., 1., 0.]])]), 3: ({'ssr_ftest': (37.764275506114316, 2.213027426087565e-24, 102214.0, 3), 'ssr_chi2test': (113.30058523814287, 2.1376188507633186e-24, 3), 'lrtest': (113.23784106178209, 2.2051431061695305e-24, 3), 'params_ftest': (37.76427550612805, 2.213027426050581e-24, 102214.0, 3)}, [<statsmodels.regression.linear_model.RegressionResultsWrapper object at 0x7f7572561ac8>, <statsmodels.regression.linear_model.RegressionResultsWrapper object at 0x7f757255a080>, array([[0., 0., 0., 1., 0., 0., 0.],\n",
            "       [0., 0., 0., 0., 1., 0., 0.],\n",
            "       [0., 0., 0., 0., 0., 1., 0.]])]), 4: ({'ssr_ftest': (24.365587570386413, 3.4884015763493346e-20, 102211.0, 4), 'ssr_chi2test': (97.47093214800361, 3.3972085088517224e-20, 4), 'lrtest': (97.42449041712098, 3.4753942872666643e-20, 4), 'params_ftest': (24.365587570396045, 3.4884015763102214e-20, 102211.0, 4)}, [<statsmodels.regression.linear_model.RegressionResultsWrapper object at 0x7f757255a470>, <statsmodels.regression.linear_model.RegressionResultsWrapper object at 0x7f757255a320>, array([[0., 0., 0., 0., 1., 0., 0., 0., 0.],\n",
            "       [0., 0., 0., 0., 0., 1., 0., 0., 0.],\n",
            "       [0., 0., 0., 0., 0., 0., 1., 0., 0.],\n",
            "       [0., 0., 0., 0., 0., 0., 0., 1., 0.]])]), 5: ({'ssr_ftest': (18.116093965451856, 5.170392306192578e-18, 102208.0, 5), 'ssr_chi2test': (90.59021842979625, 5.050401831745436e-18, 5), 'lrtest': (90.5500999474898, 5.149384150645231e-18, 5), 'params_ftest': (18.116093965437575, 5.1703923063650255e-18, 102208.0, 5)}, [<statsmodels.regression.linear_model.RegressionResultsWrapper object at 0x7f757255a7b8>, <statsmodels.regression.linear_model.RegressionResultsWrapper object at 0x7f757255a8d0>, array([[0., 0., 0., 0., 0., 1., 0., 0., 0., 0., 0.],\n",
            "       [0., 0., 0., 0., 0., 0., 1., 0., 0., 0., 0.],\n",
            "       [0., 0., 0., 0., 0., 0., 0., 1., 0., 0., 0.],\n",
            "       [0., 0., 0., 0., 0., 0., 0., 0., 1., 0., 0.],\n",
            "       [0., 0., 0., 0., 0., 0., 0., 0., 0., 1., 0.]])])}\n",
            "-------------------------------------------------------------------------------------------------------------\n",
            "\n",
            "\n",
            "\n",
            "\n"
          ],
          "name": "stdout"
        }
      ]
    },
    {
      "metadata": {
        "id": "2ZhZPWygicdF",
        "colab_type": "text"
      },
      "cell_type": "markdown",
      "source": [
        "### For Panjab Site"
      ]
    },
    {
      "metadata": {
        "id": "nfSizEJTaqLk",
        "colab_type": "code",
        "outputId": "fb5f32e0-342c-46eb-c5ce-5244935ab2c8",
        "colab": {
          "resources": {
            "http://localhost:8080/nbextensions/google.colab/files.js": {
              "data": "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",
              "ok": true,
              "headers": [
                [
                  "content-type",
                  "application/javascript"
                ]
              ],
              "status": 200,
              "status_text": ""
            }
          },
          "base_uri": "https://localhost:8080/",
          "height": 278
        }
      },
      "cell_type": "code",
      "source": [
        "from google.colab import files\n",
        "uploaded = files.upload()"
      ],
      "execution_count": 22,
      "outputs": [
        {
          "output_type": "display_data",
          "data": {
            "text/html": [
              "\n",
              "     <input type=\"file\" id=\"files-393a6dec-dba6-4f87-b30e-58a3501254db\" name=\"files[]\" multiple disabled />\n",
              "     <output id=\"result-393a6dec-dba6-4f87-b30e-58a3501254db\">\n",
              "      Upload widget is only available when the cell has been executed in the\n",
              "      current browser session. Please rerun this cell to enable.\n",
              "      </output>\n",
              "      <script src=\"/nbextensions/google.colab/files.js\"></script> "
            ],
            "text/plain": [
              "<IPython.core.display.HTML object>"
            ]
          },
          "metadata": {
            "tags": []
          }
        },
        {
          "output_type": "stream",
          "text": [
            "Saving complete253.csv to complete253.csv\n",
            "Saving complete256.csv to complete256.csv\n",
            "Saving complete1437.csv to complete1437.csv\n",
            "Saving complete1438.csv to complete1438.csv\n",
            "Saving complete1450.csv to complete1450.csv\n",
            "Saving complete1538.csv to complete1538.csv\n",
            "Saving complete1549.csv to complete1549.csv\n"
          ],
          "name": "stdout"
        }
      ]
    },
    {
      "metadata": {
        "id": "ZquhVXxXas4L",
        "colab_type": "code",
        "colab": {
          "base_uri": "https://localhost:8080/",
          "height": 34
        },
        "outputId": "29de3c99-555c-4bbc-da52-a7c2f5f4822d"
      },
      "cell_type": "code",
      "source": [
        "panjab_list=[]\n",
        "for fn in uploaded.keys():\n",
        "  panjab_list.append(fn)\n",
        "print(panjab_list)"
      ],
      "execution_count": 23,
      "outputs": [
        {
          "output_type": "stream",
          "text": [
            "['complete253.csv', 'complete256.csv', 'complete1437.csv', 'complete1438.csv', 'complete1450.csv', 'complete1538.csv', 'complete1549.csv']\n"
          ],
          "name": "stdout"
        }
      ]
    },
    {
      "metadata": {
        "id": "lRD3J7Eyglp0",
        "colab_type": "code",
        "colab": {
          "base_uri": "https://localhost:8080/",
          "height": 6225
        },
        "outputId": "54418d4f-62eb-4e5b-d42c-defd7cd68fff"
      },
      "cell_type": "code",
      "source": [
        "site_list=['253','256','1437','1438','1450','1538','1549']\n",
        "for i in range(len(panjab_list)):\n",
        "  df=pd.read_csv(panjab_list[i])\n",
        "  site_name='Panjab site '+site_list[i]\n",
        "  granger_causality_test(df_delhi_124,df,site_name)\n",
        "  print(\"\\n\")\n",
        "  "
      ],
      "execution_count": 25,
      "outputs": [
        {
          "output_type": "stream",
          "text": [
            "Granger Test between Delhi site 124 and the Panjab site 253.\n",
            "\n",
            "Granger Causality\n",
            "number of lags (no zero) 1\n",
            "ssr based F test:         F=46.6074 , p=0.0000  , df_denom=47109, df_num=1\n",
            "ssr based chi2 test:   chi2=46.6103 , p=0.0000  , df=1\n",
            "likelihood ratio test: chi2=46.5873 , p=0.0000  , df=1\n",
            "parameter F test:         F=46.6074 , p=0.0000  , df_denom=47109, df_num=1\n",
            "\n",
            "Granger Causality\n",
            "number of lags (no zero) 2\n",
            "ssr based F test:         F=30.2140 , p=0.0000  , df_denom=47106, df_num=2\n",
            "ssr based chi2 test:   chi2=60.4344 , p=0.0000  , df=2\n",
            "likelihood ratio test: chi2=60.3956 , p=0.0000  , df=2\n",
            "parameter F test:         F=30.2140 , p=0.0000  , df_denom=47106, df_num=2\n",
            "\n",
            "Granger Causality\n",
            "number of lags (no zero) 3\n",
            "ssr based F test:         F=20.1033 , p=0.0000  , df_denom=47103, df_num=3\n",
            "ssr based chi2 test:   chi2=60.3190 , p=0.0000  , df=3\n",
            "likelihood ratio test: chi2=60.2804 , p=0.0000  , df=3\n",
            "parameter F test:         F=20.1033 , p=0.0000  , df_denom=47103, df_num=3\n",
            "\n",
            "Granger Causality\n",
            "number of lags (no zero) 4\n",
            "ssr based F test:         F=14.7375 , p=0.0000  , df_denom=47100, df_num=4\n",
            "ssr based chi2 test:   chi2=58.9613 , p=0.0000  , df=4\n",
            "likelihood ratio test: chi2=58.9244 , p=0.0000  , df=4\n",
            "parameter F test:         F=14.7375 , p=0.0000  , df_denom=47100, df_num=4\n",
            "\n",
            "Granger Causality\n",
            "number of lags (no zero) 5\n",
            "ssr based F test:         F=13.9129 , p=0.0000  , df_denom=47097, df_num=5\n",
            "ssr based chi2 test:   chi2=69.5806 , p=0.0000  , df=5\n",
            "likelihood ratio test: chi2=69.5293 , p=0.0000  , df=5\n",
            "parameter F test:         F=13.9129 , p=0.0000  , df_denom=47097, df_num=5\n",
            "{1: ({'ssr_ftest': (46.60736272255767, 8.778171541786546e-12, 47109.0, 1), 'ssr_chi2test': (46.61033077724293, 8.660248613638777e-12, 1), 'lrtest': (46.587288971815724, 8.762681325506247e-12, 1), 'params_ftest': (46.60736272255998, 8.77817154173964e-12, 47109.0, 1)}, [<statsmodels.regression.linear_model.RegressionResultsWrapper object at 0x7f7572556f98>, <statsmodels.regression.linear_model.RegressionResultsWrapper object at 0x7f7572556da0>, array([[0., 1., 0.]])]), 2: ({'ssr_ftest': (30.213972872229654, 7.702779461784039e-14, 47106.0, 2), 'ssr_chi2test': (60.434359783620394, 7.530876304244679e-14, 2), 'lrtest': (60.395630066865124, 7.678131847022228e-14, 2), 'params_ftest': (30.213972872228425, 7.702779461784039e-14, 47106.0, 2)}, [<statsmodels.regression.linear_model.RegressionResultsWrapper object at 0x7f7572556cc0>, <statsmodels.regression.linear_model.RegressionResultsWrapper object at 0x7f7572556160>, array([[0., 0., 1., 0., 0.],\n",
            "       [0., 0., 0., 1., 0.]])]), 3: ({'ssr_ftest': (20.10334938545547, 5.141738197305975e-13, 47103.0, 3), 'ssr_chi2test': (60.31901086228948, 5.02445872771403e-13, 3), 'lrtest': (60.28042796731461, 5.120742108319424e-13, 3), 'params_ftest': (20.10334938545705, 5.141738197291927e-13, 47103.0, 3)}, [<statsmodels.regression.linear_model.RegressionResultsWrapper object at 0x7f7572556588>, <statsmodels.regression.linear_model.RegressionResultsWrapper object at 0x7f7572556978>, array([[0., 0., 0., 1., 0., 0., 0.],\n",
            "       [0., 0., 0., 0., 1., 0., 0.],\n",
            "       [0., 0., 0., 0., 0., 1., 0.]])]), 4: ({'ssr_ftest': (14.737503403498271, 4.904442567956324e-12, 47100.0, 4), 'ssr_chi2test': (58.96127794780468, 4.794521137673937e-12, 4), 'lrtest': (58.92441095528193, 4.88076704484496e-12, 4), 'params_ftest': (14.737503403496692, 4.904442567965367e-12, 47100.0, 4)}, [<statsmodels.regression.linear_model.RegressionResultsWrapper object at 0x7f75729f0438>, <statsmodels.regression.linear_model.RegressionResultsWrapper object at 0x7f757255aa58>, array([[0., 0., 0., 0., 1., 0., 0., 0., 0.],\n",
            "       [0., 0., 0., 0., 0., 1., 0., 0., 0.],\n",
            "       [0., 0., 0., 0., 0., 0., 1., 0., 0.],\n",
            "       [0., 0., 0., 0., 0., 0., 0., 1., 0.]])]), 5: ({'ssr_ftest': (13.912868532870654, 1.2927127001682013e-13, 47097.0, 5), 'ssr_chi2test': (69.58059014867939, 1.2528657440915826e-13, 5), 'lrtest': (69.5292538953945, 1.2840586813554586e-13, 5), 'params_ftest': (13.912868532869766, 1.2927127001682013e-13, 47097.0, 5)}, [<statsmodels.regression.linear_model.RegressionResultsWrapper object at 0x7f757255a630>, <statsmodels.regression.linear_model.RegressionResultsWrapper object at 0x7f757255a320>, array([[0., 0., 0., 0., 0., 1., 0., 0., 0., 0., 0.],\n",
            "       [0., 0., 0., 0., 0., 0., 1., 0., 0., 0., 0.],\n",
            "       [0., 0., 0., 0., 0., 0., 0., 1., 0., 0., 0.],\n",
            "       [0., 0., 0., 0., 0., 0., 0., 0., 1., 0., 0.],\n",
            "       [0., 0., 0., 0., 0., 0., 0., 0., 0., 1., 0.]])])}\n",
            "-------------------------------------------------------------------------------------------------------------\n",
            "\n",
            "\n",
            "\n",
            "\n",
            "Granger Test between Delhi site 124 and the Panjab site 256.\n",
            "\n",
            "Granger Causality\n",
            "number of lags (no zero) 1\n",
            "ssr based F test:         F=17.2300 , p=0.0000  , df_denom=48513, df_num=1\n",
            "ssr based chi2 test:   chi2=17.2311 , p=0.0000  , df=1\n",
            "likelihood ratio test: chi2=17.2280 , p=0.0000  , df=1\n",
            "parameter F test:         F=17.2300 , p=0.0000  , df_denom=48513, df_num=1\n",
            "\n",
            "Granger Causality\n",
            "number of lags (no zero) 2\n",
            "ssr based F test:         F=8.7260  , p=0.0002  , df_denom=48510, df_num=2\n",
            "ssr based chi2 test:   chi2=17.4538 , p=0.0002  , df=2\n",
            "likelihood ratio test: chi2=17.4507 , p=0.0002  , df=2\n",
            "parameter F test:         F=8.7260  , p=0.0002  , df_denom=48510, df_num=2\n",
            "\n",
            "Granger Causality\n",
            "number of lags (no zero) 3\n",
            "ssr based F test:         F=5.5844  , p=0.0008  , df_denom=48507, df_num=3\n",
            "ssr based chi2 test:   chi2=16.7556 , p=0.0008  , df=3\n",
            "likelihood ratio test: chi2=16.7527 , p=0.0008  , df=3\n",
            "parameter F test:         F=5.5844  , p=0.0008  , df_denom=48507, df_num=3\n",
            "\n",
            "Granger Causality\n",
            "number of lags (no zero) 4\n",
            "ssr based F test:         F=4.3592  , p=0.0016  , df_denom=48504, df_num=4\n",
            "ssr based chi2 test:   chi2=17.4402 , p=0.0016  , df=4\n",
            "likelihood ratio test: chi2=17.4370 , p=0.0016  , df=4\n",
            "parameter F test:         F=4.3592  , p=0.0016  , df_denom=48504, df_num=4\n",
            "\n",
            "Granger Causality\n",
            "number of lags (no zero) 5\n",
            "ssr based F test:         F=3.8928  , p=0.0016  , df_denom=48501, df_num=5\n",
            "ssr based chi2 test:   chi2=19.4685 , p=0.0016  , df=5\n",
            "likelihood ratio test: chi2=19.4645 , p=0.0016  , df=5\n",
            "parameter F test:         F=3.8928  , p=0.0016  , df_denom=48501, df_num=5\n",
            "{1: ({'ssr_ftest': (17.230038627106506, 3.31723259049611e-05, 48513.0, 1), 'ssr_chi2test': (17.231104117096432, 3.3097295654035e-05, 1), 'lrtest': (17.2280449133832, 3.3150632418418286e-05, 1), 'params_ftest': (17.23003862717705, 3.317232590373651e-05, 48513.0, 1)}, [<statsmodels.regression.linear_model.RegressionResultsWrapper object at 0x7f757255a0f0>, <statsmodels.regression.linear_model.RegressionResultsWrapper object at 0x7f757255aa58>, array([[0., 1., 0.]])]), 2: ({'ssr_ftest': (8.726020909272538, 0.00016256191044007704, 48510.0, 2), 'ssr_chi2test': (17.453840627225613, 0.00016216109332009012, 2), 'lrtest': (17.450701767986175, 0.0001624157935578818, 2), 'params_ftest': (8.72602090927791, 0.00016256191043878104, 48510.0, 2)}, [<statsmodels.regression.linear_model.RegressionResultsWrapper object at 0x7f757255ae48>, <statsmodels.regression.linear_model.RegressionResultsWrapper object at 0x7f757255ad30>, array([[0., 0., 1., 0., 0.],\n",
            "       [0., 0., 0., 1., 0.]])]), 3: ({'ssr_ftest': (5.584383735678656, 0.0007953692589617982, 48507.0, 3), 'ssr_chi2test': (16.755568838686024, 0.0007934380443345793, 3), 'lrtest': (16.75267601950327, 0.0007945249222642963, 3), 'params_ftest': (5.58438373568231, 0.0007953692589547, 48507.0, 3)}, [<statsmodels.regression.linear_model.RegressionResultsWrapper object at 0x7f7572551160>, <statsmodels.regression.linear_model.RegressionResultsWrapper object at 0x7f7572551240>, array([[0., 0., 0., 1., 0., 0., 0.],\n",
            "       [0., 0., 0., 0., 1., 0., 0.],\n",
            "       [0., 0., 0., 0., 0., 1., 0.]])]), 4: ({'ssr_ftest': (4.35923138419781, 0.001591320651611448, 48504.0, 4), 'ssr_chi2test': (17.440160988090742, 0.0015870368872457467, 4), 'lrtest': (17.43702691741055, 0.0015892695222629706, 4), 'params_ftest': (4.359231384195375, 0.0015913206516275293, 48504.0, 4)}, [<statsmodels.regression.linear_model.RegressionResultsWrapper object at 0x7f7572551668>, <statsmodels.regression.linear_model.RegressionResultsWrapper object at 0x7f7572551550>, array([[0., 0., 0., 0., 1., 0., 0., 0., 0.],\n",
            "       [0., 0., 0., 0., 0., 1., 0., 0., 0.],\n",
            "       [0., 0., 0., 0., 0., 0., 1., 0., 0.],\n",
            "       [0., 0., 0., 0., 0., 0., 0., 1., 0.]])]), 5: ({'ssr_ftest': (3.892807372790466, 0.001576939303698863, 48501.0, 5), 'ssr_chi2test': (19.468451296757912, 0.0015717101546090754, 5), 'lrtest': (19.46454587939661, 0.0015743543382649285, 5), 'params_ftest': (3.8928073727944783, 0.0015769393036847658, 48501.0, 5)}, [<statsmodels.regression.linear_model.RegressionResultsWrapper object at 0x7f7572551a20>, <statsmodels.regression.linear_model.RegressionResultsWrapper object at 0x7f7572551908>, array([[0., 0., 0., 0., 0., 1., 0., 0., 0., 0., 0.],\n",
            "       [0., 0., 0., 0., 0., 0., 1., 0., 0., 0., 0.],\n",
            "       [0., 0., 0., 0., 0., 0., 0., 1., 0., 0., 0.],\n",
            "       [0., 0., 0., 0., 0., 0., 0., 0., 1., 0., 0.],\n",
            "       [0., 0., 0., 0., 0., 0., 0., 0., 0., 1., 0.]])])}\n",
            "-------------------------------------------------------------------------------------------------------------\n",
            "\n",
            "\n",
            "\n",
            "\n",
            "Granger Test between Delhi site 124 and the Panjab site 1437.\n",
            "\n",
            "Granger Causality\n",
            "number of lags (no zero) 1\n",
            "ssr based F test:         F=2.0058  , p=0.1567  , df_denom=26156, df_num=1\n",
            "ssr based chi2 test:   chi2=2.0061  , p=0.1567  , df=1\n",
            "likelihood ratio test: chi2=2.0060  , p=0.1567  , df=1\n",
            "parameter F test:         F=2.0058  , p=0.1567  , df_denom=26156, df_num=1\n",
            "\n",
            "Granger Causality\n",
            "number of lags (no zero) 2\n",
            "ssr based F test:         F=1.9765  , p=0.1386  , df_denom=26153, df_num=2\n",
            "ssr based chi2 test:   chi2=3.9538  , p=0.1385  , df=2\n",
            "likelihood ratio test: chi2=3.9535  , p=0.1385  , df=2\n",
            "parameter F test:         F=1.9765  , p=0.1386  , df_denom=26153, df_num=2\n",
            "\n",
            "Granger Causality\n",
            "number of lags (no zero) 3\n",
            "ssr based F test:         F=2.5130  , p=0.0566  , df_denom=26150, df_num=3\n",
            "ssr based chi2 test:   chi2=7.5410  , p=0.0565  , df=3\n",
            "likelihood ratio test: chi2=7.5399  , p=0.0565  , df=3\n",
            "parameter F test:         F=2.5130  , p=0.0566  , df_denom=26150, df_num=3\n",
            "\n",
            "Granger Causality\n",
            "number of lags (no zero) 4\n",
            "ssr based F test:         F=2.0673  , p=0.0822  , df_denom=26147, df_num=4\n",
            "ssr based chi2 test:   chi2=8.2719  , p=0.0821  , df=4\n",
            "likelihood ratio test: chi2=8.2706  , p=0.0822  , df=4\n",
            "parameter F test:         F=2.0673  , p=0.0822  , df_denom=26147, df_num=4\n",
            "\n",
            "Granger Causality\n",
            "number of lags (no zero) 5\n",
            "ssr based F test:         F=2.3241  , p=0.0404  , df_denom=26144, df_num=5\n",
            "ssr based chi2 test:   chi2=11.6252 , p=0.0403  , df=5\n",
            "likelihood ratio test: chi2=11.6226 , p=0.0403  , df=5\n",
            "parameter F test:         F=2.3241  , p=0.0404  , df_denom=26144, df_num=5\n",
            "{1: ({'ssr_ftest': (2.005847551889617, 0.15670560320043564, 26156.0, 1), 'ssr_chi2test': (2.0060776154565105, 0.15666992591844314, 1), 'lrtest': (2.0060006984858774, 0.15667787206674103, 1), 'params_ftest': (2.0058475518855237, 0.15670560320046126, 26156.0, 1)}, [<statsmodels.regression.linear_model.RegressionResultsWrapper object at 0x7f75725517f0>, <statsmodels.regression.linear_model.RegressionResultsWrapper object at 0x7f75725512e8>, array([[0., 1., 0.]])]), 2: ({'ssr_ftest': (1.9765226513182144, 0.1385708835147199, 26153.0, 2), 'ssr_chi2test': (3.9538010563363177, 0.13849784290514025, 2), 'lrtest': (3.953502276475774, 0.13851853463376407, 2), 'params_ftest': (1.9765226513181144, 0.13857088351525182, 26153.0, 2)}, [<statsmodels.regression.linear_model.RegressionResultsWrapper object at 0x7f7572551e80>, <statsmodels.regression.linear_model.RegressionResultsWrapper object at 0x7f7572551f60>, array([[0., 0., 1., 0., 0.],\n",
            "       [0., 0., 0., 1., 0.]])]), 3: ({'ssr_ftest': (2.5129919597042556, 0.05658922036998669, 26150.0, 3), 'ssr_chi2test': (7.540993960610043, 0.056514444776331954, 3), 'lrtest': (7.539907145139296, 0.05654188429549254, 3), 'params_ftest': (2.512991959700568, 0.05658922037026441, 26150.0, 3)}, [<statsmodels.regression.linear_model.RegressionResultsWrapper object at 0x7f7572566208>, <statsmodels.regression.linear_model.RegressionResultsWrapper object at 0x7f7572566358>, array([[0., 0., 0., 1., 0., 0., 0.],\n",
            "       [0., 0., 0., 0., 1., 0., 0.],\n",
            "       [0., 0., 0., 0., 0., 1., 0.]])]), 4: ({'ssr_ftest': (2.0672733369648046, 0.08223649618487228, 26147.0, 4), 'ssr_chi2test': (8.271939633862614, 0.08210953525336279, 4), 'lrtest': (8.270631892577512, 0.08215278145710551, 4), 'params_ftest': (2.067273336966089, 0.08223649618468667, 26147.0, 4)}, [<statsmodels.regression.linear_model.RegressionResultsWrapper object at 0x7f7572566710>, <statsmodels.regression.linear_model.RegressionResultsWrapper object at 0x7f7572566630>, array([[0., 0., 0., 0., 1., 0., 0., 0., 0.],\n",
            "       [0., 0., 0., 0., 0., 1., 0., 0., 0.],\n",
            "       [0., 0., 0., 0., 0., 0., 1., 0., 0.],\n",
            "       [0., 0., 0., 0., 0., 0., 0., 1., 0.]])]), 5: ({'ssr_ftest': (2.324060753965048, 0.04040788963463982, 26144.0, 5), 'ssr_chi2test': (11.625192973522767, 0.04030052857397198, 5), 'lrtest': (11.622610196238384, 0.04034124836238707, 5), 'params_ftest': (2.3240607539633107, 0.04040788963479522, 26144.0, 5)}, [<statsmodels.regression.linear_model.RegressionResultsWrapper object at 0x7f7572566b00>, <statsmodels.regression.linear_model.RegressionResultsWrapper object at 0x7f7572566c18>, array([[0., 0., 0., 0., 0., 1., 0., 0., 0., 0., 0.],\n",
            "       [0., 0., 0., 0., 0., 0., 1., 0., 0., 0., 0.],\n",
            "       [0., 0., 0., 0., 0., 0., 0., 1., 0., 0., 0.],\n",
            "       [0., 0., 0., 0., 0., 0., 0., 0., 1., 0., 0.],\n",
            "       [0., 0., 0., 0., 0., 0., 0., 0., 0., 1., 0.]])])}\n",
            "-------------------------------------------------------------------------------------------------------------\n",
            "\n",
            "\n",
            "\n",
            "\n",
            "Granger Test between Delhi site 124 and the Panjab site 1438.\n",
            "\n",
            "Granger Causality\n",
            "number of lags (no zero) 1\n",
            "ssr based F test:         F=3.2775  , p=0.0702  , df_denom=25544, df_num=1\n",
            "ssr based chi2 test:   chi2=3.2779  , p=0.0702  , df=1\n",
            "likelihood ratio test: chi2=3.2777  , p=0.0702  , df=1\n",
            "parameter F test:         F=3.2775  , p=0.0702  , df_denom=25544, df_num=1\n",
            "\n",
            "Granger Causality\n",
            "number of lags (no zero) 2\n",
            "ssr based F test:         F=2.7156  , p=0.0662  , df_denom=25541, df_num=2\n",
            "ssr based chi2 test:   chi2=5.4322  , p=0.0661  , df=2\n",
            "likelihood ratio test: chi2=5.4316  , p=0.0662  , df=2\n",
            "parameter F test:         F=2.7156  , p=0.0662  , df_denom=25541, df_num=2\n",
            "\n",
            "Granger Causality\n",
            "number of lags (no zero) 3\n",
            "ssr based F test:         F=1.8838  , p=0.1299  , df_denom=25538, df_num=3\n",
            "ssr based chi2 test:   chi2=5.6529  , p=0.1298  , df=3\n",
            "likelihood ratio test: chi2=5.6523  , p=0.1298  , df=3\n",
            "parameter F test:         F=1.8838  , p=0.1299  , df_denom=25538, df_num=3\n",
            "\n",
            "Granger Causality\n",
            "number of lags (no zero) 4\n",
            "ssr based F test:         F=2.7973  , p=0.0245  , df_denom=25535, df_num=4\n",
            "ssr based chi2 test:   chi2=11.1930 , p=0.0245  , df=4\n",
            "likelihood ratio test: chi2=11.1905 , p=0.0245  , df=4\n",
            "parameter F test:         F=2.7973  , p=0.0245  , df_denom=25535, df_num=4\n",
            "\n",
            "Granger Causality\n",
            "number of lags (no zero) 5\n",
            "ssr based F test:         F=3.5745  , p=0.0031  , df_denom=25532, df_num=5\n",
            "ssr based chi2 test:   chi2=17.8800 , p=0.0031  , df=5\n",
            "likelihood ratio test: chi2=17.8737 , p=0.0031  , df=5\n",
            "parameter F test:         F=3.5745  , p=0.0031  , df_denom=25532, df_num=5\n",
            "{1: ({'ssr_ftest': (3.277493077673202, 0.07024788181308915, 25544.0, 1), 'ssr_chi2test': (3.2778780009128283, 0.07021966424430721, 1), 'lrtest': (3.2776677303481847, 0.07022866211577389, 1), 'params_ftest': (3.2774930776782667, 0.0702478818127503, 25544.0, 1)}, [<statsmodels.regression.linear_model.RegressionResultsWrapper object at 0x7f7572551dd8>, <statsmodels.regression.linear_model.RegressionResultsWrapper object at 0x7f7572551128>, array([[0., 1., 0.]])]), 2: ({'ssr_ftest': (2.71558057693567, 0.06618563120996904, 25541.0, 2), 'ssr_chi2test': (5.432224377933411, 0.06613136152020319, 2), 'lrtest': (5.431646892655408, 0.0661504592210769, 2), 'params_ftest': (2.7155805769398, 0.06618563120974348, 25541.0, 2)}, [<statsmodels.regression.linear_model.RegressionResultsWrapper object at 0x7f7572551630>, <statsmodels.regression.linear_model.RegressionResultsWrapper object at 0x7f75725516a0>, array([[0., 0., 1., 0., 0.],\n",
            "       [0., 0., 0., 1., 0.]])]), 3: ({'ssr_ftest': (1.8837933337703179, 0.12988853905440628, 25538.0, 3), 'ssr_chi2test': (5.652929052137532, 0.12977256899251674, 3), 'lrtest': (5.652303667680826, 0.1298077033373016, 3), 'params_ftest': (1.883793333769023, 0.12988853905493755, 25538.0, 3)}, [<statsmodels.regression.linear_model.RegressionResultsWrapper object at 0x7f7572551a58>, <statsmodels.regression.linear_model.RegressionResultsWrapper object at 0x7f7572551978>, array([[0., 0., 0., 1., 0., 0., 0.],\n",
            "       [0., 0., 0., 0., 1., 0., 0.],\n",
            "       [0., 0., 0., 0., 0., 1., 0.]])]), 4: ({'ssr_ftest': (2.7972629835014975, 0.024540453866214212, 25535.0, 4), 'ssr_chi2test': (11.192995598286627, 0.024478528646799842, 4), 'lrtest': (11.190544013516046, 0.024503998343610448, 4), 'params_ftest': (2.797262983503046, 0.02454045386616248, 25535.0, 4)}, [<statsmodels.regression.linear_model.RegressionResultsWrapper object at 0x7f757255a630>, <statsmodels.regression.linear_model.RegressionResultsWrapper object at 0x7f757255a5f8>, array([[0., 0., 0., 0., 1., 0., 0., 0., 0.],\n",
            "       [0., 0., 0., 0., 0., 1., 0., 0., 0.],\n",
            "       [0., 0., 0., 0., 0., 0., 1., 0., 0.],\n",
            "       [0., 0., 0., 0., 0., 0., 0., 1., 0.]])]), 5: ({'ssr_ftest': (3.5744524344395416, 0.003117714546440892, 25532.0, 5), 'ssr_chi2test': (17.879962112817093, 0.003100669347069158, 5), 'lrtest': (17.87370709318202, 0.003108921138260531, 5), 'params_ftest': (3.574452434441317, 0.0031177145464260717, 25532.0, 5)}, [<statsmodels.regression.linear_model.RegressionResultsWrapper object at 0x7f75725569b0>, <statsmodels.regression.linear_model.RegressionResultsWrapper object at 0x7f7572556470>, array([[0., 0., 0., 0., 0., 1., 0., 0., 0., 0., 0.],\n",
            "       [0., 0., 0., 0., 0., 0., 1., 0., 0., 0., 0.],\n",
            "       [0., 0., 0., 0., 0., 0., 0., 1., 0., 0., 0.],\n",
            "       [0., 0., 0., 0., 0., 0., 0., 0., 1., 0., 0.],\n",
            "       [0., 0., 0., 0., 0., 0., 0., 0., 0., 1., 0.]])])}\n",
            "-------------------------------------------------------------------------------------------------------------\n",
            "\n",
            "\n",
            "\n",
            "\n",
            "Granger Test between Delhi site 124 and the Panjab site 1450.\n",
            "\n",
            "Granger Causality\n",
            "number of lags (no zero) 1\n",
            "ssr based F test:         F=3.5227  , p=0.0605  , df_denom=21762, df_num=1\n",
            "ssr based chi2 test:   chi2=3.5232  , p=0.0605  , df=1\n",
            "likelihood ratio test: chi2=3.5229  , p=0.0605  , df=1\n",
            "parameter F test:         F=3.5227  , p=0.0605  , df_denom=21762, df_num=1\n",
            "\n",
            "Granger Causality\n",
            "number of lags (no zero) 2\n",
            "ssr based F test:         F=1.8406  , p=0.1587  , df_denom=21759, df_num=2\n",
            "ssr based chi2 test:   chi2=3.6820  , p=0.1587  , df=2\n",
            "likelihood ratio test: chi2=3.6817  , p=0.1587  , df=2\n",
            "parameter F test:         F=1.8406  , p=0.1587  , df_denom=21759, df_num=2\n",
            "\n",
            "Granger Causality\n",
            "number of lags (no zero) 3\n",
            "ssr based F test:         F=1.5463  , p=0.2003  , df_denom=21756, df_num=3\n",
            "ssr based chi2 test:   chi2=4.6403  , p=0.2001  , df=3\n",
            "likelihood ratio test: chi2=4.6398  , p=0.2002  , df=3\n",
            "parameter F test:         F=1.5463  , p=0.2003  , df_denom=21756, df_num=3\n",
            "\n",
            "Granger Causality\n",
            "number of lags (no zero) 4\n",
            "ssr based F test:         F=1.2466  , p=0.2887  , df_denom=21753, df_num=4\n",
            "ssr based chi2 test:   chi2=4.9886  , p=0.2885  , df=4\n",
            "likelihood ratio test: chi2=4.9881  , p=0.2885  , df=4\n",
            "parameter F test:         F=1.2466  , p=0.2887  , df_denom=21753, df_num=4\n",
            "\n",
            "Granger Causality\n",
            "number of lags (no zero) 5\n",
            "ssr based F test:         F=1.0219  , p=0.4027  , df_denom=21750, df_num=5\n",
            "ssr based chi2 test:   chi2=5.1120  , p=0.4024  , df=5\n",
            "likelihood ratio test: chi2=5.1114  , p=0.4024  , df=5\n",
            "parameter F test:         F=1.0219  , p=0.4027  , df_denom=21750, df_num=5\n",
            "{1: ({'ssr_ftest': (3.5227022374010795, 0.06054704527310734, 21762.0, 1), 'ssr_chi2test': (3.5231878594354606, 0.06051594496425185, 1), 'lrtest': (3.5229027339373715, 0.06052635536490432, 1), 'params_ftest': (3.522702237398058, 0.060547045273352994, 21762.0, 1)}, [<statsmodels.regression.linear_model.RegressionResultsWrapper object at 0x7f7572566780>, <statsmodels.regression.linear_model.RegressionResultsWrapper object at 0x7f75725666d8>, array([[0., 1., 0.]])]), 2: ({'ssr_ftest': (1.8405836409068144, 0.15874947245503934, 21759.0, 2), 'ssr_chi2test': (3.6820131771401177, 0.15865764273262578, 2), 'lrtest': (3.681701752502704, 0.15868234960558855, 2), 'params_ftest': (1.8405836409113157, 0.15874947245394938, 21759.0, 2)}, [<statsmodels.regression.linear_model.RegressionResultsWrapper object at 0x7f7572556a20>, <statsmodels.regression.linear_model.RegressionResultsWrapper object at 0x7f75725569e8>, array([[0., 0., 1., 0., 0.],\n",
            "       [0., 0., 0., 1., 0.]])]), 3: ({'ssr_ftest': (1.5462787315266624, 0.2002684971931257, 21756.0, 3), 'ssr_chi2test': (4.6403287416181405, 0.20010965450095103, 3), 'lrtest': (4.639834104134934, 0.20015142589911453, 3), 'params_ftest': (1.546278731524308, 0.20026849719404358, 21756.0, 3)}, [<statsmodels.regression.linear_model.RegressionResultsWrapper object at 0x7f75725569b0>, <statsmodels.regression.linear_model.RegressionResultsWrapper object at 0x7f75725567f0>, array([[0., 0., 0., 1., 0., 0., 0.],\n",
            "       [0., 0., 0., 0., 1., 0., 0.],\n",
            "       [0., 0., 0., 0., 0., 1., 0.]])]), 4: ({'ssr_ftest': (1.2466408187086904, 0.2887142297260155, 21753.0, 4), 'ssr_chi2test': (4.988626395759393, 0.28846649025472043, 4), 'lrtest': (4.988054697605548, 0.2885253554388145, 4), 'params_ftest': (1.2466408187106133, 0.2887142297254113, 21753.0, 4)}, [<statsmodels.regression.linear_model.RegressionResultsWrapper object at 0x7f75725839e8>, <statsmodels.regression.linear_model.RegressionResultsWrapper object at 0x7f75735a96d8>, array([[0., 0., 0., 0., 1., 0., 0., 0., 0.],\n",
            "       [0., 0., 0., 0., 0., 1., 0., 0., 0.],\n",
            "       [0., 0., 0., 0., 0., 0., 1., 0., 0.],\n",
            "       [0., 0., 0., 0., 0., 0., 0., 1., 0.]])]), 5: ({'ssr_ftest': (1.0218835013273395, 0.40270288340695404, 21750.0, 5), 'ssr_chi2test': (5.112001579858444, 0.402364967578683, 5), 'lrtest': (5.111401229049079, 0.40243659020967304, 5), 'params_ftest': (1.0218835013280458, 0.4027028834058929, 21750.0, 5)}, [<statsmodels.regression.linear_model.RegressionResultsWrapper object at 0x7f75735a9550>, <statsmodels.regression.linear_model.RegressionResultsWrapper object at 0x7f75735a9160>, array([[0., 0., 0., 0., 0., 1., 0., 0., 0., 0., 0.],\n",
            "       [0., 0., 0., 0., 0., 0., 1., 0., 0., 0., 0.],\n",
            "       [0., 0., 0., 0., 0., 0., 0., 1., 0., 0., 0.],\n",
            "       [0., 0., 0., 0., 0., 0., 0., 0., 1., 0., 0.],\n",
            "       [0., 0., 0., 0., 0., 0., 0., 0., 0., 1., 0.]])])}\n",
            "-------------------------------------------------------------------------------------------------------------\n",
            "\n",
            "\n",
            "\n",
            "\n",
            "Granger Test between Delhi site 124 and the Panjab site 1538.\n",
            "\n",
            "Granger Causality\n",
            "number of lags (no zero) 1\n",
            "ssr based F test:         F=3.0347  , p=0.0815  , df_denom=21026, df_num=1\n",
            "ssr based chi2 test:   chi2=3.0352  , p=0.0815  , df=1\n",
            "likelihood ratio test: chi2=3.0350  , p=0.0815  , df=1\n",
            "parameter F test:         F=3.0347  , p=0.0815  , df_denom=21026, df_num=1\n",
            "\n",
            "Granger Causality\n",
            "number of lags (no zero) 2\n",
            "ssr based F test:         F=11.2413 , p=0.0000  , df_denom=21023, df_num=2\n",
            "ssr based chi2 test:   chi2=22.4880 , p=0.0000  , df=2\n",
            "likelihood ratio test: chi2=22.4760 , p=0.0000  , df=2\n",
            "parameter F test:         F=11.2413 , p=0.0000  , df_denom=21023, df_num=2\n",
            "\n",
            "Granger Causality\n",
            "number of lags (no zero) 3\n",
            "ssr based F test:         F=7.5726  , p=0.0000  , df_denom=21020, df_num=3\n",
            "ssr based chi2 test:   chi2=22.7255 , p=0.0000  , df=3\n",
            "likelihood ratio test: chi2=22.7132 , p=0.0000  , df=3\n",
            "parameter F test:         F=7.5726  , p=0.0000  , df_denom=21020, df_num=3\n",
            "\n",
            "Granger Causality\n",
            "number of lags (no zero) 4\n",
            "ssr based F test:         F=6.4398  , p=0.0000  , df_denom=21017, df_num=4\n",
            "ssr based chi2 test:   chi2=25.7701 , p=0.0000  , df=4\n",
            "likelihood ratio test: chi2=25.7544 , p=0.0000  , df=4\n",
            "parameter F test:         F=6.4398  , p=0.0000  , df_denom=21017, df_num=4\n",
            "\n",
            "Granger Causality\n",
            "number of lags (no zero) 5\n",
            "ssr based F test:         F=6.8011  , p=0.0000  , df_denom=21014, df_num=5\n",
            "ssr based chi2 test:   chi2=34.0232 , p=0.0000  , df=5\n",
            "likelihood ratio test: chi2=33.9957 , p=0.0000  , df=5\n",
            "parameter F test:         F=6.8011  , p=0.0000  , df_denom=21014, df_num=5\n",
            "{1: ({'ssr_ftest': (3.034745510695759, 0.08151395079998057, 21026.0, 1), 'ssr_chi2test': (3.0351785096747417, 0.08147758718739004, 1), 'lrtest': (3.0349594925064594, 0.08148858350009872, 1), 'params_ftest': (3.034745510699409, 0.08151395080006489, 21026.0, 1)}, [<statsmodels.regression.linear_model.RegressionResultsWrapper object at 0x7f7572556978>, <statsmodels.regression.linear_model.RegressionResultsWrapper object at 0x7f7572556ba8>, array([[0., 1., 0.]])]), 2: ({'ssr_ftest': (11.241337710090294, 1.3199507135260694e-05, 21023.0, 2), 'ssr_chi2test': (22.48802258172275, 1.3085428293724766e-05, 2), 'lrtest': (22.476006438955665, 1.3164283126528645e-05, 2), 'params_ftest': (11.241337710090606, 1.3199507135260694e-05, 21023.0, 2)}, [<statsmodels.regression.linear_model.RegressionResultsWrapper object at 0x7f75735a9630>, <statsmodels.regression.linear_model.RegressionResultsWrapper object at 0x7f75735a9518>, array([[0., 0., 1., 0., 0.],\n",
            "       [0., 0., 0., 1., 0.]])]), 3: ({'ssr_ftest': (7.572642653188407, 4.64966862340677e-05, 21020.0, 3), 'ssr_chi2test': (22.72549339703986, 4.60683410855846e-05, 3), 'lrtest': (22.713221645448357, 4.634034143527139e-05, 3), 'params_ftest': (7.572642653192621, 4.649668623379068e-05, 21020.0, 3)}, [<statsmodels.regression.linear_model.RegressionResultsWrapper object at 0x7f75735a9668>, <statsmodels.regression.linear_model.RegressionResultsWrapper object at 0x7f75735a9dd8>, array([[0., 0., 0., 1., 0., 0., 0.],\n",
            "       [0., 0., 0., 0., 1., 0., 0.],\n",
            "       [0., 0., 0., 0., 0., 1., 0.]])]), 4: ({'ssr_ftest': (6.439779822706268, 3.5627503889598886e-05, 21017.0, 4), 'ssr_chi2test': (25.770149983769706, 3.520718171372099e-05, 4), 'lrtest': (25.754370508366264, 3.546589203240989e-05, 4), 'params_ftest': (6.439779822707843, 3.562750388948408e-05, 21017.0, 4)}, [<statsmodels.regression.linear_model.RegressionResultsWrapper object at 0x7f7572580048>, <statsmodels.regression.linear_model.RegressionResultsWrapper object at 0x7f7572580128>, array([[0., 0., 0., 0., 1., 0., 0., 0., 0.],\n",
            "       [0., 0., 0., 0., 0., 1., 0., 0., 0.],\n",
            "       [0., 0., 0., 0., 0., 0., 1., 0., 0.],\n",
            "       [0., 0., 0., 0., 0., 0., 0., 1., 0.]])]), 5: ({'ssr_ftest': (6.8010885880594385, 2.4025109712015426e-06, 21014.0, 5), 'ssr_chi2test': (34.02324344816543, 2.355769479404623e-06, 5), 'lrtest': (33.99574442821904, 2.3856536586811726e-06, 5), 'params_ftest': (6.801088588059466, 2.4025109712015426e-06, 21014.0, 5)}, [<statsmodels.regression.linear_model.RegressionResultsWrapper object at 0x7f75725805c0>, <statsmodels.regression.linear_model.RegressionResultsWrapper object at 0x7f75725804a8>, array([[0., 0., 0., 0., 0., 1., 0., 0., 0., 0., 0.],\n",
            "       [0., 0., 0., 0., 0., 0., 1., 0., 0., 0., 0.],\n",
            "       [0., 0., 0., 0., 0., 0., 0., 1., 0., 0., 0.],\n",
            "       [0., 0., 0., 0., 0., 0., 0., 0., 1., 0., 0.],\n",
            "       [0., 0., 0., 0., 0., 0., 0., 0., 0., 1., 0.]])])}\n",
            "-------------------------------------------------------------------------------------------------------------\n",
            "\n",
            "\n",
            "\n",
            "\n",
            "Granger Test between Delhi site 124 and the Panjab site 1549.\n",
            "\n",
            "Granger Causality\n",
            "number of lags (no zero) 1\n",
            "ssr based F test:         F=0.5782  , p=0.4470  , df_denom=17030, df_num=1\n",
            "ssr based chi2 test:   chi2=0.5783  , p=0.4470  , df=1\n",
            "likelihood ratio test: chi2=0.5783  , p=0.4470  , df=1\n",
            "parameter F test:         F=0.5782  , p=0.4470  , df_denom=17030, df_num=1\n",
            "\n",
            "Granger Causality\n",
            "number of lags (no zero) 2\n",
            "ssr based F test:         F=0.6067  , p=0.5451  , df_denom=17027, df_num=2\n",
            "ssr based chi2 test:   chi2=1.2138  , p=0.5450  , df=2\n",
            "likelihood ratio test: chi2=1.2137  , p=0.5451  , df=2\n",
            "parameter F test:         F=0.6067  , p=0.5451  , df_denom=17027, df_num=2\n",
            "\n",
            "Granger Causality\n",
            "number of lags (no zero) 3\n",
            "ssr based F test:         F=1.0676  , p=0.3614  , df_denom=17024, df_num=3\n",
            "ssr based chi2 test:   chi2=3.2041  , p=0.3612  , df=3\n",
            "likelihood ratio test: chi2=3.2038  , p=0.3613  , df=3\n",
            "parameter F test:         F=1.0676  , p=0.3614  , df_denom=17024, df_num=3\n",
            "\n",
            "Granger Causality\n",
            "number of lags (no zero) 4\n",
            "ssr based F test:         F=0.9328  , p=0.4436  , df_denom=17021, df_num=4\n",
            "ssr based chi2 test:   chi2=3.7331  , p=0.4433  , df=4\n",
            "likelihood ratio test: chi2=3.7326  , p=0.4434  , df=4\n",
            "parameter F test:         F=0.9328  , p=0.4436  , df_denom=17021, df_num=4\n",
            "\n",
            "Granger Causality\n",
            "number of lags (no zero) 5\n",
            "ssr based F test:         F=1.0024  , p=0.4145  , df_denom=17018, df_num=5\n",
            "ssr based chi2 test:   chi2=5.0152  , p=0.4140  , df=5\n",
            "likelihood ratio test: chi2=5.0145  , p=0.4141  , df=5\n",
            "parameter F test:         F=1.0024  , p=0.4145  , df_denom=17018, df_num=5\n",
            "{1: ({'ssr_ftest': (0.5781876968424915, 0.4470340908692003, 17030.0, 1), 'ssr_chi2test': (0.5782895502242018, 0.446983544671852, 1), 'lrtest': (0.5782797336578369, 0.44698740146128924, 1), 'params_ftest': (0.5781876968372915, 0.4470340908721723, 17030.0, 1)}, [<statsmodels.regression.linear_model.RegressionResultsWrapper object at 0x7f75725800f0>, <statsmodels.regression.linear_model.RegressionResultsWrapper object at 0x7f7572580748>, array([[0., 1., 0.]])]), 2: ({'ssr_ftest': (0.6067170518177952, 0.5451493779379146, 17027.0, 2), 'ssr_chi2test': (1.2137904300887634, 0.5450404782577355, 2), 'lrtest': (1.2137471816095058, 0.5450522644710782, 2), 'params_ftest': (0.6067170518203591, 0.545149377936884, 17027.0, 2)}, [<statsmodels.regression.linear_model.RegressionResultsWrapper object at 0x7f7572580358>, <statsmodels.regression.linear_model.RegressionResultsWrapper object at 0x7f75725809b0>, array([[0., 0., 1., 0., 0.],\n",
            "       [0., 0., 0., 1., 0.]])]), 3: ({'ssr_ftest': (1.0675831361421497, 0.36143889437274745, 17024.0, 3), 'ssr_chi2test': (3.2040663284134667, 0.3612195465277172, 3), 'lrtest': (3.203764973412035, 0.3612629083537486, 3), 'params_ftest': (1.067583136141822, 0.36143889437274745, 17024.0, 3)}, [<statsmodels.regression.linear_model.RegressionResultsWrapper object at 0x7f7572580cc0>, <statsmodels.regression.linear_model.RegressionResultsWrapper object at 0x7f7572580c18>, array([[0., 0., 0., 1., 0., 0., 0.],\n",
            "       [0., 0., 0., 0., 1., 0., 0.],\n",
            "       [0., 0., 0., 0., 0., 1., 0.]])]), 4: ({'ssr_ftest': (0.9327707559976579, 0.44364862311613784, 17021.0, 4), 'ssr_chi2test': (3.733055866198252, 0.4433364062314177, 4), 'lrtest': (3.7326467742968816, 0.44339545668227565, 4), 'params_ftest': (0.9327707559986463, 0.4436486231155903, 17021.0, 4)}, [<statsmodels.regression.linear_model.RegressionResultsWrapper object at 0x7f7572575160>, <statsmodels.regression.linear_model.RegressionResultsWrapper object at 0x7f7572575048>, array([[0., 0., 0., 0., 1., 0., 0., 0., 0.],\n",
            "       [0., 0., 0., 0., 0., 1., 0., 0., 0.],\n",
            "       [0., 0., 0., 0., 0., 0., 1., 0., 0.],\n",
            "       [0., 0., 0., 0., 0., 0., 0., 1., 0.]])]), 5: ({'ssr_ftest': (1.0023921593568441, 0.41445828507020155, 17018.0, 5), 'ssr_chi2test': (5.015200400072775, 0.4140279282558949, 5), 'lrtest': (5.014462033257587, 0.4141177721772563, 5), 'params_ftest': (1.0023921593564764, 0.41445828507020155, 17018.0, 5)}, [<statsmodels.regression.linear_model.RegressionResultsWrapper object at 0x7f7572575550>, <statsmodels.regression.linear_model.RegressionResultsWrapper object at 0x7f7572575668>, array([[0., 0., 0., 0., 0., 1., 0., 0., 0., 0., 0.],\n",
            "       [0., 0., 0., 0., 0., 0., 1., 0., 0., 0., 0.],\n",
            "       [0., 0., 0., 0., 0., 0., 0., 1., 0., 0., 0.],\n",
            "       [0., 0., 0., 0., 0., 0., 0., 0., 1., 0., 0.],\n",
            "       [0., 0., 0., 0., 0., 0., 0., 0., 0., 1., 0.]])])}\n",
            "-------------------------------------------------------------------------------------------------------------\n",
            "\n",
            "\n",
            "\n",
            "\n"
          ],
          "name": "stdout"
        }
      ]
    },
    {
      "metadata": {
        "id": "trwOBMVjigsX",
        "colab_type": "text"
      },
      "cell_type": "markdown",
      "source": [
        "### For Rajsthan Site"
      ]
    },
    {
      "metadata": {
        "id": "he52Z5RqiuAT",
        "colab_type": "code",
        "colab": {
          "resources": {
            "http://localhost:8080/nbextensions/google.colab/files.js": {
              "data": "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",
              "ok": true,
              "headers": [
                [
                  "content-type",
                  "application/javascript"
                ]
              ],
              "status": 200,
              "status_text": ""
            }
          },
          "base_uri": "https://localhost:8080/",
          "height": 312
        },
        "outputId": "5a45368f-64b1-47c2-9e22-9357feb26ab5"
      },
      "cell_type": "code",
      "source": [
        "from google.colab import files\n",
        "uploaded = files.upload()"
      ],
      "execution_count": 26,
      "outputs": [
        {
          "output_type": "display_data",
          "data": {
            "text/html": [
              "\n",
              "     <input type=\"file\" id=\"files-a6bd3ae4-42a8-45a6-a593-87b2cb846eb8\" name=\"files[]\" multiple disabled />\n",
              "     <output id=\"result-a6bd3ae4-42a8-45a6-a593-87b2cb846eb8\">\n",
              "      Upload widget is only available when the cell has been executed in the\n",
              "      current browser session. Please rerun this cell to enable.\n",
              "      </output>\n",
              "      <script src=\"/nbextensions/google.colab/files.js\"></script> "
            ],
            "text/plain": [
              "<IPython.core.display.HTML object>"
            ]
          },
          "metadata": {
            "tags": []
          }
        },
        {
          "output_type": "stream",
          "text": [
            "Saving complete134.csv to complete134.csv\n",
            "Saving complete1390.csv to complete1390.csv\n",
            "Saving complete1392.csv to complete1392.csv\n",
            "Saving complete1393.csv to complete1393.csv\n",
            "Saving complete1394.csv to complete1394.csv\n",
            "Saving complete1395.csv to complete1395.csv\n",
            "Saving complete1396.csv to complete1396.csv\n",
            "Saving complete1397.csv to complete1397.csv\n"
          ],
          "name": "stdout"
        }
      ]
    },
    {
      "metadata": {
        "id": "1CB-rT2viuSA",
        "colab_type": "code",
        "colab": {
          "base_uri": "https://localhost:8080/",
          "height": 54
        },
        "outputId": "46cef671-9b4c-4b89-e611-ebc7396484b5"
      },
      "cell_type": "code",
      "source": [
        "Rajsthan_list=[]\n",
        "for fn in uploaded.keys():\n",
        "  Rajsthan_list.append(fn)\n",
        "print(Rajsthan_list)"
      ],
      "execution_count": 27,
      "outputs": [
        {
          "output_type": "stream",
          "text": [
            "['complete134.csv', 'complete1390.csv', 'complete1392.csv', 'complete1393.csv', 'complete1394.csv', 'complete1395.csv', 'complete1396.csv', 'complete1397.csv']\n"
          ],
          "name": "stdout"
        }
      ]
    },
    {
      "metadata": {
        "id": "6x3Bg8N9iuj9",
        "colab_type": "code",
        "colab": {
          "base_uri": "https://localhost:8080/",
          "height": 6582
        },
        "outputId": "ade80ce6-82e5-46b0-9308-058417e167d1"
      },
      "cell_type": "code",
      "source": [
        "site_list=['134','1390','1392','1393','1394','1395','1396','1397']\n",
        "for i in range(len(Rajsthan_list)):\n",
        "  df=pd.read_csv(Rajsthan_list[i])\n",
        "  site_name='Rajsthan site '+site_list[i]\n",
        "  granger_causality_test(df_delhi_124,df,site_name)\n",
        "  print(\"\\n\")\n",
        "  print(\"-------------------------------------------------------------------------------------------------------------\\n\\n\")"
      ],
      "execution_count": 0,
      "outputs": [
        {
          "output_type": "stream",
          "text": [
            "Granger Test between Delhi site 124 and the Rajsthan site 134.\n",
            "\n",
            "Granger Causality\n",
            "number of lags (no zero) 1\n",
            "ssr based F test:         F=41.6402 , p=0.0000  , df_denom=50861, df_num=1\n",
            "ssr based chi2 test:   chi2=41.6427 , p=0.0000  , df=1\n",
            "likelihood ratio test: chi2=41.6257 , p=0.0000  , df=1\n",
            "parameter F test:         F=41.6402 , p=0.0000  , df_denom=50861, df_num=1\n",
            "\n",
            "Granger Causality\n",
            "number of lags (no zero) 2\n",
            "ssr based F test:         F=23.8093 , p=0.0000  , df_denom=50858, df_num=2\n",
            "ssr based chi2 test:   chi2=47.6233 , p=0.0000  , df=2\n",
            "likelihood ratio test: chi2=47.6010 , p=0.0000  , df=2\n",
            "parameter F test:         F=23.8093 , p=0.0000  , df_denom=50858, df_num=2\n",
            "\n",
            "Granger Causality\n",
            "number of lags (no zero) 3\n",
            "ssr based F test:         F=19.1402 , p=0.0000  , df_denom=50855, df_num=3\n",
            "ssr based chi2 test:   chi2=57.4286 , p=0.0000  , df=3\n",
            "likelihood ratio test: chi2=57.3962 , p=0.0000  , df=3\n",
            "parameter F test:         F=19.1402 , p=0.0000  , df_denom=50855, df_num=3\n",
            "\n",
            "Granger Causality\n",
            "number of lags (no zero) 4\n",
            "ssr based F test:         F=14.4050 , p=0.0000  , df_denom=50852, df_num=4\n",
            "ssr based chi2 test:   chi2=57.6304 , p=0.0000  , df=4\n",
            "likelihood ratio test: chi2=57.5977 , p=0.0000  , df=4\n",
            "parameter F test:         F=14.4050 , p=0.0000  , df_denom=50852, df_num=4\n",
            "\n",
            "Granger Causality\n",
            "number of lags (no zero) 5\n",
            "ssr based F test:         F=11.5646 , p=0.0000  , df_denom=50849, df_num=5\n",
            "ssr based chi2 test:   chi2=57.8355 , p=0.0000  , df=5\n",
            "likelihood ratio test: chi2=57.8026 , p=0.0000  , df=5\n",
            "parameter F test:         F=11.5646 , p=0.0000  , df_denom=50849, df_num=5\n",
            "{1: ({'ssr_ftest': (41.64023537097531, 1.1069534507001391e-10, 50861.0, 1), 'ssr_chi2test': (41.64269149071564, 1.0957423963219138e-10, 1), 'lrtest': (41.6256542163901, 1.1053328869581164e-10, 1), 'params_ftest': (41.64023537102354, 1.1069534506739945e-10, 50861.0, 1)}, [<statsmodels.regression.linear_model.RegressionResultsWrapper object at 0x7f75725754a8>, <statsmodels.regression.linear_model.RegressionResultsWrapper object at 0x7f75725590b8>, array([[0., 1., 0.]])]), 2: ({'ssr_ftest': (23.809323222148272, 4.6193419189674906e-11, 50858.0, 2), 'ssr_chi2test': (47.623327973893105, 4.557490011872653e-11, 2), 'lrtest': (47.6010468788445, 4.608546818268911e-11, 2), 'params_ftest': (23.809323222146837, 4.6193419189674906e-11, 50858.0, 2)}, [<statsmodels.regression.linear_model.RegressionResultsWrapper object at 0x7f7572559278>, <statsmodels.regression.linear_model.RegressionResultsWrapper object at 0x7f7572559438>, array([[0., 0., 1., 0., 0.],\n",
            "       [0., 0., 0., 1., 0.]])]), 3: ({'ssr_ftest': (19.14024018648299, 2.1227234990526577e-12, 50855.0, 3), 'ssr_chi2test': (57.428624306256886, 2.081665693772885e-12, 3), 'lrtest': (57.39622716861777, 2.115083227207565e-12, 3), 'params_ftest': (19.140240186472646, 2.1227234990824084e-12, 50855.0, 3)}, [<statsmodels.regression.linear_model.RegressionResultsWrapper object at 0x7f7572575b38>, <statsmodels.regression.linear_model.RegressionResultsWrapper object at 0x7f7572575c18>, array([[0., 0., 0., 1., 0., 0., 0.],\n",
            "       [0., 0., 0., 0., 1., 0., 0.],\n",
            "       [0., 0., 0., 0., 0., 1., 0.]])]), 4: ({'ssr_ftest': (14.405040282343325, 9.309195557386913e-12, 50852.0, 4), 'ssr_chi2test': (57.630358986884595, 9.12355257786291e-12, 4), 'lrtest': (57.59773328603478, 9.268530395157254e-12, 4), 'params_ftest': (14.405040282346567, 9.309195557311639e-12, 50852.0, 4)}, [<statsmodels.regression.linear_model.RegressionResultsWrapper object at 0x7f75725751d0>, <statsmodels.regression.linear_model.RegressionResultsWrapper object at 0x7f7572575ba8>, array([[0., 0., 0., 0., 1., 0., 0., 0., 0.],\n",
            "       [0., 0., 0., 0., 0., 1., 0., 0., 0.],\n",
            "       [0., 0., 0., 0., 0., 0., 1., 0., 0.],\n",
            "       [0., 0., 0., 0., 0., 0., 0., 1., 0.]])]), 5: ({'ssr_ftest': (11.564594751347332, 3.472370953769244e-11, 50849.0, 5), 'ssr_chi2test': (57.835482413963426, 3.40111690948526e-11, 5), 'lrtest': (57.802623493480496, 3.454610915474105e-11, 5), 'params_ftest': (11.56459475134497, 3.4723709537842695e-11, 50849.0, 5)}, [<statsmodels.regression.linear_model.RegressionResultsWrapper object at 0x7f7572561198>, <statsmodels.regression.linear_model.RegressionResultsWrapper object at 0x7f7572561208>, array([[0., 0., 0., 0., 0., 1., 0., 0., 0., 0., 0.],\n",
            "       [0., 0., 0., 0., 0., 0., 1., 0., 0., 0., 0.],\n",
            "       [0., 0., 0., 0., 0., 0., 0., 1., 0., 0., 0.],\n",
            "       [0., 0., 0., 0., 0., 0., 0., 0., 1., 0., 0.],\n",
            "       [0., 0., 0., 0., 0., 0., 0., 0., 0., 1., 0.]])])}\n",
            "-------------------------------------------------------------------------------------------------------------\n",
            "\n",
            "\n",
            "\n",
            "\n",
            "-------------------------------------------------------------------------------------------------------------\n",
            "\n",
            "\n",
            "Granger Test between Delhi site 124 and the Rajsthan site 1390.\n",
            "\n",
            "Granger Causality\n",
            "number of lags (no zero) 1\n",
            "ssr based F test:         F=6.3229  , p=0.0119  , df_denom=28223, df_num=1\n",
            "ssr based chi2 test:   chi2=6.3236  , p=0.0119  , df=1\n",
            "likelihood ratio test: chi2=6.3229  , p=0.0119  , df=1\n",
            "parameter F test:         F=6.3229  , p=0.0119  , df_denom=28223, df_num=1\n",
            "\n",
            "Granger Causality\n",
            "number of lags (no zero) 2\n",
            "ssr based F test:         F=4.3260  , p=0.0132  , df_denom=28220, df_num=2\n",
            "ssr based chi2 test:   chi2=8.6536  , p=0.0132  , df=2\n",
            "likelihood ratio test: chi2=8.6523  , p=0.0132  , df=2\n",
            "parameter F test:         F=4.3260  , p=0.0132  , df_denom=28220, df_num=2\n",
            "\n",
            "Granger Causality\n",
            "number of lags (no zero) 3\n",
            "ssr based F test:         F=3.1234  , p=0.0248  , df_denom=28217, df_num=3\n",
            "ssr based chi2 test:   chi2=9.3727  , p=0.0247  , df=3\n",
            "likelihood ratio test: chi2=9.3711  , p=0.0247  , df=3\n",
            "parameter F test:         F=3.1234  , p=0.0248  , df_denom=28217, df_num=3\n",
            "\n",
            "Granger Causality\n",
            "number of lags (no zero) 4\n",
            "ssr based F test:         F=2.6535  , p=0.0313  , df_denom=28214, df_num=4\n",
            "ssr based chi2 test:   chi2=10.6173 , p=0.0312  , df=4\n",
            "likelihood ratio test: chi2=10.6153 , p=0.0312  , df=4\n",
            "parameter F test:         F=2.6535  , p=0.0313  , df_denom=28214, df_num=4\n",
            "\n",
            "Granger Causality\n",
            "number of lags (no zero) 5\n",
            "ssr based F test:         F=2.1397  , p=0.0577  , df_denom=28211, df_num=5\n",
            "ssr based chi2 test:   chi2=10.7027 , p=0.0576  , df=5\n",
            "likelihood ratio test: chi2=10.7006 , p=0.0576  , df=5\n",
            "parameter F test:         F=2.1397  , p=0.0577  , df_denom=28211, df_num=5\n",
            "{1: ({'ssr_ftest': (6.322913830403504, 0.011924275719985876, 28223.0, 1), 'ssr_chi2test': (6.323585932642501, 0.011914245401026048, 1), 'lrtest': (6.322877689031884, 0.011919004786063024, 1), 'params_ftest': (6.322913830395764, 0.011924275720060615, 28223.0, 1)}, [<statsmodels.regression.linear_model.RegressionResultsWrapper object at 0x7f75798483c8>, <statsmodels.regression.linear_model.RegressionResultsWrapper object at 0x7f75735a9278>, array([[0., 1., 0.]])]), 2: ({'ssr_ftest': (4.326046380331762, 0.01322847805152379, 28220.0, 2), 'ssr_chi2test': (8.653625732449608, 0.013209581173326785, 2), 'lrtest': (8.652299427136313, 0.01321834404741555, 2), 'params_ftest': (4.3260463803252405, 0.013228478051626033, 28220.0, 2)}, [<statsmodels.regression.linear_model.RegressionResultsWrapper object at 0x7f75735a9668>, <statsmodels.regression.linear_model.RegressionResultsWrapper object at 0x7f75735a92b0>, array([[0., 0., 1., 0., 0.],\n",
            "       [0., 0., 0., 1., 0.]])]), 3: ({'ssr_ftest': (3.123447926225794, 0.02476711934881613, 28217.0, 3), 'ssr_chi2test': (9.372668349200497, 0.024725258886899658, 3), 'lrtest': (9.371112448745407, 0.024742786603393657, 3), 'params_ftest': (3.1234479262324353, 0.02476711934865778, 28217.0, 3)}, [<statsmodels.regression.linear_model.RegressionResultsWrapper object at 0x7f7572556588>, <statsmodels.regression.linear_model.RegressionResultsWrapper object at 0x7f75725560b8>, array([[0., 0., 0., 1., 0., 0., 0.],\n",
            "       [0., 0., 0., 0., 1., 0., 0.],\n",
            "       [0., 0., 0., 0., 0., 1., 0.]])]), 4: ({'ssr_ftest': (2.6534759748128582, 0.03128495559902145, 28214.0, 4), 'ssr_chi2test': (10.617289634528007, 0.031219139359136124, 4), 'lrtest': (10.61529306130251, 0.031245375485620553, 4), 'params_ftest': (2.6534759748148584, 0.031284955598915413, 28214.0, 4)}, [<statsmodels.regression.linear_model.RegressionResultsWrapper object at 0x7f7572556fd0>, <statsmodels.regression.linear_model.RegressionResultsWrapper object at 0x7f7572556e48>, array([[0., 0., 0., 0., 1., 0., 0., 0., 0.],\n",
            "       [0., 0., 0., 0., 0., 1., 0., 0., 0.],\n",
            "       [0., 0., 0., 0., 0., 0., 1., 0., 0.],\n",
            "       [0., 0., 0., 0., 0., 0., 0., 1., 0.]])]), 5: ({'ssr_ftest': (2.1397002005791523, 0.057728866545255886, 28211.0, 5), 'ssr_chi2test': (10.702672549846662, 0.05760441753258861, 5), 'lrtest': (10.700643667252734, 0.0576492287571944, 5), 'params_ftest': (2.1397002005768866, 0.057728866545536044, 28211.0, 5)}, [<statsmodels.regression.linear_model.RegressionResultsWrapper object at 0x7f757255acc0>, <statsmodels.regression.linear_model.RegressionResultsWrapper object at 0x7f757255a080>, array([[0., 0., 0., 0., 0., 1., 0., 0., 0., 0., 0.],\n",
            "       [0., 0., 0., 0., 0., 0., 1., 0., 0., 0., 0.],\n",
            "       [0., 0., 0., 0., 0., 0., 0., 1., 0., 0., 0.],\n",
            "       [0., 0., 0., 0., 0., 0., 0., 0., 1., 0., 0.],\n",
            "       [0., 0., 0., 0., 0., 0., 0., 0., 0., 1., 0.]])])}\n",
            "-------------------------------------------------------------------------------------------------------------\n",
            "\n",
            "\n",
            "\n",
            "\n",
            "-------------------------------------------------------------------------------------------------------------\n",
            "\n",
            "\n",
            "Granger Test between Delhi site 124 and the Rajsthan site 1392.\n",
            "\n",
            "Granger Causality\n",
            "number of lags (no zero) 1\n",
            "ssr based F test:         F=0.0151  , p=0.9021  , df_denom=33411, df_num=1\n",
            "ssr based chi2 test:   chi2=0.0151  , p=0.9020  , df=1\n",
            "likelihood ratio test: chi2=0.0151  , p=0.9020  , df=1\n",
            "parameter F test:         F=0.0151  , p=0.9021  , df_denom=33411, df_num=1\n",
            "\n",
            "Granger Causality\n",
            "number of lags (no zero) 2\n",
            "ssr based F test:         F=0.0691  , p=0.9333  , df_denom=33408, df_num=2\n",
            "ssr based chi2 test:   chi2=0.1382  , p=0.9332  , df=2\n",
            "likelihood ratio test: chi2=0.1382  , p=0.9332  , df=2\n",
            "parameter F test:         F=0.0691  , p=0.9333  , df_denom=33408, df_num=2\n",
            "\n",
            "Granger Causality\n",
            "number of lags (no zero) 3\n",
            "ssr based F test:         F=0.7888  , p=0.4999  , df_denom=33405, df_num=3\n",
            "ssr based chi2 test:   chi2=2.3669  , p=0.4998  , df=3\n",
            "likelihood ratio test: chi2=2.3668  , p=0.4998  , df=3\n",
            "parameter F test:         F=0.7888  , p=0.4999  , df_denom=33405, df_num=3\n",
            "\n",
            "Granger Causality\n",
            "number of lags (no zero) 4\n",
            "ssr based F test:         F=2.4637  , p=0.0430  , df_denom=33402, df_num=4\n",
            "ssr based chi2 test:   chi2=9.8575  , p=0.0429  , df=4\n",
            "likelihood ratio test: chi2=9.8561  , p=0.0429  , df=4\n",
            "parameter F test:         F=2.4637  , p=0.0430  , df_denom=33402, df_num=4\n",
            "\n",
            "Granger Causality\n",
            "number of lags (no zero) 5\n",
            "ssr based F test:         F=2.5751  , p=0.0246  , df_denom=33399, df_num=5\n",
            "ssr based chi2 test:   chi2=12.8799 , p=0.0245  , df=5\n",
            "likelihood ratio test: chi2=12.8774 , p=0.0246  , df=5\n",
            "parameter F test:         F=2.5751  , p=0.0246  , df_denom=33399, df_num=5\n",
            "{1: ({'ssr_ftest': (0.015146070426681984, 0.9020529043860952, 33411.0, 1), 'ssr_chi2test': (0.0151474304042726, 0.9020477889961914, 1), 'lrtest': (0.015147426922339946, 0.9020478001975771, 1), 'params_ftest': (0.015146070404446862, 0.9020529044576961, 33411.0, 1)}, [<statsmodels.regression.linear_model.RegressionResultsWrapper object at 0x7f75729f0f60>, <statsmodels.regression.linear_model.RegressionResultsWrapper object at 0x7f75729f06a0>, array([[0., 1., 0.]])]), 2: ({'ssr_ftest': (0.06908119961778932, 0.9332510306975806, 33408.0, 2), 'ssr_chi2test': (0.13818307727665197, 0.9332412485349976, 2), 'lrtest': (0.1381827915320173, 0.9332413818693469, 2), 'params_ftest': (0.06908119961344684, 0.9332510307010421, 33408.0, 2)}, [<statsmodels.regression.linear_model.RegressionResultsWrapper object at 0x7f75725515c0>, <statsmodels.regression.linear_model.RegressionResultsWrapper object at 0x7f7572551898>, array([[0., 0., 1., 0., 0.],\n",
            "       [0., 0., 0., 1., 0.]])]), 3: ({'ssr_ftest': (0.7888011185098653, 0.49992836299993615, 33405.0, 3), 'ssr_chi2test': (2.366899234095341, 0.49982606049614176, 3), 'lrtest': (2.366815402696375, 0.49984181650738735, 3), 'params_ftest': (0.7888011185065459, 0.4999283630027246, 33405.0, 3)}, [<statsmodels.regression.linear_model.RegressionResultsWrapper object at 0x7f7572551550>, <statsmodels.regression.linear_model.RegressionResultsWrapper object at 0x7f7572551a58>, array([[0., 0., 0., 1., 0., 0., 0.],\n",
            "       [0., 0., 0., 0., 1., 0., 0.],\n",
            "       [0., 0., 0., 0., 0., 1., 0.]])]), 4: ({'ssr_ftest': (2.463721602507498, 0.042965031345251765, 33402.0, 4), 'ssr_chi2test': (9.85754175934112, 0.04289697537122111, 4), 'lrtest': (9.856087866530288, 0.04292290694408574, 4), 'params_ftest': (2.4637216025047532, 0.0429650313454933, 33402.0, 4)}, [<statsmodels.regression.linear_model.RegressionResultsWrapper object at 0x7f7572551e80>, <statsmodels.regression.linear_model.RegressionResultsWrapper object at 0x7f75725668d0>, array([[0., 0., 0., 0., 1., 0., 0., 0., 0.],\n",
            "       [0., 0., 0., 0., 0., 1., 0., 0., 0.],\n",
            "       [0., 0., 0., 0., 0., 0., 1., 0., 0.],\n",
            "       [0., 0., 0., 0., 0., 0., 0., 1., 0.]])]), 5: ({'ssr_ftest': (2.5751371329897568, 0.02459071258642298, 33399.0, 5), 'ssr_chi2test': (12.879926287192397, 0.02453035088826193, 5), 'lrtest': (12.877444247715175, 0.02455471967084467, 5), 'params_ftest': (2.575137132988168, 0.024590712586515694, 33399.0, 5)}, [<statsmodels.regression.linear_model.RegressionResultsWrapper object at 0x7f7572566470>, <statsmodels.regression.linear_model.RegressionResultsWrapper object at 0x7f75725661d0>, array([[0., 0., 0., 0., 0., 1., 0., 0., 0., 0., 0.],\n",
            "       [0., 0., 0., 0., 0., 0., 1., 0., 0., 0., 0.],\n",
            "       [0., 0., 0., 0., 0., 0., 0., 1., 0., 0., 0.],\n",
            "       [0., 0., 0., 0., 0., 0., 0., 0., 1., 0., 0.],\n",
            "       [0., 0., 0., 0., 0., 0., 0., 0., 0., 1., 0.]])])}\n",
            "-------------------------------------------------------------------------------------------------------------\n",
            "\n",
            "\n",
            "\n",
            "\n",
            "-------------------------------------------------------------------------------------------------------------\n",
            "\n",
            "\n",
            "Granger Test between Delhi site 124 and the Rajsthan site 1393.\n",
            "\n",
            "Granger Causality\n",
            "number of lags (no zero) 1\n",
            "ssr based F test:         F=24.3696 , p=0.0000  , df_denom=28749, df_num=1\n",
            "ssr based chi2 test:   chi2=24.3722 , p=0.0000  , df=1\n",
            "likelihood ratio test: chi2=24.3619 , p=0.0000  , df=1\n",
            "parameter F test:         F=24.3696 , p=0.0000  , df_denom=28749, df_num=1\n",
            "\n",
            "Granger Causality\n",
            "number of lags (no zero) 2\n",
            "ssr based F test:         F=13.4383 , p=0.0000  , df_denom=28746, df_num=2\n",
            "ssr based chi2 test:   chi2=26.8813 , p=0.0000  , df=2\n",
            "likelihood ratio test: chi2=26.8687 , p=0.0000  , df=2\n",
            "parameter F test:         F=13.4383 , p=0.0000  , df_denom=28746, df_num=2\n",
            "\n",
            "Granger Causality\n",
            "number of lags (no zero) 3\n",
            "ssr based F test:         F=10.8181 , p=0.0000  , df_denom=28743, df_num=3\n",
            "ssr based chi2 test:   chi2=32.4621 , p=0.0000  , df=3\n",
            "likelihood ratio test: chi2=32.4438 , p=0.0000  , df=3\n",
            "parameter F test:         F=10.8181 , p=0.0000  , df_denom=28743, df_num=3\n",
            "\n",
            "Granger Causality\n",
            "number of lags (no zero) 4\n",
            "ssr based F test:         F=8.5718  , p=0.0000  , df_denom=28740, df_num=4\n",
            "ssr based chi2 test:   chi2=34.2981 , p=0.0000  , df=4\n",
            "likelihood ratio test: chi2=34.2777 , p=0.0000  , df=4\n",
            "parameter F test:         F=8.5718  , p=0.0000  , df_denom=28740, df_num=4\n",
            "\n",
            "Granger Causality\n",
            "number of lags (no zero) 5\n",
            "ssr based F test:         F=9.1791  , p=0.0000  , df_denom=28737, df_num=5\n",
            "ssr based chi2 test:   chi2=45.9131 , p=0.0000  , df=5\n",
            "likelihood ratio test: chi2=45.8765 , p=0.0000  , df=5\n",
            "parameter F test:         F=9.1791  , p=0.0000  , df_denom=28737, df_num=5\n",
            "{1: ({'ssr_ftest': (24.369634119326506, 7.995699489970756e-07, 28749.0, 1), 'ssr_chi2test': (24.3721771261218, 7.940729832920292e-07, 1), 'lrtest': (24.3618531912216, 7.983400022135272e-07, 1), 'params_ftest': (24.369634119326495, 7.995699489970756e-07, 28749.0, 1)}, [<statsmodels.regression.linear_model.RegressionResultsWrapper object at 0x7f75725668d0>, <statsmodels.regression.linear_model.RegressionResultsWrapper object at 0x7f7572566940>, array([[0., 1., 0.]])]), 2: ({'ssr_ftest': (13.438307237419323, 1.4673845623037685e-06, 28746.0, 2), 'ssr_chi2test': (26.881289319073467, 1.4547963110637239e-06, 2), 'lrtest': (26.86873056238983, 1.463960269380194e-06, 2), 'params_ftest': (13.438307237425837, 1.4673845622948956e-06, 28746.0, 2)}, [<statsmodels.regression.linear_model.RegressionResultsWrapper object at 0x7f7572566a90>, <statsmodels.regression.linear_model.RegressionResultsWrapper object at 0x7f7572566d68>, array([[0., 0., 1., 0., 0.],\n",
            "       [0., 0., 0., 1., 0.]])]), 3: ({'ssr_ftest': (10.818077573533253, 4.2342994196685626e-07, 28743.0, 3), 'ssr_chi2test': (32.46213654514989, 4.1819039579200155e-07, 3), 'lrtest': (32.4438235409325, 4.219248169746832e-07, 3), 'params_ftest': (10.818077573536728, 4.2342994196490364e-07, 28743.0, 3)}, [<statsmodels.regression.linear_model.RegressionResultsWrapper object at 0x7f75725590b8>, <statsmodels.regression.linear_model.RegressionResultsWrapper object at 0x7f7572559208>, array([[0., 0., 0., 1., 0., 0., 0.],\n",
            "       [0., 0., 0., 0., 1., 0., 0.],\n",
            "       [0., 0., 0., 0., 0., 1., 0.]])]), 4: ({'ssr_ftest': (8.57184177486854, 6.565484303799959e-07, 28740.0, 4), 'ssr_chi2test': (34.298104270799676, 6.473143517045946e-07, 4), 'lrtest': (34.27766138268635, 6.535964603944183e-07, 4), 'params_ftest': (8.571841774868316, 6.565484303799959e-07, 28740.0, 4)}, [<statsmodels.regression.linear_model.RegressionResultsWrapper object at 0x7f75725593c8>, <statsmodels.regression.linear_model.RegressionResultsWrapper object at 0x7f7572559828>, array([[0., 0., 0., 0., 1., 0., 0., 0., 0.],\n",
            "       [0., 0., 0., 0., 0., 1., 0., 0., 0.],\n",
            "       [0., 0., 0., 0., 0., 0., 1., 0., 0.],\n",
            "       [0., 0., 0., 0., 0., 0., 0., 1., 0.]])]), 5: ({'ssr_ftest': (9.179103215194186, 9.69218308607766e-09, 28737.0, 5), 'ssr_chi2test': (45.913084043289565, 9.459767392473143e-09, 5), 'lrtest': (45.87645941693336, 9.623558026182285e-09, 5), 'params_ftest': (9.179103215193829, 9.692183086088507e-09, 28737.0, 5)}, [<statsmodels.regression.linear_model.RegressionResultsWrapper object at 0x7f7572559668>, <statsmodels.regression.linear_model.RegressionResultsWrapper object at 0x7f7572559cc0>, array([[0., 0., 0., 0., 0., 1., 0., 0., 0., 0., 0.],\n",
            "       [0., 0., 0., 0., 0., 0., 1., 0., 0., 0., 0.],\n",
            "       [0., 0., 0., 0., 0., 0., 0., 1., 0., 0., 0.],\n",
            "       [0., 0., 0., 0., 0., 0., 0., 0., 1., 0., 0.],\n",
            "       [0., 0., 0., 0., 0., 0., 0., 0., 0., 1., 0.]])])}\n",
            "-------------------------------------------------------------------------------------------------------------\n",
            "\n",
            "\n",
            "\n",
            "\n",
            "-------------------------------------------------------------------------------------------------------------\n",
            "\n",
            "\n",
            "Granger Test between Delhi site 124 and the Rajsthan site 1394.\n",
            "\n",
            "Granger Causality\n",
            "number of lags (no zero) 1\n",
            "ssr based F test:         F=21.4014 , p=0.0000  , df_denom=32650, df_num=1\n",
            "ssr based chi2 test:   chi2=21.4034 , p=0.0000  , df=1\n",
            "likelihood ratio test: chi2=21.3964 , p=0.0000  , df=1\n",
            "parameter F test:         F=21.4014 , p=0.0000  , df_denom=32650, df_num=1\n",
            "\n",
            "Granger Causality\n",
            "number of lags (no zero) 2\n",
            "ssr based F test:         F=15.2664 , p=0.0000  , df_denom=32647, df_num=2\n",
            "ssr based chi2 test:   chi2=30.5375 , p=0.0000  , df=2\n",
            "likelihood ratio test: chi2=30.5232 , p=0.0000  , df=2\n",
            "parameter F test:         F=15.2664 , p=0.0000  , df_denom=32647, df_num=2\n",
            "\n",
            "Granger Causality\n",
            "number of lags (no zero) 3\n",
            "ssr based F test:         F=10.5615 , p=0.0000  , df_denom=32644, df_num=3\n",
            "ssr based chi2 test:   chi2=31.6914 , p=0.0000  , df=3\n",
            "likelihood ratio test: chi2=31.6760 , p=0.0000  , df=3\n",
            "parameter F test:         F=10.5615 , p=0.0000  , df_denom=32644, df_num=3\n",
            "\n",
            "Granger Causality\n",
            "number of lags (no zero) 4\n",
            "ssr based F test:         F=9.7375  , p=0.0000  , df_denom=32641, df_num=4\n",
            "ssr based chi2 test:   chi2=38.9607 , p=0.0000  , df=4\n",
            "likelihood ratio test: chi2=38.9374 , p=0.0000  , df=4\n",
            "parameter F test:         F=9.7375  , p=0.0000  , df_denom=32641, df_num=4\n",
            "\n",
            "Granger Causality\n",
            "number of lags (no zero) 5\n",
            "ssr based F test:         F=10.1213 , p=0.0000  , df_denom=32638, df_num=5\n",
            "ssr based chi2 test:   chi2=50.6235 , p=0.0000  , df=5\n",
            "likelihood ratio test: chi2=50.5843 , p=0.0000  , df=5\n",
            "parameter F test:         F=10.1213 , p=0.0000  , df_denom=32638, df_num=5\n",
            "{1: ({'ssr_ftest': (21.401429898041926, 3.7392177595704867e-06, 32650.0, 1), 'ssr_chi2test': (21.403396338767628, 3.721114404286422e-06, 1), 'lrtest': (21.39638465095777, 3.734747670920346e-06, 1), 'params_ftest': (21.4014298980769, 3.7392177595048556e-06, 32650.0, 1)}, [<statsmodels.regression.linear_model.RegressionResultsWrapper object at 0x7f7572566b00>, <statsmodels.regression.linear_model.RegressionResultsWrapper object at 0x7f7572566ba8>, array([[0., 1., 0.]])]), 2: ({'ssr_ftest': (15.266391120463666, 2.3604185449413275e-07, 32647.0, 2), 'ssr_chi2test': (30.53745844122766, 2.338164992156263e-07, 2), 'lrtest': (30.52318741119234, 2.3549086699108238e-07, 2), 'params_ftest': (15.266391120468612, 2.3604185449293987e-07, 32647.0, 2)}, [<statsmodels.regression.linear_model.RegressionResultsWrapper object at 0x7f757256b198>, <statsmodels.regression.linear_model.RegressionResultsWrapper object at 0x7f757256b080>, array([[0., 0., 1., 0., 0.],\n",
            "       [0., 0., 0., 1., 0.]])]), 3: ({'ssr_ftest': (10.561521333265597, 6.143185592367185e-07, 32644.0, 3), 'ssr_chi2test': (31.69135826361246, 6.078924368414321e-07, 3), 'lrtest': (31.675988247734495, 6.124421174974795e-07, 3), 'params_ftest': (10.561521333265693, 6.143185592367185e-07, 32644.0, 3)}, [<statsmodels.regression.linear_model.RegressionResultsWrapper object at 0x7f757256b470>, <statsmodels.regression.linear_model.RegressionResultsWrapper object at 0x7f757256b3c8>, array([[0., 0., 0., 1., 0., 0., 0.],\n",
            "       [0., 0., 0., 0., 1., 0., 0.],\n",
            "       [0., 0., 0., 0., 0., 1., 0.]])]), 4: ({'ssr_ftest': (9.737481824157964, 7.209473944689284e-08, 32641.0, 4), 'ssr_chi2test': (38.96066683726081, 7.097995395834135e-08, 4), 'lrtest': (38.93743977614213, 7.176836719011757e-08, 4), 'params_ftest': (9.737481824160202, 7.209473944651684e-08, 32641.0, 4)}, [<statsmodels.regression.linear_model.RegressionResultsWrapper object at 0x7f757256b860>, <statsmodels.regression.linear_model.RegressionResultsWrapper object at 0x7f757256b940>, array([[0., 0., 0., 0., 1., 0., 0., 0., 0.],\n",
            "       [0., 0., 0., 0., 0., 1., 0., 0., 0.],\n",
            "       [0., 0., 0., 0., 0., 0., 1., 0., 0.],\n",
            "       [0., 0., 0., 0., 0., 0., 0., 1., 0.]])]), 5: ({'ssr_ftest': (10.12129181800275, 1.0595139268928918e-09, 32638.0, 5), 'ssr_chi2test': (50.62351500796185, 1.0329144462486698e-09, 5), 'lrtest': (50.5843086882378, 1.0521864700082642e-09, 5), 'params_ftest': (10.121291817998173, 1.0595139269038379e-09, 32638.0, 5)}, [<statsmodels.regression.linear_model.RegressionResultsWrapper object at 0x7f757256b780>, <statsmodels.regression.linear_model.RegressionResultsWrapper object at 0x7f757256bdd8>, array([[0., 0., 0., 0., 0., 1., 0., 0., 0., 0., 0.],\n",
            "       [0., 0., 0., 0., 0., 0., 1., 0., 0., 0., 0.],\n",
            "       [0., 0., 0., 0., 0., 0., 0., 1., 0., 0., 0.],\n",
            "       [0., 0., 0., 0., 0., 0., 0., 0., 1., 0., 0.],\n",
            "       [0., 0., 0., 0., 0., 0., 0., 0., 0., 1., 0.]])])}\n",
            "-------------------------------------------------------------------------------------------------------------\n",
            "\n",
            "\n",
            "\n",
            "\n",
            "-------------------------------------------------------------------------------------------------------------\n",
            "\n",
            "\n",
            "Granger Test between Delhi site 124 and the Rajsthan site 1395.\n",
            "\n",
            "Granger Causality\n",
            "number of lags (no zero) 1\n",
            "ssr based F test:         F=0.5434  , p=0.4610  , df_denom=35730, df_num=1\n",
            "ssr based chi2 test:   chi2=0.5434  , p=0.4610  , df=1\n",
            "likelihood ratio test: chi2=0.5434  , p=0.4610  , df=1\n",
            "parameter F test:         F=0.5434  , p=0.4610  , df_denom=35730, df_num=1\n",
            "\n",
            "Granger Causality\n",
            "number of lags (no zero) 2\n",
            "ssr based F test:         F=0.6097  , p=0.5435  , df_denom=35727, df_num=2\n",
            "ssr based chi2 test:   chi2=1.2195  , p=0.5435  , df=2\n",
            "likelihood ratio test: chi2=1.2195  , p=0.5435  , df=2\n",
            "parameter F test:         F=0.6097  , p=0.5435  , df_denom=35727, df_num=2\n",
            "\n",
            "Granger Causality\n",
            "number of lags (no zero) 3\n",
            "ssr based F test:         F=1.4958  , p=0.2134  , df_denom=35724, df_num=3\n",
            "ssr based chi2 test:   chi2=4.4882  , p=0.2133  , df=3\n",
            "likelihood ratio test: chi2=4.4879  , p=0.2134  , df=3\n",
            "parameter F test:         F=1.4958  , p=0.2134  , df_denom=35724, df_num=3\n",
            "\n",
            "Granger Causality\n",
            "number of lags (no zero) 4\n",
            "ssr based F test:         F=1.4524  , p=0.2138  , df_denom=35721, df_num=4\n",
            "ssr based chi2 test:   chi2=5.8112  , p=0.2137  , df=4\n",
            "likelihood ratio test: chi2=5.8107  , p=0.2137  , df=4\n",
            "parameter F test:         F=1.4524  , p=0.2138  , df_denom=35721, df_num=4\n",
            "\n",
            "Granger Causality\n",
            "number of lags (no zero) 5\n",
            "ssr based F test:         F=2.1567  , p=0.0559  , df_denom=35718, df_num=5\n",
            "ssr based chi2 test:   chi2=10.7869 , p=0.0558  , df=5\n",
            "likelihood ratio test: chi2=10.7853 , p=0.0558  , df=5\n",
            "parameter F test:         F=2.1567  , p=0.0559  , df_denom=35718, df_num=5\n",
            "{1: ({'ssr_ftest': (0.5433862859565657, 0.4610375584821468, 35730.0, 1), 'ssr_chi2test': (0.5434319103298618, 0.46101390137971565, 1), 'lrtest': (0.5434277780586854, 0.4610156055886815, 1), 'params_ftest': (0.5433862859495779, 0.4610375584854193, 35730.0, 1)}, [<statsmodels.regression.linear_model.RegressionResultsWrapper object at 0x7f757256bac8>, <statsmodels.regression.linear_model.RegressionResultsWrapper object at 0x7f757256b1d0>, array([[0., 1., 0.]])]), 2: ({'ssr_ftest': (0.6096830477158791, 0.5435287675346653, 35727.0, 2), 'ssr_chi2test': (1.21953674593354, 0.5434767384011132, 2), 'lrtest': (1.219515934935771, 0.5434823935771307, 2), 'params_ftest': (0.6096830477036591, 0.5435287675411327, 35727.0, 2)}, [<statsmodels.regression.linear_model.RegressionResultsWrapper object at 0x7f757257a2e8>, <statsmodels.regression.linear_model.RegressionResultsWrapper object at 0x7f757257a1d0>, array([[0., 0., 1., 0., 0.],\n",
            "       [0., 0., 0., 1., 0.]])]), 3: ({'ssr_ftest': (1.4957631188430185, 0.21344648567562108, 35724.0, 3), 'ssr_chi2test': (4.488168626081617, 0.21334804985629824, 3), 'lrtest': (4.48788677045377, 0.21337330801624796, 3), 'params_ftest': (1.495763118851542, 0.21344648567202285, 35724.0, 3)}, [<statsmodels.regression.linear_model.RegressionResultsWrapper object at 0x7f757257a630>, <statsmodels.regression.linear_model.RegressionResultsWrapper object at 0x7f757257a588>, array([[0., 0., 0., 1., 0., 0., 0.],\n",
            "       [0., 0., 0., 0., 1., 0., 0.],\n",
            "       [0., 0., 0., 0., 0., 1., 0.]])]), 4: ({'ssr_ftest': (1.452439579269616, 0.21383788512243168, 35721.0, 4), 'ssr_chi2test': (5.811222100982995, 0.21369686209812566, 4), 'lrtest': (5.810749575961381, 0.21373442638033846, 4), 'params_ftest': (1.4524395792795481, 0.21383788511886187, 35721.0, 4)}, [<statsmodels.regression.linear_model.RegressionResultsWrapper object at 0x7f757257a518>, <statsmodels.regression.linear_model.RegressionResultsWrapper object at 0x7f757257ab00>, array([[0., 0., 0., 0., 1., 0., 0., 0., 0.],\n",
            "       [0., 0., 0., 0., 0., 1., 0., 0., 0.],\n",
            "       [0., 0., 0., 0., 0., 0., 1., 0., 0.],\n",
            "       [0., 0., 0., 0., 0., 0., 0., 1., 0.]])]), 5: ({'ssr_ftest': (2.156711961341575, 0.05586950263686957, 35718.0, 5), 'ssr_chi2test': (10.786880797745273, 0.055773132600667415, 5), 'lrtest': (10.785252801142633, 0.05580801226711664, 5), 'params_ftest': (2.156711961341094, 0.05586950263705545, 35718.0, 5)}, [<statsmodels.regression.linear_model.RegressionResultsWrapper object at 0x7f757257aeb8>, <statsmodels.regression.linear_model.RegressionResultsWrapper object at 0x7f757257af60>, array([[0., 0., 0., 0., 0., 1., 0., 0., 0., 0., 0.],\n",
            "       [0., 0., 0., 0., 0., 0., 1., 0., 0., 0., 0.],\n",
            "       [0., 0., 0., 0., 0., 0., 0., 1., 0., 0., 0.],\n",
            "       [0., 0., 0., 0., 0., 0., 0., 0., 1., 0., 0.],\n",
            "       [0., 0., 0., 0., 0., 0., 0., 0., 0., 1., 0.]])])}\n",
            "-------------------------------------------------------------------------------------------------------------\n",
            "\n",
            "\n",
            "\n",
            "\n",
            "-------------------------------------------------------------------------------------------------------------\n",
            "\n",
            "\n",
            "Granger Test between Delhi site 124 and the Rajsthan site 1396.\n",
            "\n",
            "Granger Causality\n",
            "number of lags (no zero) 1\n",
            "ssr based F test:         F=17.6935 , p=0.0000  , df_denom=36413, df_num=1\n",
            "ssr based chi2 test:   chi2=17.6950 , p=0.0000  , df=1\n",
            "likelihood ratio test: chi2=17.6907 , p=0.0000  , df=1\n",
            "parameter F test:         F=17.6935 , p=0.0000  , df_denom=36413, df_num=1\n",
            "\n",
            "Granger Causality\n",
            "number of lags (no zero) 2\n",
            "ssr based F test:         F=9.0090  , p=0.0001  , df_denom=36410, df_num=2\n",
            "ssr based chi2 test:   chi2=18.0204 , p=0.0001  , df=2\n",
            "likelihood ratio test: chi2=18.0159 , p=0.0001  , df=2\n",
            "parameter F test:         F=9.0090  , p=0.0001  , df_denom=36410, df_num=2\n",
            "\n",
            "Granger Causality\n",
            "number of lags (no zero) 3\n",
            "ssr based F test:         F=6.5036  , p=0.0002  , df_denom=36407, df_num=3\n",
            "ssr based chi2 test:   chi2=19.5146 , p=0.0002  , df=3\n",
            "likelihood ratio test: chi2=19.5094 , p=0.0002  , df=3\n",
            "parameter F test:         F=6.5036  , p=0.0002  , df_denom=36407, df_num=3\n",
            "\n",
            "Granger Causality\n",
            "number of lags (no zero) 4\n",
            "ssr based F test:         F=7.8031  , p=0.0000  , df_denom=36404, df_num=4\n",
            "ssr based chi2 test:   chi2=31.2202 , p=0.0000  , df=4\n",
            "likelihood ratio test: chi2=31.2068 , p=0.0000  , df=4\n",
            "parameter F test:         F=7.8031  , p=0.0000  , df_denom=36404, df_num=4\n",
            "\n",
            "Granger Causality\n",
            "number of lags (no zero) 5\n",
            "ssr based F test:         F=6.6077  , p=0.0000  , df_denom=36401, df_num=5\n",
            "ssr based chi2 test:   chi2=33.0484 , p=0.0000  , df=5\n",
            "likelihood ratio test: chi2=33.0334 , p=0.0000  , df=5\n",
            "parameter F test:         F=6.6077  , p=0.0000  , df_denom=36401, df_num=5\n",
            "{1: ({'ssr_ftest': (17.693503842400066, 2.6013151319512618e-05, 36413.0, 1), 'ssr_chi2test': (17.694961577591542, 2.5931254772748386e-05, 1), 'lrtest': (17.690663875080645, 2.598990944349042e-05, 1), 'params_ftest': (17.693503842384683, 2.601315131967569e-05, 36413.0, 1)}, [<statsmodels.regression.linear_model.RegressionResultsWrapper object at 0x7f757256b748>, <statsmodels.regression.linear_model.RegressionResultsWrapper object at 0x7f757256b4e0>, array([[0., 1., 0.]])]), 2: ({'ssr_ftest': (9.008964174271307, 0.00012258133219277182, 36410.0, 2), 'ssr_chi2test': (18.02040265894477, 0.00012215725968649344, 2), 'lrtest': (18.01594532240415, 0.00012242981129589395, 2), 'params_ftest': (9.00896417427053, 0.00012258133219277182, 36410.0, 2)}, [<statsmodels.regression.linear_model.RegressionResultsWrapper object at 0x7f757256bfd0>, <statsmodels.regression.linear_model.RegressionResultsWrapper object at 0x7f757256b940>, array([[0., 0., 1., 0., 0.],\n",
            "       [0., 0., 0., 1., 0.]])]), 3: ({'ssr_ftest': (6.503629138216182, 0.00021484517523560575, 36407.0, 3), 'ssr_chi2test': (19.51463878696438, 0.00021395507270998272, 3), 'lrtest': (19.509411606239155, 0.0002144888332074526, 3), 'params_ftest': (6.503629138224508, 0.0002148451752328274, 36407.0, 3)}, [<statsmodels.regression.linear_model.RegressionResultsWrapper object at 0x7f7572559390>, <statsmodels.regression.linear_model.RegressionResultsWrapper object at 0x7f75725596a0>, array([[0., 0., 0., 1., 0., 0., 0.],\n",
            "       [0., 0., 0., 0., 1., 0., 0.],\n",
            "       [0., 0., 0., 0., 0., 1., 0.]])]), 4: ({'ssr_ftest': (7.803127221206249, 2.7868631307208956e-06, 36404.0, 4), 'ssr_chi2test': (31.220225415425023, 2.7604937520171044e-06, 4), 'lrtest': (31.206849070440512, 2.777899298770811e-06, 4), 'params_ftest': (7.803127221209821, 2.786863130704277e-06, 36404.0, 4)}, [<statsmodels.regression.linear_model.RegressionResultsWrapper object at 0x7f7572559a90>, <statsmodels.regression.linear_model.RegressionResultsWrapper object at 0x7f75725590b8>, array([[0., 0., 0., 0., 1., 0., 0., 0., 0.],\n",
            "       [0., 0., 0., 0., 0., 1., 0., 0., 0.],\n",
            "       [0., 0., 0., 0., 0., 0., 1., 0., 0.],\n",
            "       [0., 0., 0., 0., 0., 0., 0., 1., 0.]])]), 5: ({'ssr_ftest': (6.607674861031946, 3.7210827711584787e-06, 36401.0, 5), 'ssr_chi2test': (33.048358154981344, 3.6811313422428166e-06, 5), 'lrtest': (33.03336950344965, 3.706447446705562e-06, 5), 'params_ftest': (6.607674861033263, 3.721082771149899e-06, 36401.0, 5)}, [<statsmodels.regression.linear_model.RegressionResultsWrapper object at 0x7f7572559748>, <statsmodels.regression.linear_model.RegressionResultsWrapper object at 0x7f757256bdd8>, array([[0., 0., 0., 0., 0., 1., 0., 0., 0., 0., 0.],\n",
            "       [0., 0., 0., 0., 0., 0., 1., 0., 0., 0., 0.],\n",
            "       [0., 0., 0., 0., 0., 0., 0., 1., 0., 0., 0.],\n",
            "       [0., 0., 0., 0., 0., 0., 0., 0., 1., 0., 0.],\n",
            "       [0., 0., 0., 0., 0., 0., 0., 0., 0., 1., 0.]])])}\n",
            "-------------------------------------------------------------------------------------------------------------\n",
            "\n",
            "\n",
            "\n",
            "\n",
            "-------------------------------------------------------------------------------------------------------------\n",
            "\n",
            "\n"
          ],
          "name": "stdout"
        }
      ]
    },
    {
      "metadata": {
        "id": "GWTlm69vihBn",
        "colab_type": "text"
      },
      "cell_type": "markdown",
      "source": [
        "### For UP Site"
      ]
    },
    {
      "metadata": {
        "id": "WvpyGAJRju6X",
        "colab_type": "code",
        "colab": {}
      },
      "cell_type": "code",
      "source": [
        "#from google.colab import files\n",
        "#uploaded = files.upload()"
      ],
      "execution_count": 0,
      "outputs": []
    },
    {
      "metadata": {
        "id": "bx26oOcajvFc",
        "colab_type": "code",
        "colab": {}
      },
      "cell_type": "code",
      "source": [
        "Up_list=[]\n",
        "for fn in uploaded.keys():\n",
        "  Up_list.append(fn)\n",
        "print(Up_list)"
      ],
      "execution_count": 0,
      "outputs": []
    },
    {
      "metadata": {
        "id": "CLdPsJAIjvOi",
        "colab_type": "code",
        "colab": {}
      },
      "cell_type": "code",
      "source": [
        "site_list=['144','153','272','277','297','307','1398','1405','1429','1541','1542','1550','1569']\n",
        "for i in range(len(Up_list)):\n",
        "  df=pd.read_csv(Up_list[i])\n",
        "  site_name='Up site '+site_list[i]\n",
        "  granger_causality_test(df_delhi_124,df,site_name)\n",
        "  print(\"\\n\")\n",
        "  print(\"-------------------------------------------------------------------------------------------------------------\\n\\n\")"
      ],
      "execution_count": 0,
      "outputs": []
    }
  ]
}