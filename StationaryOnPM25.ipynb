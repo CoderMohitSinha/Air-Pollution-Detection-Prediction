{
  "nbformat": 4,
  "nbformat_minor": 0,
  "metadata": {
    "colab": {
      "name": "StationaryOnPM25.ipynb",
      "version": "0.3.2",
      "provenance": [],
      "include_colab_link": true
    },
    "kernelspec": {
      "name": "python3",
      "display_name": "Python 3"
    }
  },
  "cells": [
    {
      "cell_type": "markdown",
      "metadata": {
        "id": "view-in-github",
        "colab_type": "text"
      },
      "source": [
        "<a href=\"https://colab.research.google.com/github/bharti0420/Air-Pollution-Detection-Prediction/blob/master/StationaryOnPM25.ipynb\" target=\"_parent\"><img src=\"https://colab.research.google.com/assets/colab-badge.svg\" alt=\"Open In Colab\"/></a>"
      ]
    },
    {
      "metadata": {
        "id": "8CRkuD1ABC3D",
        "colab_type": "code",
        "colab": {}
      },
      "cell_type": "code",
      "source": [
        "!pip install arch"
      ],
      "execution_count": 0,
      "outputs": []
    },
    {
      "metadata": {
        "id": "KzunG_EtdNHv",
        "colab_type": "code",
        "colab": {}
      },
      "cell_type": "code",
      "source": [
        "from pandas import DataFrame\n",
        "import os\n",
        "import pandas as pd\n",
        "from matplotlib import pyplot as plt\n",
        "import numpy as np\n",
        "from datetime import *\n",
        "import csv\n",
        "from sklearn.metrics import mean_squared_error\n",
        "from math import sqrt\n",
        "from matplotlib.pylab import rcParams\n",
        "%matplotlib inline\n",
        "rcParams['figure.figsize']=10,6"
      ],
      "execution_count": 0,
      "outputs": []
    },
    {
      "metadata": {
        "id": "H830jPRGBEvB",
        "colab_type": "code",
        "colab": {}
      },
      "cell_type": "code",
      "source": [
        "from arch.unitroot import ADF"
      ],
      "execution_count": 0,
      "outputs": []
    },
    {
      "metadata": {
        "id": "QPXDyFWzdOOf",
        "colab_type": "code",
        "outputId": "d25f76c3-92de-480b-e005-da038ac92d14",
        "colab": {
          "base_uri": "https://localhost:8080/",
          "height": 71
        }
      },
      "cell_type": "code",
      "source": [
        "import statsmodels.api as sm\n",
        "import statsmodels.tsa.stattools as ts\n",
        "from statsmodels.tsa.ar_model import AR\n",
        "from statsmodels.tsa.arima_model import ARIMA\n",
        "from statsmodels.tsa.stattools import coint, adfuller, kpss"
      ],
      "execution_count": 0,
      "outputs": [
        {
          "output_type": "stream",
          "text": [
            "/usr/local/lib/python3.6/dist-packages/statsmodels/compat/pandas.py:56: FutureWarning: The pandas.core.datetools module is deprecated and will be removed in a future version. Please use the pandas.tseries module instead.\n",
            "  from pandas.core import datetools\n"
          ],
          "name": "stderr"
        }
      ]
    },
    {
      "metadata": {
        "id": "ASiNb8PIwVam",
        "colab_type": "code",
        "colab": {}
      },
      "cell_type": "code",
      "source": [
        "import operator"
      ],
      "execution_count": 0,
      "outputs": []
    },
    {
      "metadata": {
        "id": "CE6QmfRVdt-v",
        "colab_type": "code",
        "colab": {}
      },
      "cell_type": "code",
      "source": [
        ""
      ],
      "execution_count": 0,
      "outputs": []
    },
    {
      "metadata": {
        "id": "Hn1wNfcydtvR",
        "colab_type": "code",
        "colab": {}
      },
      "cell_type": "code",
      "source": [
        ""
      ],
      "execution_count": 0,
      "outputs": []
    },
    {
      "metadata": {
        "id": "of9G2gZTBK8v",
        "colab_type": "code",
        "colab": {}
      },
      "cell_type": "code",
      "source": [
        "def testStationaryAdfuller(file_name,year,ts,cutoff=0.05):\n",
        "  s=\"Result of \"+file_name+\" site and year\" + year\n",
        "  print(s)\n",
        "  ts_test=ADF(ts)\n",
        "  print ('Results of ADF Test:')\n",
        "  print(ts_test)\n",
        "  p_value=ts_test.pvalue\n",
        "  p_value=round(p_value,5)\n",
        "  if p_value <= cutoff:\n",
        "    print(\"\\nStrong evidence against the null hypothesis, reject the null hypothesis. Data has no unit root, hence it is stationary\\n\")\n",
        "  else:\n",
        "    print(\"\\nWeak evidence against null hypothesis, time series has a unit root, indicating it is non-stationary\\n\")"
      ],
      "execution_count": 0,
      "outputs": []
    },
    {
      "metadata": {
        "id": "Fs5H42rIdtBf",
        "colab_type": "code",
        "colab": {}
      },
      "cell_type": "code",
      "source": [
        "def dataFilter(file_name, lengthList):\n",
        "  df=pd.read_csv(file_name)\n",
        "  #print(len(df))\n",
        "  lengthList[file_name]=len(df)\n",
        "  df['from date'] = pd.to_datetime(df['from date'])\n",
        "  df['to date'] = pd.to_datetime(df['to date'])\n",
        "  \n",
        "  #set index (from date is index)\n",
        "  df.set_index(['from date'],drop=True, inplace=True)\n",
        "  \n",
        "  df = df[pd.notnull(df['PM2.5'])]\n",
        "  #print(len(df))\n",
        "  lengthList[file_name]=(len(df)/lengthList[file_name])*100\n",
        "  years = [g for n, g in df.set_index('to date').groupby(pd.TimeGrouper('A'))]\n",
        "  print(\"Total Year:\\n\",len(years))\n",
        "  year_list=['2016','2017','2018']\n",
        "  for i in range(0,3):\n",
        "    df=years[i]\n",
        "    testStationaryAdfuller(file_name,year_list[i],df['PM2.5'])\n",
        "  \n",
        "  "
      ],
      "execution_count": 0,
      "outputs": []
    },
    {
      "metadata": {
        "id": "p-LlyRkndWTc",
        "colab_type": "code",
        "outputId": "7b0d78f1-5977-44be-e780-bc78f2b43d13",
        "colab": {
          "resources": {
            "http://localhost:8080/nbextensions/google.colab/files.js": {
              "data": "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",
              "ok": true,
              "headers": [
                [
                  "content-type",
                  "application/javascript"
                ]
              ],
              "status": 200,
              "status_text": ""
            }
          },
          "base_uri": "https://localhost:8080/",
          "height": 176
        }
      },
      "cell_type": "code",
      "source": [
        "from google.colab import files\n",
        "uploaded = files.upload()"
      ],
      "execution_count": 0,
      "outputs": [
        {
          "output_type": "display_data",
          "data": {
            "text/html": [
              "\n",
              "     <input type=\"file\" id=\"files-1206dde5-eb73-4db0-aae9-408de38af142\" name=\"files[]\" multiple disabled />\n",
              "     <output id=\"result-1206dde5-eb73-4db0-aae9-408de38af142\">\n",
              "      Upload widget is only available when the cell has been executed in the\n",
              "      current browser session. Please rerun this cell to enable.\n",
              "      </output>\n",
              "      <script src=\"/nbextensions/google.colab/files.js\"></script> "
            ],
            "text/plain": [
              "<IPython.core.display.HTML object>"
            ]
          },
          "metadata": {
            "tags": []
          }
        },
        {
          "output_type": "stream",
          "text": [
            "Saving complete146.csv to complete146.csv\n",
            "Saving complete147.csv to complete147.csv\n",
            "Saving complete161.csv to complete161.csv\n",
            "Saving complete263.csv to complete263.csv\n"
          ],
          "name": "stdout"
        }
      ]
    },
    {
      "metadata": {
        "id": "CjvgLDEpdbPL",
        "colab_type": "code",
        "outputId": "b0cbe225-c145-4f87-ebdd-6d856c41b883",
        "colab": {
          "base_uri": "https://localhost:8080/",
          "height": 3760
        }
      },
      "cell_type": "code",
      "source": [
        "lengthList=dict()\n",
        "for fn in uploaded.keys():\n",
        "  dataFilter(fn,lengthList)\n",
        "  print(\"-----------------------------------------------------------------------------------------------------------\\n\\n\")\n",
        "print(\"\\n\\n\")\n",
        "print(lengthList)\n",
        "baseStation=max(lengthList.items(), key=operator.itemgetter(1))[0]\n",
        "print(\"Base Station: \",baseStation)"
      ],
      "execution_count": 0,
      "outputs": [
        {
          "output_type": "stream",
          "text": [
            "/usr/local/lib/python3.6/dist-packages/ipykernel_launcher.py:14: FutureWarning: pd.TimeGrouper is deprecated and will be removed; Please use pd.Grouper(freq=...)\n",
            "  \n"
          ],
          "name": "stderr"
        },
        {
          "output_type": "stream",
          "text": [
            "Total Year:\n",
            " 3\n",
            "Result of complete146.csv site and year2016\n",
            "Results of ADF Test:\n",
            "   Augmented Dickey-Fuller Results   \n",
            "=====================================\n",
            "Test Statistic                 -8.950\n",
            "P-value                         0.000\n",
            "Lags                               46\n",
            "-------------------------------------\n",
            "\n",
            "Trend: Constant\n",
            "Critical Values: -3.43 (1%), -2.86 (5%), -2.57 (10%)\n",
            "Null Hypothesis: The process contains a unit root.\n",
            "Alternative Hypothesis: The process is weakly stationary.\n",
            "\n",
            "Strong evidence against the null hypothesis, reject the null hypothesis. Data has no unit root, hence it is stationary\n",
            "\n",
            "Result of complete146.csv site and year2017\n",
            "Results of ADF Test:\n",
            "   Augmented Dickey-Fuller Results   \n",
            "=====================================\n",
            "Test Statistic                -15.455\n",
            "P-value                         0.000\n",
            "Lags                               50\n",
            "-------------------------------------\n",
            "\n",
            "Trend: Constant\n",
            "Critical Values: -3.43 (1%), -2.86 (5%), -2.57 (10%)\n",
            "Null Hypothesis: The process contains a unit root.\n",
            "Alternative Hypothesis: The process is weakly stationary.\n",
            "\n",
            "Strong evidence against the null hypothesis, reject the null hypothesis. Data has no unit root, hence it is stationary\n",
            "\n",
            "Result of complete146.csv site and year2018\n",
            "Results of ADF Test:\n",
            "   Augmented Dickey-Fuller Results   \n",
            "=====================================\n",
            "Test Statistic                 -9.135\n",
            "P-value                         0.000\n",
            "Lags                               51\n",
            "-------------------------------------\n",
            "\n",
            "Trend: Constant\n",
            "Critical Values: -3.43 (1%), -2.86 (5%), -2.57 (10%)\n",
            "Null Hypothesis: The process contains a unit root.\n",
            "Alternative Hypothesis: The process is weakly stationary.\n",
            "\n",
            "Strong evidence against the null hypothesis, reject the null hypothesis. Data has no unit root, hence it is stationary\n",
            "\n",
            "-----------------------------------------------------------------------------------------------------------\n",
            "\n",
            "\n",
            "Total Year:\n",
            " 3\n",
            "Result of complete147.csv site and year2016\n",
            "Results of ADF Test:\n",
            "   Augmented Dickey-Fuller Results   \n",
            "=====================================\n",
            "Test Statistic                 -4.436\n",
            "P-value                         0.000\n",
            "Lags                               30\n",
            "-------------------------------------\n",
            "\n",
            "Trend: Constant\n",
            "Critical Values: -3.43 (1%), -2.86 (5%), -2.57 (10%)\n",
            "Null Hypothesis: The process contains a unit root.\n",
            "Alternative Hypothesis: The process is weakly stationary.\n",
            "\n",
            "Strong evidence against the null hypothesis, reject the null hypothesis. Data has no unit root, hence it is stationary\n",
            "\n",
            "Result of complete147.csv site and year2017\n",
            "Results of ADF Test:\n",
            "   Augmented Dickey-Fuller Results   \n",
            "=====================================\n",
            "Test Statistic                 -6.780\n",
            "P-value                         0.000\n",
            "Lags                               46\n",
            "-------------------------------------\n",
            "\n",
            "Trend: Constant\n",
            "Critical Values: -3.43 (1%), -2.86 (5%), -2.57 (10%)\n",
            "Null Hypothesis: The process contains a unit root.\n",
            "Alternative Hypothesis: The process is weakly stationary.\n",
            "\n",
            "Strong evidence against the null hypothesis, reject the null hypothesis. Data has no unit root, hence it is stationary\n",
            "\n",
            "Result of complete147.csv site and year2018\n",
            "Results of ADF Test:\n",
            "   Augmented Dickey-Fuller Results   \n",
            "=====================================\n",
            "Test Statistic                -17.609\n",
            "P-value                         0.000\n",
            "Lags                               40\n",
            "-------------------------------------\n",
            "\n",
            "Trend: Constant\n",
            "Critical Values: -3.43 (1%), -2.86 (5%), -2.57 (10%)\n",
            "Null Hypothesis: The process contains a unit root.\n",
            "Alternative Hypothesis: The process is weakly stationary.\n",
            "\n",
            "Strong evidence against the null hypothesis, reject the null hypothesis. Data has no unit root, hence it is stationary\n",
            "\n",
            "-----------------------------------------------------------------------------------------------------------\n",
            "\n",
            "\n",
            "Total Year:\n",
            " 3\n",
            "Result of complete161.csv site and year2016\n",
            "Results of ADF Test:\n",
            "   Augmented Dickey-Fuller Results   \n",
            "=====================================\n",
            "Test Statistic                -13.505\n",
            "P-value                         0.000\n",
            "Lags                               39\n",
            "-------------------------------------\n",
            "\n",
            "Trend: Constant\n",
            "Critical Values: -3.43 (1%), -2.86 (5%), -2.57 (10%)\n",
            "Null Hypothesis: The process contains a unit root.\n",
            "Alternative Hypothesis: The process is weakly stationary.\n",
            "\n",
            "Strong evidence against the null hypothesis, reject the null hypothesis. Data has no unit root, hence it is stationary\n",
            "\n",
            "Result of complete161.csv site and year2017\n",
            "Results of ADF Test:\n",
            "   Augmented Dickey-Fuller Results   \n",
            "=====================================\n",
            "Test Statistic                -14.060\n",
            "P-value                         0.000\n",
            "Lags                                5\n",
            "-------------------------------------\n",
            "\n",
            "Trend: Constant\n",
            "Critical Values: -3.43 (1%), -2.86 (5%), -2.57 (10%)\n",
            "Null Hypothesis: The process contains a unit root.\n",
            "Alternative Hypothesis: The process is weakly stationary.\n",
            "\n",
            "Strong evidence against the null hypothesis, reject the null hypothesis. Data has no unit root, hence it is stationary\n",
            "\n",
            "Result of complete161.csv site and year2018\n",
            "Results of ADF Test:\n",
            "   Augmented Dickey-Fuller Results   \n",
            "=====================================\n",
            "Test Statistic                -13.397\n",
            "P-value                         0.000\n",
            "Lags                               25\n",
            "-------------------------------------\n",
            "\n",
            "Trend: Constant\n",
            "Critical Values: -3.43 (1%), -2.86 (5%), -2.57 (10%)\n",
            "Null Hypothesis: The process contains a unit root.\n",
            "Alternative Hypothesis: The process is weakly stationary.\n",
            "\n",
            "Strong evidence against the null hypothesis, reject the null hypothesis. Data has no unit root, hence it is stationary\n",
            "\n",
            "-----------------------------------------------------------------------------------------------------------\n",
            "\n",
            "\n",
            "Total Year:\n",
            " 4\n",
            "Result of complete263.csv site and year2016\n",
            "Results of ADF Test:\n",
            "   Augmented Dickey-Fuller Results   \n",
            "=====================================\n",
            "Test Statistic                -13.309\n",
            "P-value                         0.000\n",
            "Lags                               43\n",
            "-------------------------------------\n",
            "\n",
            "Trend: Constant\n",
            "Critical Values: -3.43 (1%), -2.86 (5%), -2.57 (10%)\n",
            "Null Hypothesis: The process contains a unit root.\n",
            "Alternative Hypothesis: The process is weakly stationary.\n",
            "\n",
            "Strong evidence against the null hypothesis, reject the null hypothesis. Data has no unit root, hence it is stationary\n",
            "\n",
            "Result of complete263.csv site and year2017\n",
            "Results of ADF Test:\n",
            "   Augmented Dickey-Fuller Results   \n",
            "=====================================\n",
            "Test Statistic                -11.729\n",
            "P-value                         0.000\n",
            "Lags                               49\n",
            "-------------------------------------\n",
            "\n",
            "Trend: Constant\n",
            "Critical Values: -3.43 (1%), -2.86 (5%), -2.57 (10%)\n",
            "Null Hypothesis: The process contains a unit root.\n",
            "Alternative Hypothesis: The process is weakly stationary.\n",
            "\n",
            "Strong evidence against the null hypothesis, reject the null hypothesis. Data has no unit root, hence it is stationary\n",
            "\n",
            "Result of complete263.csv site and year2018\n",
            "Results of ADF Test:\n",
            "   Augmented Dickey-Fuller Results   \n",
            "=====================================\n",
            "Test Statistic                -15.274\n",
            "P-value                         0.000\n",
            "Lags                               50\n",
            "-------------------------------------\n",
            "\n",
            "Trend: Constant\n",
            "Critical Values: -3.43 (1%), -2.86 (5%), -2.57 (10%)\n",
            "Null Hypothesis: The process contains a unit root.\n",
            "Alternative Hypothesis: The process is weakly stationary.\n",
            "\n",
            "Strong evidence against the null hypothesis, reject the null hypothesis. Data has no unit root, hence it is stationary\n",
            "\n",
            "-----------------------------------------------------------------------------------------------------------\n",
            "\n",
            "\n",
            "\n",
            "\n",
            "\n",
            "{'complete146.csv': 79.95338660578388, 'complete147.csv': 54.673706240487064, 'complete161.csv': 62.285958904109584, 'complete263.csv': 40.69777397260274}\n",
            "Base Station:  complete146.csv\n"
          ],
          "name": "stdout"
        }
      ]
    },
    {
      "metadata": {
        "id": "6sgkdxL-pgbS",
        "colab_type": "code",
        "colab": {}
      },
      "cell_type": "code",
      "source": [
        "\n",
        "\n",
        "\n",
        "\n",
        "\n",
        "\n",
        "\n",
        "\n",
        "\n",
        "\n",
        "\n",
        "\n",
        "\n",
        "\n",
        "\n",
        "\n",
        "\n",
        "\n",
        "\n",
        "\n",
        "\n",
        "\n",
        "\n",
        "\n",
        "\n",
        "\n",
        "\n",
        "\n",
        "\n",
        "\n",
        "\n",
        "\n"
      ],
      "execution_count": 0,
      "outputs": []
    }
  ]
}