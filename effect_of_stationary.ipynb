{
  "nbformat": 4,
  "nbformat_minor": 0,
  "metadata": {
    "colab": {
      "name": "effect_of_stationary.ipynb",
      "version": "0.3.2",
      "provenance": [],
      "include_colab_link": true
    },
    "kernelspec": {
      "name": "python3",
      "display_name": "Python 3"
    }
  },
  "cells": [
    {
      "cell_type": "markdown",
      "metadata": {
        "id": "view-in-github",
        "colab_type": "text"
      },
      "source": [
        "<a href=\"https://colab.research.google.com/github/bharti0420/Air-Pollution-Detection-Prediction/blob/master/effect_of_stationary.ipynb\" target=\"_parent\"><img src=\"https://colab.research.google.com/assets/colab-badge.svg\" alt=\"Open In Colab\"/></a>"
      ]
    },
    {
      "metadata": {
        "id": "wqhrRaU3_iyc",
        "colab_type": "code",
        "colab": {}
      },
      "cell_type": "code",
      "source": [
        "!pip install arch\n"
      ],
      "execution_count": 0,
      "outputs": []
    },
    {
      "metadata": {
        "id": "R15c50oS5pu1",
        "colab_type": "code",
        "colab": {}
      },
      "cell_type": "code",
      "source": [
        "from pandas import DataFrame\n",
        "import os\n",
        "import pandas as pd\n",
        "from matplotlib import pyplot as plt\n",
        "import numpy as np\n",
        "from datetime import *\n",
        "import csv\n",
        "from sklearn.metrics import mean_squared_error\n",
        "from math import sqrt\n",
        "from matplotlib.pylab import rcParams\n",
        "%matplotlib inline\n",
        "rcParams['figure.figsize']=10,6"
      ],
      "execution_count": 0,
      "outputs": []
    },
    {
      "metadata": {
        "id": "MNK4fivl57Ee",
        "colab_type": "code",
        "colab": {}
      },
      "cell_type": "code",
      "source": [
        "import statsmodels.api as sm\n",
        "import statsmodels.tsa.stattools as ts\n",
        "from statsmodels.tsa.ar_model import AR\n",
        "from statsmodels.tsa.arima_model import ARIMA\n",
        "from statsmodels.tsa.stattools import coint, adfuller, kpss"
      ],
      "execution_count": 0,
      "outputs": []
    },
    {
      "metadata": {
        "id": "vLxlA8QO1gOW",
        "colab_type": "code",
        "colab": {}
      },
      "cell_type": "code",
      "source": [
        "from arch.unitroot import PhillipsPerron"
      ],
      "execution_count": 0,
      "outputs": []
    },
    {
      "metadata": {
        "id": "z9XjujeF6Twi",
        "colab_type": "text"
      },
      "cell_type": "markdown",
      "source": [
        "### load delhi_data.csv file"
      ]
    },
    {
      "metadata": {
        "id": "oVGVIPMw6HeS",
        "colab_type": "code",
        "outputId": "530e3702-da78-48bb-9f8a-8ef04dce5db8",
        "colab": {
          "resources": {
            "http://localhost:8080/nbextensions/google.colab/files.js": {
              "data": "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",
              "ok": true,
              "headers": [
                [
                  "content-type",
                  "application/javascript"
                ]
              ],
              "status": 200,
              "status_text": ""
            }
          },
          "base_uri": "https://localhost:8080/",
          "height": 40
        }
      },
      "cell_type": "code",
      "source": [
        "from google.colab import files\n",
        "uploaded = files.upload()"
      ],
      "execution_count": 0,
      "outputs": [
        {
          "output_type": "display_data",
          "data": {
            "text/html": [
              "\n",
              "     <input type=\"file\" id=\"files-b2373d70-c611-4ea6-9cf6-bf1ceb8278ce\" name=\"files[]\" multiple disabled />\n",
              "     <output id=\"result-b2373d70-c611-4ea6-9cf6-bf1ceb8278ce\">\n",
              "      Upload widget is only available when the cell has been executed in the\n",
              "      current browser session. Please rerun this cell to enable.\n",
              "      </output>\n",
              "      <script src=\"/nbextensions/google.colab/files.js\"></script> "
            ],
            "text/plain": [
              "<IPython.core.display.HTML object>"
            ]
          },
          "metadata": {
            "tags": []
          }
        }
      ]
    },
    {
      "metadata": {
        "id": "hPkJHbhy6G4j",
        "colab_type": "code",
        "outputId": "0d41d866-208a-4ffa-ae6f-ef880170b838",
        "colab": {
          "base_uri": "https://localhost:8080/",
          "height": 34
        }
      },
      "cell_type": "code",
      "source": [
        "file_name=\"delhi_data.csv\"\n",
        "\n",
        "for fn in uploaded.keys():\n",
        "  file_name=fn\n",
        "print(file_name)"
      ],
      "execution_count": 0,
      "outputs": [
        {
          "output_type": "stream",
          "text": [
            "delhi_data.csv\n"
          ],
          "name": "stdout"
        }
      ]
    },
    {
      "metadata": {
        "id": "8cs_SIQh6szQ",
        "colab_type": "code",
        "outputId": "3eeef8e0-6b32-4d8b-8cea-5add437bb0df",
        "colab": {
          "base_uri": "https://localhost:8080/",
          "height": 34
        }
      },
      "cell_type": "code",
      "source": [
        "df=pd.read_csv(file_name)\n",
        "print(len(df))"
      ],
      "execution_count": 0,
      "outputs": [
        {
          "output_type": "stream",
          "text": [
            "34319\n"
          ],
          "name": "stdout"
        }
      ]
    },
    {
      "metadata": {
        "id": "QNG-cK8y61iA",
        "colab_type": "text"
      },
      "cell_type": "markdown",
      "source": [
        "## 1. Stationary check on without pre-processing(cleaning & filter) data "
      ]
    },
    {
      "metadata": {
        "id": "o56jZCNJ647N",
        "colab_type": "text"
      },
      "cell_type": "markdown",
      "source": [
        "#### (A)  Define ADF test"
      ]
    },
    {
      "metadata": {
        "id": "ibgvoAGn6_L8",
        "colab_type": "code",
        "colab": {}
      },
      "cell_type": "code",
      "source": [
        "def TestStationaryAdfuller(ts, cutoff = 0.01):\n",
        "    ts_test = adfuller(ts['Raw Conc.'], autolag = 'AIC')\n",
        "    ts_test_output = pd.Series(ts_test[0:4], index=['Test Statistic','p-value','#Lags Used','Number of Observations Used'])\n",
        "    \n",
        "    for key,value in ts_test[4].items():\n",
        "        ts_test_output['Critical Value (%s)'%key] = value\n",
        "    print(ts_test_output)\n",
        "    \n",
        "    if ts_test[1] <= cutoff:\n",
        "        print(\"Strong evidence against the null hypothesis, reject the null hypothesis. Data has no unit root, hence it is stationary\")\n",
        "    else:\n",
        "        print(\"Weak evidence against null hypothesis, time series has a unit root, indicating it is non-stationary \")"
      ],
      "execution_count": 0,
      "outputs": []
    },
    {
      "metadata": {
        "id": "USdEfjR26_f7",
        "colab_type": "code",
        "outputId": "663558bb-0146-49bb-c316-90c7db19e5eb",
        "colab": {
          "base_uri": "https://localhost:8080/",
          "height": 170
        }
      },
      "cell_type": "code",
      "source": [
        "TestStationaryAdfuller(df)"
      ],
      "execution_count": 0,
      "outputs": [
        {
          "output_type": "stream",
          "text": [
            "Test Statistic                -1.087023e+01\n",
            "p-value                        1.374472e-19\n",
            "#Lags Used                     5.000000e+01\n",
            "Number of Observations Used    3.426800e+04\n",
            "Critical Value (1%)           -3.430541e+00\n",
            "Critical Value (5%)           -2.861624e+00\n",
            "Critical Value (10%)          -2.566815e+00\n",
            "dtype: float64\n",
            "Strong evidence against the null hypothesis, reject the null hypothesis. Data has no unit root, hence it is stationary\n"
          ],
          "name": "stdout"
        }
      ]
    },
    {
      "metadata": {
        "id": "imHHoLKA7IQT",
        "colab_type": "text"
      },
      "cell_type": "markdown",
      "source": [
        "#### (B) Define Kwiatkowski, Phillips, Schmidt and Shin (KPSS) test"
      ]
    },
    {
      "metadata": {
        "id": "i17y4rKl7N1_",
        "colab_type": "text"
      },
      "cell_type": "markdown",
      "source": [
        "Null Hypothesis: The process is trend stationary.\n",
        "\n",
        "Alternate Hypothesis: The series has a unit root (series is not stationary)."
      ]
    },
    {
      "metadata": {
        "id": "WKmObbZL7VmQ",
        "colab_type": "code",
        "colab": {}
      },
      "cell_type": "code",
      "source": [
        "def TestStationaryKPSS(ts, cutoff=0.01):\n",
        "    print ('Results of KPSS Test:')\n",
        "    kpsstest = kpss(ts, regression='c')\n",
        "    kpss_output = pd.Series(kpsstest[0:3], index=['Test Statistic','p-value','Lags Used'])\n",
        "    \n",
        "    for key,value in kpsstest[3].items():\n",
        "        kpss_output['Critical Value (%s)'%key] = value\n",
        "    print (kpss_output)"
      ],
      "execution_count": 0,
      "outputs": []
    },
    {
      "metadata": {
        "id": "wX0Z49067ZBy",
        "colab_type": "code",
        "outputId": "d81bbddf-7bef-46ca-ec82-47f53eae5f09",
        "colab": {
          "base_uri": "https://localhost:8080/",
          "height": 224
        }
      },
      "cell_type": "code",
      "source": [
        "TestStationaryKPSS(df['Raw Conc.'])"
      ],
      "execution_count": 0,
      "outputs": [
        {
          "output_type": "stream",
          "text": [
            "Results of KPSS Test:\n",
            "Test Statistic            6.373483\n",
            "p-value                   0.010000\n",
            "Lags Used                52.000000\n",
            "Critical Value (10%)      0.347000\n",
            "Critical Value (5%)       0.463000\n",
            "Critical Value (2.5%)     0.574000\n",
            "Critical Value (1%)       0.739000\n",
            "dtype: float64\n"
          ],
          "name": "stdout"
        },
        {
          "output_type": "stream",
          "text": [
            "/usr/local/lib/python3.6/dist-packages/statsmodels/tsa/stattools.py:1258: InterpolationWarning: p-value is smaller than the indicated p-value\n",
            "  warn(\"p-value is smaller than the indicated p-value\", InterpolationWarning)\n"
          ],
          "name": "stderr"
        }
      ]
    },
    {
      "metadata": {
        "id": "9u4B51eK7y3H",
        "colab_type": "text"
      },
      "cell_type": "markdown",
      "source": [
        "**Test for stationarity: **\n",
        "\n",
        "---\n",
        "\n",
        "\n",
        "    If the test statistic is greater than the critical value, we reject the null hypothesis (i.e series is not stationary).\n",
        "    If the test statistic is less than the critical value, if fail to reject the null hypothesis (i.e series is stationary).\n",
        "    For the air Raw Conc. data, the value of the test statistic is greater than the critical value at all confidence intervals, \n",
        "    and hence we can say that the series is not stationary. ***italicized text***"
      ]
    },
    {
      "metadata": {
        "id": "yqUIVAXt7bnz",
        "colab_type": "text"
      },
      "cell_type": "markdown",
      "source": [
        "#### (C) Test Stationary by Visualization"
      ]
    },
    {
      "metadata": {
        "id": "i1Or8_Zg8S9m",
        "colab_type": "code",
        "colab": {}
      },
      "cell_type": "code",
      "source": [
        "plt.xlabel(\"Date\")\n",
        "plt.ylabel(\"Raw Concentrations\")\n",
        "plt.plot(df)"
      ],
      "execution_count": 0,
      "outputs": []
    },
    {
      "metadata": {
        "id": "TSQOre_jmaoi",
        "colab_type": "text"
      },
      "cell_type": "markdown",
      "source": [
        "#### (D) Phillips–Perron test"
      ]
    },
    {
      "metadata": {
        "id": "npRQHGLFi8i9",
        "colab_type": "code",
        "colab": {}
      },
      "cell_type": "code",
      "source": [
        "def TestStationaryPP(ts, cutoff=0.01):\n",
        "    print ('Results of PP Test:')\n",
        "    pptest = PhillipsPerron(ts)\n",
        "    print(pptest)"
      ],
      "execution_count": 0,
      "outputs": []
    },
    {
      "metadata": {
        "id": "DJ3fUf4YhqCn",
        "colab_type": "code",
        "outputId": "4251a11d-3aa4-444e-e46d-6a099d23bbae",
        "colab": {
          "base_uri": "https://localhost:8080/",
          "height": 221
        }
      },
      "cell_type": "code",
      "source": [
        "TestStationaryPP(df['Raw Conc.'])"
      ],
      "execution_count": 0,
      "outputs": [
        {
          "output_type": "stream",
          "text": [
            "Results of PP Test:\n",
            "     Phillips-Perron Test (Z-tau)    \n",
            "=====================================\n",
            "Test Statistic                -80.474\n",
            "P-value                         0.000\n",
            "Lags                               52\n",
            "-------------------------------------\n",
            "\n",
            "Trend: Constant\n",
            "Critical Values: -3.43 (1%), -2.86 (5%), -2.57 (10%)\n",
            "Null Hypothesis: The process contains a unit root.\n",
            "Alternative Hypothesis: The process is weakly stationary.\n"
          ],
          "name": "stdout"
        }
      ]
    },
    {
      "metadata": {
        "id": "FihxHq1d8T2F",
        "colab_type": "text"
      },
      "cell_type": "markdown",
      "source": [
        "## 2. Stationary check on cleaned & filter data "
      ]
    },
    {
      "metadata": {
        "id": "j3gbgCP69Suo",
        "colab_type": "code",
        "outputId": "5ad94f97-8285-41fc-9484-f3923c447a32",
        "colab": {
          "base_uri": "https://localhost:8080/",
          "height": 34
        }
      },
      "cell_type": "code",
      "source": [
        "file_name1=\"data.csv\"\n",
        "with open(file_name,'r') as fin, open(file_name1,'w',newline='') as fout:\n",
        "    reader=csv.reader(fin,skipinitialspace=True)\n",
        "    writer=csv.writer(fout,delimiter=',')\n",
        "    writer.writerow(next(reader))\n",
        "    for i in reader:\n",
        "        if float(i[-1]) < 500 and  float(i[-1])>=0:\n",
        "            writer.writerow(i)\n",
        "        else:\n",
        "            i[-1]=0\n",
        "            writer.writerow(i)\n",
        "file_n=\"time_con.csv\"\n",
        "\n",
        "#remove starting null values\n",
        "with open(file_name1,'r') as fin, open(file_n,'w',newline='') as fout:\n",
        "    reader=csv.reader(fin,skipinitialspace=True)\n",
        "    writer=csv.writer(fout,delimiter=',')\n",
        "    writer.writerow(next(reader))\n",
        "    flag=0\n",
        "    value=186\n",
        "    for i in reader:\n",
        "        if (float(i[-1])==0 and flag==0):\n",
        "            pass\n",
        "        elif(float(i[-1]==0)):\n",
        "            i[-1]=value\n",
        "            writer.writerow(i)\n",
        "        else:\n",
        "            flag=1\n",
        "            value=i[-1]\n",
        "            writer.writerow(i)            \n",
        "df_data=pd.read_csv(file_n)\n",
        "df_data.rename(columns={'Date (LT)': 'date'},inplace=True)\n",
        "df_data['date'] = pd.to_datetime(df_data.date)\n",
        "#df_data.to_csv(file_name,index=False)\n",
        "df=df_data.set_index(['date'])\n",
        "print(len(df))"
      ],
      "execution_count": 0,
      "outputs": [
        {
          "output_type": "stream",
          "text": [
            "33019\n"
          ],
          "name": "stdout"
        }
      ]
    },
    {
      "metadata": {
        "id": "UJrbAx_X9TAM",
        "colab_type": "text"
      },
      "cell_type": "markdown",
      "source": [
        "#### (A) ADF test"
      ]
    },
    {
      "metadata": {
        "id": "01pf7zIn9aml",
        "colab_type": "code",
        "outputId": "006dbb6d-eca6-4a20-f370-b96e402874f5",
        "colab": {
          "base_uri": "https://localhost:8080/",
          "height": 170
        }
      },
      "cell_type": "code",
      "source": [
        "TestStationaryAdfuller(df)"
      ],
      "execution_count": 0,
      "outputs": [
        {
          "output_type": "stream",
          "text": [
            "Test Statistic                -8.418101e+00\n",
            "p-value                        2.017885e-13\n",
            "#Lags Used                     5.200000e+01\n",
            "Number of Observations Used    3.296600e+04\n",
            "Critical Value (1%)           -3.430548e+00\n",
            "Critical Value (5%)           -2.861628e+00\n",
            "Critical Value (10%)          -2.566817e+00\n",
            "dtype: float64\n",
            "Strong evidence against the null hypothesis, reject the null hypothesis. Data has no unit root, hence it is stationary\n"
          ],
          "name": "stdout"
        }
      ]
    },
    {
      "metadata": {
        "id": "lkYh6VyN9a5H",
        "colab_type": "text"
      },
      "cell_type": "markdown",
      "source": [
        "#### (B) KPSS test"
      ]
    },
    {
      "metadata": {
        "id": "uHALrxFk9gVx",
        "colab_type": "code",
        "outputId": "2840ea5d-ccb1-4a67-87f8-39ce527a7848",
        "colab": {
          "base_uri": "https://localhost:8080/",
          "height": 224
        }
      },
      "cell_type": "code",
      "source": [
        "TestStationaryKPSS(df['Raw Conc.'])"
      ],
      "execution_count": 0,
      "outputs": [
        {
          "output_type": "stream",
          "text": [
            "Results of KPSS Test:\n",
            "Test Statistic            1.024525\n",
            "p-value                   0.010000\n",
            "Lags Used                52.000000\n",
            "Critical Value (10%)      0.347000\n",
            "Critical Value (5%)       0.463000\n",
            "Critical Value (2.5%)     0.574000\n",
            "Critical Value (1%)       0.739000\n",
            "dtype: float64\n"
          ],
          "name": "stdout"
        },
        {
          "output_type": "stream",
          "text": [
            "/usr/local/lib/python3.6/dist-packages/statsmodels/tsa/stattools.py:1258: InterpolationWarning: p-value is smaller than the indicated p-value\n",
            "  warn(\"p-value is smaller than the indicated p-value\", InterpolationWarning)\n"
          ],
          "name": "stderr"
        }
      ]
    },
    {
      "metadata": {
        "id": "6dXxdN-v9pj6",
        "colab_type": "text"
      },
      "cell_type": "markdown",
      "source": [
        "**Result of KPSS test:**\n",
        "    For the air Raw Conc. data, the value of the test statistic is greater than the critical value at all confidence intervals, \n",
        "    and hence we can say that the series is not stationary."
      ]
    },
    {
      "metadata": {
        "id": "8ytxU6NA9jCl",
        "colab_type": "text"
      },
      "cell_type": "markdown",
      "source": [
        "#### (C) Test Stationary by Visualization"
      ]
    },
    {
      "metadata": {
        "id": "xSIX5NPj95nL",
        "colab_type": "code",
        "outputId": "99e2aa7e-330c-413a-a6ec-5a325d3ad85a",
        "colab": {
          "base_uri": "https://localhost:8080/",
          "height": 405
        }
      },
      "cell_type": "code",
      "source": [
        "plt.xlabel(\"Date\")\n",
        "plt.ylabel(\"Raw Concentrations\")\n",
        "plt.plot(df)"
      ],
      "execution_count": 0,
      "outputs": [
        {
          "output_type": "execute_result",
          "data": {
            "text/plain": [
              "[<matplotlib.lines.Line2D at 0x7f1b330be6a0>]"
            ]
          },
          "metadata": {
            "tags": []
          },
          "execution_count": 52
        },
        {
          "output_type": "display_data",
          "data": {
            "image/png": "[encoded data removed]",
            "text/plain": [
              "<Figure size 720x432 with 1 Axes>"
            ]
          },
          "metadata": {
            "tags": []
          }
        }
      ]
    },
    {
      "metadata": {
        "id": "d3oWuUV4miWJ",
        "colab_type": "text"
      },
      "cell_type": "markdown",
      "source": [
        "#### (D) Phillips–Perron test"
      ]
    },
    {
      "metadata": {
        "id": "4C-6luPBm5jW",
        "colab_type": "code",
        "outputId": "6aa96991-84a6-406b-a16f-73ef3fe6c6ec",
        "colab": {
          "base_uri": "https://localhost:8080/",
          "height": 221
        }
      },
      "cell_type": "code",
      "source": [
        "TestStationaryPP(df['Raw Conc.'])"
      ],
      "execution_count": 0,
      "outputs": [
        {
          "output_type": "stream",
          "text": [
            "Results of PP Test:\n",
            "     Phillips-Perron Test (Z-tau)    \n",
            "=====================================\n",
            "Test Statistic                -50.006\n",
            "P-value                         0.000\n",
            "Lags                               52\n",
            "-------------------------------------\n",
            "\n",
            "Trend: Constant\n",
            "Critical Values: -3.43 (1%), -2.86 (5%), -2.57 (10%)\n",
            "Null Hypothesis: The process contains a unit root.\n",
            "Alternative Hypothesis: The process is weakly stationary.\n"
          ],
          "name": "stdout"
        }
      ]
    },
    {
      "metadata": {
        "id": "Q_UCN6It959j",
        "colab_type": "text"
      },
      "cell_type": "markdown",
      "source": [
        "## 3. Stationary check on cleaning & filter data and Resample data on DAILY Basis"
      ]
    },
    {
      "metadata": {
        "id": "gIBdG5X8-GYe",
        "colab_type": "code",
        "outputId": "e85992ce-ef26-42b7-a6b0-41b958d6053b",
        "colab": {
          "base_uri": "https://localhost:8080/",
          "height": 34
        }
      },
      "cell_type": "code",
      "source": [
        "df_D=df.resample('D').mean()\n",
        "df_D.dropna(inplace=True)\n",
        "print(len(df_D))"
      ],
      "execution_count": 0,
      "outputs": [
        {
          "output_type": "stream",
          "text": [
            "1376\n"
          ],
          "name": "stdout"
        }
      ]
    },
    {
      "metadata": {
        "id": "aNYPb6vX-Gqo",
        "colab_type": "text"
      },
      "cell_type": "markdown",
      "source": [
        "#### (A) ADF test"
      ]
    },
    {
      "metadata": {
        "id": "g_WYLetn-G4N",
        "colab_type": "code",
        "outputId": "2d3eac51-2a42-4005-8577-27d2646d00d2",
        "colab": {
          "base_uri": "https://localhost:8080/",
          "height": 170
        }
      },
      "cell_type": "code",
      "source": [
        "TestStationaryAdfuller(df_D)"
      ],
      "execution_count": 0,
      "outputs": [
        {
          "output_type": "stream",
          "text": [
            "Test Statistic                   -2.517817\n",
            "p-value                           0.111199\n",
            "#Lags Used                       23.000000\n",
            "Number of Observations Used    1352.000000\n",
            "Critical Value (1%)              -3.435196\n",
            "Critical Value (5%)              -2.863680\n",
            "Critical Value (10%)             -2.567909\n",
            "dtype: float64\n",
            "Weak evidence against null hypothesis, time series has a unit root, indicating it is non-stationary \n"
          ],
          "name": "stdout"
        }
      ]
    },
    {
      "metadata": {
        "id": "cIdr9fXd-MvL",
        "colab_type": "text"
      },
      "cell_type": "markdown",
      "source": [
        "#### (B) KPSS test"
      ]
    },
    {
      "metadata": {
        "id": "POzUPjmB-PDi",
        "colab_type": "code",
        "outputId": "426e53e9-d726-485b-9d47-6709b3f91452",
        "colab": {
          "base_uri": "https://localhost:8080/",
          "height": 224
        }
      },
      "cell_type": "code",
      "source": [
        "TestStationaryKPSS(df_D['Raw Conc.'])"
      ],
      "execution_count": 0,
      "outputs": [
        {
          "output_type": "stream",
          "text": [
            "Results of KPSS Test:\n",
            "Test Statistic            0.113679\n",
            "p-value                   0.100000\n",
            "Lags Used                24.000000\n",
            "Critical Value (10%)      0.347000\n",
            "Critical Value (5%)       0.463000\n",
            "Critical Value (2.5%)     0.574000\n",
            "Critical Value (1%)       0.739000\n",
            "dtype: float64\n"
          ],
          "name": "stdout"
        },
        {
          "output_type": "stream",
          "text": [
            "/usr/local/lib/python3.6/dist-packages/statsmodels/tsa/stattools.py:1260: InterpolationWarning: p-value is greater than the indicated p-value\n",
            "  warn(\"p-value is greater than the indicated p-value\", InterpolationWarning)\n"
          ],
          "name": "stderr"
        }
      ]
    },
    {
      "metadata": {
        "id": "C8-qInZS-a9i",
        "colab_type": "text"
      },
      "cell_type": "markdown",
      "source": [
        "**Result of KPSS test:**\n",
        "    For the air Raw Conc. data, the value of the test statistic is less than the critical value at all confidence intervals, \n",
        "    and hence we can say that the series is stationary."
      ]
    },
    {
      "metadata": {
        "id": "qnQS0T8S-XjJ",
        "colab_type": "text"
      },
      "cell_type": "markdown",
      "source": [
        "#### (C) Test Stationary by Visualization"
      ]
    },
    {
      "metadata": {
        "id": "p4h-G-hd-liQ",
        "colab_type": "code",
        "outputId": "5766b116-bd6b-417d-9d86-ebb274b0b4b8",
        "colab": {
          "base_uri": "https://localhost:8080/",
          "height": 406
        }
      },
      "cell_type": "code",
      "source": [
        "plt.xlabel(\"Date\")\n",
        "plt.ylabel(\"Raw Concentrations\")\n",
        "plt.plot(df_D)"
      ],
      "execution_count": 0,
      "outputs": [
        {
          "output_type": "execute_result",
          "data": {
            "text/plain": [
              "[<matplotlib.lines.Line2D at 0x7f1b32ed5630>]"
            ]
          },
          "metadata": {
            "tags": []
          },
          "execution_count": 57
        },
        {
          "output_type": "display_data",
          "data": {
            "image/png": "[encoded data removed]",
            "text/plain": [
              "<Figure size 720x432 with 1 Axes>"
            ]
          },
          "metadata": {
            "tags": []
          }
        }
      ]
    },
    {
      "metadata": {
        "id": "bPnEx6Eumn_m",
        "colab_type": "text"
      },
      "cell_type": "markdown",
      "source": [
        "#### (D) Phillips–Perron test"
      ]
    },
    {
      "metadata": {
        "id": "sf3isCx6m_Wp",
        "colab_type": "code",
        "outputId": "ff3e1f03-1f80-43bf-ded0-9b67f8212325",
        "colab": {
          "base_uri": "https://localhost:8080/",
          "height": 221
        }
      },
      "cell_type": "code",
      "source": [
        "TestStationaryPP(df_D['Raw Conc.'])"
      ],
      "execution_count": 0,
      "outputs": [
        {
          "output_type": "stream",
          "text": [
            "Results of PP Test:\n",
            "     Phillips-Perron Test (Z-tau)    \n",
            "=====================================\n",
            "Test Statistic                -11.210\n",
            "P-value                         0.000\n",
            "Lags                               24\n",
            "-------------------------------------\n",
            "\n",
            "Trend: Constant\n",
            "Critical Values: -3.44 (1%), -2.86 (5%), -2.57 (10%)\n",
            "Null Hypothesis: The process contains a unit root.\n",
            "Alternative Hypothesis: The process is weakly stationary.\n"
          ],
          "name": "stdout"
        }
      ]
    },
    {
      "metadata": {
        "id": "MAEUEBPR-lrN",
        "colab_type": "text"
      },
      "cell_type": "markdown",
      "source": [
        "## 3. Stationary check on cleaned & filter data and Resample dataset on Weekly Basis"
      ]
    },
    {
      "metadata": {
        "id": "9RjQOIjR-r8K",
        "colab_type": "code",
        "outputId": "a93a3f19-9485-4455-89b3-57b466a9bf72",
        "colab": {
          "base_uri": "https://localhost:8080/",
          "height": 34
        }
      },
      "cell_type": "code",
      "source": [
        "df_W=df.resample('W').mean()\n",
        "df_W.dropna(inplace=True)\n",
        "print(len(df_W))"
      ],
      "execution_count": 0,
      "outputs": [
        {
          "output_type": "stream",
          "text": [
            "197\n"
          ],
          "name": "stdout"
        }
      ]
    },
    {
      "metadata": {
        "id": "lOBkUmQm-uZZ",
        "colab_type": "text"
      },
      "cell_type": "markdown",
      "source": [
        "#### (A) ADF test"
      ]
    },
    {
      "metadata": {
        "id": "k0dcoA8--xA5",
        "colab_type": "code",
        "outputId": "913a7fa7-6997-4e4f-f7cf-6e188652f509",
        "colab": {
          "base_uri": "https://localhost:8080/",
          "height": 170
        }
      },
      "cell_type": "code",
      "source": [
        "TestStationaryAdfuller(df_W)"
      ],
      "execution_count": 0,
      "outputs": [
        {
          "output_type": "stream",
          "text": [
            "Test Statistic                  -4.068030\n",
            "p-value                          0.001093\n",
            "#Lags Used                       9.000000\n",
            "Number of Observations Used    187.000000\n",
            "Critical Value (1%)             -3.465812\n",
            "Critical Value (5%)             -2.877123\n",
            "Critical Value (10%)            -2.575077\n",
            "dtype: float64\n",
            "Strong evidence against the null hypothesis, reject the null hypothesis. Data has no unit root, hence it is stationary\n"
          ],
          "name": "stdout"
        }
      ]
    },
    {
      "metadata": {
        "id": "8qaGmiXR-xI2",
        "colab_type": "text"
      },
      "cell_type": "markdown",
      "source": [
        "#### (B) KPSS test"
      ]
    },
    {
      "metadata": {
        "id": "QwgjOcAY-4__",
        "colab_type": "code",
        "outputId": "d7585f55-63cd-469e-b9dc-3c36a5a9ecfe",
        "colab": {
          "base_uri": "https://localhost:8080/",
          "height": 224
        }
      },
      "cell_type": "code",
      "source": [
        "TestStationaryKPSS(df_W['Raw Conc.'])"
      ],
      "execution_count": 0,
      "outputs": [
        {
          "output_type": "stream",
          "text": [
            "Results of KPSS Test:\n",
            "Test Statistic            0.040792\n",
            "p-value                   0.100000\n",
            "Lags Used                15.000000\n",
            "Critical Value (10%)      0.347000\n",
            "Critical Value (5%)       0.463000\n",
            "Critical Value (2.5%)     0.574000\n",
            "Critical Value (1%)       0.739000\n",
            "dtype: float64\n"
          ],
          "name": "stdout"
        },
        {
          "output_type": "stream",
          "text": [
            "/usr/local/lib/python3.6/dist-packages/statsmodels/tsa/stattools.py:1260: InterpolationWarning: p-value is greater than the indicated p-value\n",
            "  warn(\"p-value is greater than the indicated p-value\", InterpolationWarning)\n"
          ],
          "name": "stderr"
        }
      ]
    },
    {
      "metadata": {
        "id": "x-h5Y4Pe-850",
        "colab_type": "text"
      },
      "cell_type": "markdown",
      "source": [
        "**Result of test:**\n",
        "    For the air Raw Conc. data, the value of the test statistic is less than the critical value at all confidence intervals, \n",
        "    and hence we can say that the series is stationary."
      ]
    },
    {
      "metadata": {
        "id": "sEoVxPQE-5Za",
        "colab_type": "text"
      },
      "cell_type": "markdown",
      "source": [
        "#### (C) Test Stationary by Visualization"
      ]
    },
    {
      "metadata": {
        "id": "8AiglNhG_BTt",
        "colab_type": "code",
        "outputId": "ffbd8a6f-a696-4c8a-84dd-39155e4a52f0",
        "colab": {
          "base_uri": "https://localhost:8080/",
          "height": 405
        }
      },
      "cell_type": "code",
      "source": [
        "plt.xlabel(\"Date\")\n",
        "plt.ylabel(\"Raw Concentrations\")\n",
        "plt.plot(df_W)"
      ],
      "execution_count": 0,
      "outputs": [
        {
          "output_type": "execute_result",
          "data": {
            "text/plain": [
              "[<matplotlib.lines.Line2D at 0x7f1b330527f0>]"
            ]
          },
          "metadata": {
            "tags": []
          },
          "execution_count": 62
        },
        {
          "output_type": "display_data",
          "data": {
            "image/png": "[encoded data removed]",
            "text/plain": [
              "<Figure size 720x432 with 1 Axes>"
            ]
          },
          "metadata": {
            "tags": []
          }
        }
      ]
    },
    {
      "metadata": {
        "id": "sJcX8Q_Imr22",
        "colab_type": "text"
      },
      "cell_type": "markdown",
      "source": [
        "#### (D) Phillips–Perron test"
      ]
    },
    {
      "metadata": {
        "id": "cle4ihKOoHfr",
        "colab_type": "code",
        "outputId": "544fa79f-5628-4a8c-ddc9-f03573711102",
        "colab": {
          "base_uri": "https://localhost:8080/",
          "height": 221
        }
      },
      "cell_type": "code",
      "source": [
        "TestStationaryPP(df_W['Raw Conc.'])"
      ],
      "execution_count": 0,
      "outputs": [
        {
          "output_type": "stream",
          "text": [
            "Results of PP Test:\n",
            "     Phillips-Perron Test (Z-tau)    \n",
            "=====================================\n",
            "Test Statistic                 -3.630\n",
            "P-value                         0.005\n",
            "Lags                               15\n",
            "-------------------------------------\n",
            "\n",
            "Trend: Constant\n",
            "Critical Values: -3.46 (1%), -2.88 (5%), -2.57 (10%)\n",
            "Null Hypothesis: The process contains a unit root.\n",
            "Alternative Hypothesis: The process is weakly stationary.\n"
          ],
          "name": "stdout"
        }
      ]
    },
    {
      "metadata": {
        "id": "zEOzz9GX_Bbz",
        "colab_type": "text"
      },
      "cell_type": "markdown",
      "source": [
        "## 3. Stationary check on cleaned & filter data and Resample dataset on Monthly Basis"
      ]
    },
    {
      "metadata": {
        "id": "S1BvX5bF_LUA",
        "colab_type": "code",
        "outputId": "981440ad-59e0-410d-db22-9e92e77eca60",
        "colab": {
          "base_uri": "https://localhost:8080/",
          "height": 34
        }
      },
      "cell_type": "code",
      "source": [
        "df_M=df.resample('M').mean()\n",
        "df_M.dropna(inplace=True)\n",
        "print(len(df_M))"
      ],
      "execution_count": 0,
      "outputs": [
        {
          "output_type": "stream",
          "text": [
            "46\n"
          ],
          "name": "stdout"
        }
      ]
    },
    {
      "metadata": {
        "id": "x2JV-CNZ_MNW",
        "colab_type": "text"
      },
      "cell_type": "markdown",
      "source": [
        "#### (A) ADF test"
      ]
    },
    {
      "metadata": {
        "id": "fJZHUKlQ_Owx",
        "colab_type": "code",
        "outputId": "58911b86-e750-4a32-b4e5-8335fb579181",
        "colab": {
          "base_uri": "https://localhost:8080/",
          "height": 170
        }
      },
      "cell_type": "code",
      "source": [
        "TestStationaryAdfuller(df_M)"
      ],
      "execution_count": 0,
      "outputs": [
        {
          "output_type": "stream",
          "text": [
            "Test Statistic                 -1.368940\n",
            "p-value                         0.597073\n",
            "#Lags Used                     10.000000\n",
            "Number of Observations Used    35.000000\n",
            "Critical Value (1%)            -3.632743\n",
            "Critical Value (5%)            -2.948510\n",
            "Critical Value (10%)           -2.613017\n",
            "dtype: float64\n",
            "Weak evidence against null hypothesis, time series has a unit root, indicating it is non-stationary \n"
          ],
          "name": "stdout"
        }
      ]
    },
    {
      "metadata": {
        "id": "zbvEOVXE_O47",
        "colab_type": "text"
      },
      "cell_type": "markdown",
      "source": [
        "#### (B) KPSS test"
      ]
    },
    {
      "metadata": {
        "id": "-ZCHSEFfAnjc",
        "colab_type": "code",
        "outputId": "6fc733d2-c4c8-43b6-ba5b-edeb069d7eee",
        "colab": {
          "base_uri": "https://localhost:8080/",
          "height": 224
        }
      },
      "cell_type": "code",
      "source": [
        "TestStationaryKPSS(df_M['Raw Conc.'])"
      ],
      "execution_count": 0,
      "outputs": [
        {
          "output_type": "stream",
          "text": [
            "Results of KPSS Test:\n",
            "Test Statistic            0.172061\n",
            "p-value                   0.100000\n",
            "Lags Used                10.000000\n",
            "Critical Value (10%)      0.347000\n",
            "Critical Value (5%)       0.463000\n",
            "Critical Value (2.5%)     0.574000\n",
            "Critical Value (1%)       0.739000\n",
            "dtype: float64\n"
          ],
          "name": "stdout"
        },
        {
          "output_type": "stream",
          "text": [
            "/usr/local/lib/python3.6/dist-packages/statsmodels/tsa/stattools.py:1260: InterpolationWarning: p-value is greater than the indicated p-value\n",
            "  warn(\"p-value is greater than the indicated p-value\", InterpolationWarning)\n"
          ],
          "name": "stderr"
        }
      ]
    },
    {
      "metadata": {
        "id": "0JCBxx0OAylg",
        "colab_type": "text"
      },
      "cell_type": "markdown",
      "source": [
        "**Result of KPSS test:**\n",
        "    For the air Raw Conc. data, the value of the test statistic is less than the critical value at all confidence intervals, \n",
        "    and hence we can say that the series is stationary."
      ]
    },
    {
      "metadata": {
        "id": "nDoWUo7CAn5e",
        "colab_type": "text"
      },
      "cell_type": "markdown",
      "source": [
        "#### (C) Test Stationary by Visualization"
      ]
    },
    {
      "metadata": {
        "id": "85xiMKVMA9gH",
        "colab_type": "code",
        "outputId": "543cbf76-3e92-4610-9676-225955c38ce5",
        "colab": {
          "base_uri": "https://localhost:8080/",
          "height": 405
        }
      },
      "cell_type": "code",
      "source": [
        "plt.xlabel(\"Date\")\n",
        "plt.ylabel(\"Raw Concentrations\")\n",
        "plt.plot(df_M)"
      ],
      "execution_count": 0,
      "outputs": [
        {
          "output_type": "execute_result",
          "data": {
            "text/plain": [
              "[<matplotlib.lines.Line2D at 0x7f1b32fb1940>]"
            ]
          },
          "metadata": {
            "tags": []
          },
          "execution_count": 67
        },
        {
          "output_type": "display_data",
          "data": {
            "image/png": "[encoded data removed]",
            "text/plain": [
              "<Figure size 720x432 with 1 Axes>"
            ]
          },
          "metadata": {
            "tags": []
          }
        }
      ]
    },
    {
      "metadata": {
        "id": "JlI9Nf4XmuJE",
        "colab_type": "text"
      },
      "cell_type": "markdown",
      "source": [
        "#### (D) Phillips–Perron test"
      ]
    },
    {
      "metadata": {
        "id": "a-bxBbljHoIR",
        "colab_type": "code",
        "outputId": "d0508283-129f-4b54-d2c3-2fabcb8eeafb",
        "colab": {
          "base_uri": "https://localhost:8080/",
          "height": 221
        }
      },
      "cell_type": "code",
      "source": [
        "TestStationaryPP(df_M['Raw Conc.'])"
      ],
      "execution_count": 0,
      "outputs": [
        {
          "output_type": "stream",
          "text": [
            "Results of PP Test:\n",
            "     Phillips-Perron Test (Z-tau)    \n",
            "=====================================\n",
            "Test Statistic                 -1.349\n",
            "P-value                         0.606\n",
            "Lags                               10\n",
            "-------------------------------------\n",
            "\n",
            "Trend: Constant\n",
            "Critical Values: -3.58 (1%), -2.93 (5%), -2.60 (10%)\n",
            "Null Hypothesis: The process contains a unit root.\n",
            "Alternative Hypothesis: The process is weakly stationary.\n"
          ],
          "name": "stdout"
        }
      ]
    },
    {
      "metadata": {
        "id": "LBdicgWdoSH2",
        "colab_type": "code",
        "colab": {}
      },
      "cell_type": "code",
      "source": [
        ""
      ],
      "execution_count": 0,
      "outputs": []
    }
  ]
}